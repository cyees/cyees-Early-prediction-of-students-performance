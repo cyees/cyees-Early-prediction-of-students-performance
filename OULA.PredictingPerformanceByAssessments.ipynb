{
 "cells": [
  {
   "cell_type": "code",
   "execution_count": 1,
   "metadata": {},
   "outputs": [
    {
     "name": "stdout",
     "output_type": "stream",
     "text": [
      "Package import Completed!\n"
     ]
    }
   ],
   "source": [
    "import torch\n",
    "import os\n",
    "import numpy as np\n",
    "import pandas as pd\n",
    "import sklearn as sk\n",
    "from imblearn.over_sampling import RandomOverSampler\n",
    "from tqdm import tqdm\n",
    "import seaborn as sns\n",
    "from pylab import rcParams\n",
    "import matplotlib.pyplot as plt\n",
    "from matplotlib import rc\n",
    "from sklearn.model_selection import train_test_split\n",
    "from sklearn.metrics import confusion_matrix, classification_report\n",
    "from torch import nn, optim\n",
    "import torch.nn.functional as F\n",
    "RANDOM_SEED = 42\n",
    "np.random.seed(RANDOM_SEED)\n",
    "torch.manual_seed(RANDOM_SEED)\n",
    "from torch.utils.data import Dataset,DataLoader\n",
    "print('Package import Completed!')\n",
    "\n",
    "def props_to_onehot(props):\n",
    "    props=props.detach().numpy()\n",
    "    a=np.argmax(props,axis=1)\n",
    "    b=np.zeros((len(a),props.shape[1]))\n",
    "    b[np.arange(len(a)),a]=1\n",
    "    return b"
   ]
  },
  {
   "cell_type": "code",
   "execution_count": 3,
   "metadata": {},
   "outputs": [],
   "source": [
    "filePath='OULA.DataSet\\\\'\n",
    "df_stuAss=pd.read_csv(filePath + 'studentAssessment.csv')\n",
    "df_stuAss['score'].fillna(0,inplace=True)\n",
    "df_Ass=pd.read_csv(filePath + 'Assessments.csv')\n",
    "df_Courses=pd.read_csv(filePath + 'courses.csv')\n",
    "df_Stu=pd.read_csv(filePath + 'studentInfo.csv')\n",
    "df_stuAss=pd.merge(df_stuAss,df_Ass,on='id_assessment')\n",
    "df_stuAss=pd.merge(df_stuAss,df_Stu,on=['id_student','code_module','code_presentation'])\n",
    "#df_stuAss.head()"
   ]
  },
  {
   "cell_type": "code",
   "execution_count": 10,
   "metadata": {
    "scrolled": false
   },
   "outputs": [
    {
     "name": "stdout",
     "output_type": "stream",
     "text": [
      "AAA,2013J Start...\n",
      "AAA,2013J Report Start...\n"
     ]
    },
    {
     "name": "stderr",
     "output_type": "stream",
     "text": [
      "C:\\Users\\Xiaoven\\Anaconda3\\lib\\site-packages\\sklearn\\metrics\\_classification.py:1318: UndefinedMetricWarning: Precision is ill-defined and being set to 0.0 in labels with no predicted samples. Use `zero_division` parameter to control this behavior.\n",
      "  _warn_prf(average, modifier, msg_start, len(result))\n"
     ]
    },
    {
     "name": "stdout",
     "output_type": "stream",
     "text": [
      "Accuracy: 0.8152173913043478\n",
      "AAA,2014J Start...\n",
      "AAA,2014J Report Start...\n"
     ]
    },
    {
     "name": "stderr",
     "output_type": "stream",
     "text": [
      "C:\\Users\\Xiaoven\\Anaconda3\\lib\\site-packages\\sklearn\\metrics\\_classification.py:1318: UndefinedMetricWarning: Precision is ill-defined and being set to 0.0 in labels with no predicted samples. Use `zero_division` parameter to control this behavior.\n",
      "  _warn_prf(average, modifier, msg_start, len(result))\n"
     ]
    },
    {
     "name": "stdout",
     "output_type": "stream",
     "text": [
      "Accuracy: 0.8\n",
      "BBB,2013J Start...\n",
      "BBB,2013J Report Start...\n"
     ]
    },
    {
     "name": "stderr",
     "output_type": "stream",
     "text": [
      "C:\\Users\\Xiaoven\\Anaconda3\\lib\\site-packages\\sklearn\\metrics\\_classification.py:1318: UndefinedMetricWarning: Precision is ill-defined and being set to 0.0 in labels with no predicted samples. Use `zero_division` parameter to control this behavior.\n",
      "  _warn_prf(average, modifier, msg_start, len(result))\n"
     ]
    },
    {
     "name": "stdout",
     "output_type": "stream",
     "text": [
      "Accuracy: 0.6378504672897196\n",
      "BBB,2014J Start...\n",
      "BBB,2014J Report Start...\n"
     ]
    },
    {
     "name": "stderr",
     "output_type": "stream",
     "text": [
      "C:\\Users\\Xiaoven\\Anaconda3\\lib\\site-packages\\sklearn\\metrics\\_classification.py:1318: UndefinedMetricWarning: Precision is ill-defined and being set to 0.0 in labels with no predicted samples. Use `zero_division` parameter to control this behavior.\n",
      "  _warn_prf(average, modifier, msg_start, len(result))\n"
     ]
    },
    {
     "name": "stdout",
     "output_type": "stream",
     "text": [
      "Accuracy: 0.6904231625835189\n",
      "BBB,2013B Start...\n",
      "BBB,2013B Report Start...\n"
     ]
    },
    {
     "name": "stderr",
     "output_type": "stream",
     "text": [
      "C:\\Users\\Xiaoven\\Anaconda3\\lib\\site-packages\\sklearn\\metrics\\_classification.py:1318: UndefinedMetricWarning: Precision is ill-defined and being set to 0.0 in labels with no predicted samples. Use `zero_division` parameter to control this behavior.\n",
      "  _warn_prf(average, modifier, msg_start, len(result))\n"
     ]
    },
    {
     "name": "stdout",
     "output_type": "stream",
     "text": [
      "Accuracy: 0.5801749271137027\n",
      "BBB,2014B Start...\n",
      "BBB,2014B Report Start...\n"
     ]
    },
    {
     "name": "stderr",
     "output_type": "stream",
     "text": [
      "C:\\Users\\Xiaoven\\Anaconda3\\lib\\site-packages\\sklearn\\metrics\\_classification.py:1318: UndefinedMetricWarning: Precision is ill-defined and being set to 0.0 in labels with no predicted samples. Use `zero_division` parameter to control this behavior.\n",
      "  _warn_prf(average, modifier, msg_start, len(result))\n"
     ]
    },
    {
     "name": "stdout",
     "output_type": "stream",
     "text": [
      "Accuracy: 0.5993377483443708\n",
      "CCC,2014J Start...\n",
      "CCC,2014J Report Start...\n"
     ]
    },
    {
     "name": "stderr",
     "output_type": "stream",
     "text": [
      "C:\\Users\\Xiaoven\\Anaconda3\\lib\\site-packages\\sklearn\\metrics\\_classification.py:1318: UndefinedMetricWarning: Precision is ill-defined and being set to 0.0 in labels with no predicted samples. Use `zero_division` parameter to control this behavior.\n",
      "  _warn_prf(average, modifier, msg_start, len(result))\n"
     ]
    },
    {
     "name": "stdout",
     "output_type": "stream",
     "text": [
      "Accuracy: 0.63\n",
      "CCC,2014B Start...\n",
      "CCC,2014B Report Start...\n"
     ]
    },
    {
     "name": "stderr",
     "output_type": "stream",
     "text": [
      "C:\\Users\\Xiaoven\\Anaconda3\\lib\\site-packages\\sklearn\\metrics\\_classification.py:1318: UndefinedMetricWarning: Precision is ill-defined and being set to 0.0 in labels with no predicted samples. Use `zero_division` parameter to control this behavior.\n",
      "  _warn_prf(average, modifier, msg_start, len(result))\n"
     ]
    },
    {
     "name": "stdout",
     "output_type": "stream",
     "text": [
      "Accuracy: 0.6129943502824858\n",
      "DDD,2013J Start...\n",
      "DDD,2013J Report Start...\n"
     ]
    },
    {
     "name": "stderr",
     "output_type": "stream",
     "text": [
      "C:\\Users\\Xiaoven\\Anaconda3\\lib\\site-packages\\sklearn\\metrics\\_classification.py:1318: UndefinedMetricWarning: Precision is ill-defined and being set to 0.0 in labels with no predicted samples. Use `zero_division` parameter to control this behavior.\n",
      "  _warn_prf(average, modifier, msg_start, len(result))\n"
     ]
    },
    {
     "name": "stdout",
     "output_type": "stream",
     "text": [
      "Accuracy: 0.6710875331564987\n",
      "DDD,2014J Start...\n",
      "DDD,2014J Report Start...\n"
     ]
    },
    {
     "name": "stderr",
     "output_type": "stream",
     "text": [
      "C:\\Users\\Xiaoven\\Anaconda3\\lib\\site-packages\\sklearn\\metrics\\_classification.py:1318: UndefinedMetricWarning: Precision is ill-defined and being set to 0.0 in labels with no predicted samples. Use `zero_division` parameter to control this behavior.\n",
      "  _warn_prf(average, modifier, msg_start, len(result))\n"
     ]
    },
    {
     "name": "stdout",
     "output_type": "stream",
     "text": [
      "Accuracy: 0.7002801120448179\n",
      "DDD,2013B Start...\n",
      "DDD,2013B Report Start...\n"
     ]
    },
    {
     "name": "stderr",
     "output_type": "stream",
     "text": [
      "C:\\Users\\Xiaoven\\Anaconda3\\lib\\site-packages\\sklearn\\metrics\\_classification.py:1318: UndefinedMetricWarning: Precision is ill-defined and being set to 0.0 in labels with no predicted samples. Use `zero_division` parameter to control this behavior.\n",
      "  _warn_prf(average, modifier, msg_start, len(result))\n"
     ]
    },
    {
     "name": "stdout",
     "output_type": "stream",
     "text": [
      "Accuracy: 0.5880149812734082\n",
      "DDD,2014B Start...\n",
      "DDD,2014B Report Start...\n"
     ]
    },
    {
     "name": "stderr",
     "output_type": "stream",
     "text": [
      "C:\\Users\\Xiaoven\\Anaconda3\\lib\\site-packages\\sklearn\\metrics\\_classification.py:1318: UndefinedMetricWarning: Precision is ill-defined and being set to 0.0 in labels with no predicted samples. Use `zero_division` parameter to control this behavior.\n",
      "  _warn_prf(average, modifier, msg_start, len(result))\n"
     ]
    },
    {
     "name": "stdout",
     "output_type": "stream",
     "text": [
      "Accuracy: 0.5466101694915254\n",
      "EEE,2013J Start...\n",
      "EEE,2013J Report Start...\n"
     ]
    },
    {
     "name": "stderr",
     "output_type": "stream",
     "text": [
      "C:\\Users\\Xiaoven\\Anaconda3\\lib\\site-packages\\sklearn\\metrics\\_classification.py:1318: UndefinedMetricWarning: Precision is ill-defined and being set to 0.0 in labels with no predicted samples. Use `zero_division` parameter to control this behavior.\n",
      "  _warn_prf(average, modifier, msg_start, len(result))\n"
     ]
    },
    {
     "name": "stdout",
     "output_type": "stream",
     "text": [
      "Accuracy: 0.6376811594202898\n",
      "EEE,2014J Start...\n",
      "EEE,2014J Report Start...\n"
     ]
    },
    {
     "name": "stderr",
     "output_type": "stream",
     "text": [
      "C:\\Users\\Xiaoven\\Anaconda3\\lib\\site-packages\\sklearn\\metrics\\_classification.py:1318: UndefinedMetricWarning: Precision is ill-defined and being set to 0.0 in labels with no predicted samples. Use `zero_division` parameter to control this behavior.\n",
      "  _warn_prf(average, modifier, msg_start, len(result))\n"
     ]
    },
    {
     "name": "stdout",
     "output_type": "stream",
     "text": [
      "Accuracy: 0.6666666666666666\n",
      "EEE,2014B Start...\n",
      "EEE,2014B Report Start...\n"
     ]
    },
    {
     "name": "stderr",
     "output_type": "stream",
     "text": [
      "C:\\Users\\Xiaoven\\Anaconda3\\lib\\site-packages\\sklearn\\metrics\\_classification.py:1318: UndefinedMetricWarning: Precision is ill-defined and being set to 0.0 in labels with no predicted samples. Use `zero_division` parameter to control this behavior.\n",
      "  _warn_prf(average, modifier, msg_start, len(result))\n"
     ]
    },
    {
     "name": "stdout",
     "output_type": "stream",
     "text": [
      "Accuracy: 0.6865671641791045\n",
      "FFF,2013J Start...\n",
      "FFF,2013J Report Start...\n"
     ]
    },
    {
     "name": "stderr",
     "output_type": "stream",
     "text": [
      "C:\\Users\\Xiaoven\\Anaconda3\\lib\\site-packages\\sklearn\\metrics\\_classification.py:1318: UndefinedMetricWarning: Precision is ill-defined and being set to 0.0 in labels with no predicted samples. Use `zero_division` parameter to control this behavior.\n",
      "  _warn_prf(average, modifier, msg_start, len(result))\n"
     ]
    },
    {
     "name": "stdout",
     "output_type": "stream",
     "text": [
      "Accuracy: 0.673773987206823\n",
      "FFF,2014J Start...\n",
      "FFF,2014J Report Start...\n"
     ]
    },
    {
     "name": "stderr",
     "output_type": "stream",
     "text": [
      "C:\\Users\\Xiaoven\\Anaconda3\\lib\\site-packages\\sklearn\\metrics\\_classification.py:1318: UndefinedMetricWarning: Precision is ill-defined and being set to 0.0 in labels with no predicted samples. Use `zero_division` parameter to control this behavior.\n",
      "  _warn_prf(average, modifier, msg_start, len(result))\n"
     ]
    },
    {
     "name": "stdout",
     "output_type": "stream",
     "text": [
      "Accuracy: 0.6876355748373102\n",
      "FFF,2013B Start...\n",
      "FFF,2013B Report Start...\n"
     ]
    },
    {
     "name": "stderr",
     "output_type": "stream",
     "text": [
      "C:\\Users\\Xiaoven\\Anaconda3\\lib\\site-packages\\sklearn\\metrics\\_classification.py:1318: UndefinedMetricWarning: Precision is ill-defined and being set to 0.0 in labels with no predicted samples. Use `zero_division` parameter to control this behavior.\n",
      "  _warn_prf(average, modifier, msg_start, len(result))\n"
     ]
    },
    {
     "name": "stdout",
     "output_type": "stream",
     "text": [
      "Accuracy: 0.685131195335277\n",
      "FFF,2014B Start...\n",
      "FFF,2014B Report Start...\n"
     ]
    },
    {
     "name": "stderr",
     "output_type": "stream",
     "text": [
      "C:\\Users\\Xiaoven\\Anaconda3\\lib\\site-packages\\sklearn\\metrics\\_classification.py:1318: UndefinedMetricWarning: Precision is ill-defined and being set to 0.0 in labels with no predicted samples. Use `zero_division` parameter to control this behavior.\n",
      "  _warn_prf(average, modifier, msg_start, len(result))\n"
     ]
    },
    {
     "name": "stdout",
     "output_type": "stream",
     "text": [
      "Accuracy: 0.6556291390728477\n",
      "GGG,2013J Start...\n",
      "GGG,2013J Report Start...\n"
     ]
    },
    {
     "name": "stderr",
     "output_type": "stream",
     "text": [
      "C:\\Users\\Xiaoven\\Anaconda3\\lib\\site-packages\\sklearn\\metrics\\_classification.py:1318: UndefinedMetricWarning: Precision is ill-defined and being set to 0.0 in labels with no predicted samples. Use `zero_division` parameter to control this behavior.\n",
      "  _warn_prf(average, modifier, msg_start, len(result))\n"
     ]
    },
    {
     "name": "stdout",
     "output_type": "stream",
     "text": [
      "Accuracy: 0.7073170731707317\n",
      "GGG,2014J Start...\n",
      "GGG,2014J Report Start...\n"
     ]
    },
    {
     "name": "stderr",
     "output_type": "stream",
     "text": [
      "C:\\Users\\Xiaoven\\Anaconda3\\lib\\site-packages\\sklearn\\metrics\\_classification.py:1318: UndefinedMetricWarning: Precision is ill-defined and being set to 0.0 in labels with no predicted samples. Use `zero_division` parameter to control this behavior.\n",
      "  _warn_prf(average, modifier, msg_start, len(result))\n"
     ]
    },
    {
     "name": "stdout",
     "output_type": "stream",
     "text": [
      "Accuracy: 0.6821192052980133\n",
      "GGG,2014B Start...\n",
      "GGG,2014B Report Start...\n"
     ]
    },
    {
     "name": "stderr",
     "output_type": "stream",
     "text": [
      "C:\\Users\\Xiaoven\\Anaconda3\\lib\\site-packages\\sklearn\\metrics\\_classification.py:1318: UndefinedMetricWarning: Precision is ill-defined and being set to 0.0 in labels with no predicted samples. Use `zero_division` parameter to control this behavior.\n",
      "  _warn_prf(average, modifier, msg_start, len(result))\n"
     ]
    },
    {
     "name": "stdout",
     "output_type": "stream",
     "text": [
      "Accuracy: 0.6416184971098265\n"
     ]
    }
   ],
   "source": [
    "test_percent=0.25\n",
    "batch_size=200\n",
    "learnrate=0.001\n",
    "countEpoch=500\n",
    "\n",
    "lossList=[];\n",
    "res=[];\n",
    "for index,course in df_Courses.iterrows():\n",
    "    print(course['code_module'] + ',' + course['code_presentation'] + ' Start...')\n",
    "    thisCourseLoss=[]\n",
    "    thisCourseLoss.append(course['code_module']+'_'+course['code_presentation'])\n",
    "    df_CurrentCourse=df_stuAss[(df_stuAss['code_module']==course['code_module']) & (df_stuAss['code_presentation']==course['code_presentation'])]\n",
    "    \n",
    "    df_CurrentCourse=df_CurrentCourse.loc[:,['id_student','date_submitted','score','final_result']]\n",
    "    \n",
    "    countStu=len(df_CurrentCourse['id_student'].unique())\n",
    "    maxAssessCount=df_CurrentCourse.groupby('id_student').count()['score'].max()\n",
    "    \n",
    "    listCurrentStu=[]\n",
    "    listFinalRes=[]\n",
    "    finalRes='None'\n",
    "    for id in df_CurrentCourse['id_student'].unique():\n",
    "        df_id_ass=df_CurrentCourse[df_CurrentCourse['id_student']==id]\n",
    "        df_id_ass=df_id_ass.sort_values(by='date_submitted',ascending=True)\n",
    "        newlist = []\n",
    "        record=[]\n",
    "        for index,row in df_id_ass.iterrows():\n",
    "            newlist.append(row['score'])\n",
    "            finalRes=row['final_result']\n",
    "        newlist += [0]*(maxAssessCount-len(newlist))\n",
    "        listCurrentStu.append(newlist)\n",
    "        listFinalRes.append(finalRes)  \n",
    "    \n",
    "    ls_x,ls_test_x,ls_y,ls_testy = train_test_split(listCurrentStu,listFinalRes,test_size=test_percent)\n",
    "    train_input = torch.Tensor(ls_x)\n",
    "    train_target=torch.from_numpy(np.array(pd.get_dummies(pd.Series(ls_y))))\n",
    "    test_input = torch.Tensor(ls_test_x)\n",
    "    test_target=torch.from_numpy(np.array(pd.get_dummies(pd.Series(ls_testy))))\n",
    "    \n",
    "    countFeatures=train_input.size()[1] \n",
    "    countTargets=train_target.size()[1] \n",
    "    \n",
    "    class MData(Dataset):\n",
    "        def __init__(self,x,y):\n",
    "            self.data=x\n",
    "            self._x=x\n",
    "            self._y=y\n",
    "        def __getitem__(self,index):\n",
    "            return self._x[index].to(torch.float32),self._y[index].to(torch.float32)\n",
    "        def __len__(self):\n",
    "            return len(self.data)\n",
    "        \n",
    "    mydata=MData(train_input,train_target)\n",
    "    dataloader=DataLoader(mydata,batch_size=batch_size,shuffle=False,drop_last=False,num_workers=0)\n",
    "\n",
    "    class FNN(nn.Module):\n",
    "        def __init__(self, input_dim):\n",
    "            super(FNN, self).__init__()\n",
    "            self.net = nn.Sequential(\n",
    "                nn.Linear(input_dim, input_dim),\n",
    "                nn.ReLU(),\n",
    "                nn.Linear(input_dim, 512),\n",
    "                nn.ReLU(),\n",
    "                nn.Linear(512, 256),\n",
    "                nn.ReLU(),\n",
    "                nn.Linear(256, 128),\n",
    "                nn.ReLU(),\n",
    "                nn.Linear(128, 64),\n",
    "                nn.ReLU(),\n",
    "                nn.Linear(64, countTargets),\n",
    "                nn.Softmax(dim=1)\n",
    "            )\n",
    "            self.criterion = nn.CrossEntropyLoss()\n",
    "        def forward(self, x):\n",
    "            return self.net(x)\n",
    "    \n",
    "    model=FNN(countFeatures)\n",
    "    optimizer = torch.optim.Adam(model.parameters(),lr=learnrate)\n",
    "    for epoch in range(countEpoch):\n",
    "        for i,data in enumerate(dataloader):\n",
    "            x,y=data\n",
    "            if (RNN):\n",
    "                x=x.reshape(-1,countFeatures,1)\n",
    "            yhat=model(x)\n",
    "            loss=model.criterion(yhat,y)\n",
    "            optimizer.zero_grad()\n",
    "            loss.backward()\n",
    "            optimizer.step()\n",
    "        testloss=model.criterion(model(train_input),train_target.to(torch.float32))\n",
    "        thisCourseLoss.append(testloss.item())\n",
    "\n",
    "    model.eval()\n",
    "    test_y=model(test_input)\n",
    "    test_y=props_to_onehot(test_y)\n",
    "    \n",
    "    resThisCourse=[]\n",
    "    print(course['code_module'] + ',' + course['code_presentation'] + ' Report Start...')\n",
    "    resThisCourse.append(course['code_module'] + '_' + course['code_presentation'])\n",
    "    resThisCourse.append(sk.metrics.accuracy_score(test_target,test_y))\n",
    "    resThisCourse.append(sk.metrics.precision_score(test_target,test_y,average='macro'))\n",
    "    resThisCourse.append(sk.metrics.recall_score(test_target,test_y,average='macro'))\n",
    "    resThisCourse.append(sk.metrics.f1_score(test_target,test_y,average='macro'))\n",
    "    print('Accuracy: ' + str(sk.metrics.accuracy_score(test_target,test_y)))\n",
    "    res.append(resThisCourse)\n",
    "    lossList.append(thisCourseLoss)\n",
    "dfRes=pd.DataFrame(res)\n",
    "dfRes.to_csv(\"OULA.Exp.Res\\\\Assessments.Res.csv\",index=False)"
   ]
  },
  {
   "cell_type": "code",
   "execution_count": null,
   "metadata": {},
   "outputs": [],
   "source": []
  },
  {
   "cell_type": "code",
   "execution_count": null,
   "metadata": {},
   "outputs": [],
   "source": []
  },
  {
   "cell_type": "code",
   "execution_count": null,
   "metadata": {},
   "outputs": [],
   "source": []
  },
  {
   "cell_type": "code",
   "execution_count": null,
   "metadata": {},
   "outputs": [],
   "source": []
  }
 ],
 "metadata": {
  "kernelspec": {
   "display_name": "Python 3",
   "language": "python",
   "name": "python3"
  },
  "language_info": {
   "codemirror_mode": {
    "name": "ipython",
    "version": 3
   },
   "file_extension": ".py",
   "mimetype": "text/x-python",
   "name": "python",
   "nbconvert_exporter": "python",
   "pygments_lexer": "ipython3",
   "version": "3.7.0"
  }
 },
 "nbformat": 4,
 "nbformat_minor": 5
}
