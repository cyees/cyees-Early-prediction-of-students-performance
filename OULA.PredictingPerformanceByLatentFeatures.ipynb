{
 "cells": [
  {
   "cell_type": "code",
   "execution_count": 1,
   "metadata": {},
   "outputs": [
    {
     "data": {
      "text/plain": [
       "device(type='cuda', index=0)"
      ]
     },
     "execution_count": 1,
     "metadata": {},
     "output_type": "execute_result"
    }
   ],
   "source": [
    "import torch\n",
    "import os\n",
    "import numpy as np\n",
    "import pandas as pd\n",
    "import sklearn as sk\n",
    "from sklearn import preprocessing\n",
    "from imblearn.over_sampling import RandomOverSampler\n",
    "from imblearn.over_sampling import SMOTE\n",
    "from imblearn.over_sampling import KMeansSMOTE\n",
    "\n",
    "from tqdm import tqdm\n",
    "import seaborn as sns\n",
    "from pylab import rcParams\n",
    "import matplotlib.pyplot as plt\n",
    "from matplotlib import rc\n",
    "from sklearn.model_selection import train_test_split\n",
    "from sklearn.metrics import confusion_matrix, classification_report\n",
    "from torch import nn, optim\n",
    "import torch.nn.functional as F\n",
    "RANDOM_SEED = 42\n",
    "np.random.seed(RANDOM_SEED)\n",
    "torch.manual_seed(RANDOM_SEED)\n",
    "from torch.utils.data import Dataset,DataLoader\n",
    "import gc\n",
    "from sklearn.cluster import KMeans\n",
    "from sklearn.cluster import SpectralClustering\n",
    "import matplotlib.pyplot as plt\n",
    "from mpl_toolkits.mplot3d import Axes3D\n",
    "device = torch.device(\"cuda:0\" if torch.cuda.is_available() else \"cpu\")\n",
    "device"
   ]
  },
  {
   "cell_type": "code",
   "execution_count": 2,
   "metadata": {},
   "outputs": [],
   "source": [
    "import os\n",
    "def readDir(dirPath):\n",
    "    if dirPath[-1] == '/':\n",
    "        print(u'errorpath/')\n",
    "        return\n",
    "    allFiles = []\n",
    "    if os.path.isdir(dirPath):\n",
    "        fileList = os.listdir(dirPath)\n",
    "        for f in fileList:\n",
    "            f = dirPath+'/'+f\n",
    "            if os.path.isdir(f):\n",
    "                subFiles = readDir(f)\n",
    "                allFiles = subFiles + allFiles \n",
    "            else:\n",
    "                allFiles.append(f)\n",
    "        return allFiles\n",
    "    else:\n",
    "        return 'Error,not a dir'\n",
    "    \n",
    "def props_to_onehot(props):\n",
    "    props=props.detach().cpu().numpy()\n",
    "    a=np.argmax(props,axis=1)\n",
    "    b=np.zeros((len(a),props.shape[1]))\n",
    "    b[np.arange(len(a)),a]=1\n",
    "    return b"
   ]
  },
  {
   "cell_type": "code",
   "execution_count": 4,
   "metadata": {},
   "outputs": [
    {
     "name": "stdout",
     "output_type": "stream",
     "text": [
      "AAA_2013J-12\n"
     ]
    },
    {
     "name": "stderr",
     "output_type": "stream",
     "text": [
      "C:\\Users\\Xiaoven\\Anaconda3\\lib\\site-packages\\sklearn\\cluster\\_kmeans.py:1044: UserWarning: MiniBatchKMeans is known to have a memory leak on Windows with MKL, when there are less chunks than available threads. You can prevent it by setting batch_size >= 2048 or by setting the environment variable OMP_NUM_THREADS=2\n",
      "  \"MiniBatchKMeans is known to have a memory leak on \"\n",
      "C:\\Users\\Xiaoven\\Anaconda3\\lib\\site-packages\\sklearn\\cluster\\_kmeans.py:1044: UserWarning: MiniBatchKMeans is known to have a memory leak on Windows with MKL, when there are less chunks than available threads. You can prevent it by setting batch_size >= 2048 or by setting the environment variable OMP_NUM_THREADS=2\n",
      "  \"MiniBatchKMeans is known to have a memory leak on \"\n",
      "C:\\Users\\Xiaoven\\Anaconda3\\lib\\site-packages\\sklearn\\cluster\\_kmeans.py:1044: UserWarning: MiniBatchKMeans is known to have a memory leak on Windows with MKL, when there are less chunks than available threads. You can prevent it by setting batch_size >= 2048 or by setting the environment variable OMP_NUM_THREADS=2\n",
      "  \"MiniBatchKMeans is known to have a memory leak on \"\n"
     ]
    },
    {
     "name": "stdout",
     "output_type": "stream",
     "text": [
      "torch.Size([777, 12]) torch.Size([777, 4]) torch.Size([95, 12]) torch.Size([95, 4])\n",
      "Epoch 0.loss:1.3818368911743164\n",
      "Epoch 100.loss:0.9081253409385681\n",
      "Epoch 200.loss:0.9347513318061829\n",
      "Epoch 300.loss:0.9491334557533264\n",
      "Epoch 400.loss:0.8922344446182251\n",
      "Accuracy: 0.5789473684210527\n",
      "Precision: 0.3476890756302521\n",
      "Recall: 0.35121984649122806\n",
      "f1_score: 0.34091826808362236\n",
      "AAA_2013J-18\n"
     ]
    },
    {
     "name": "stderr",
     "output_type": "stream",
     "text": [
      "C:\\Users\\Xiaoven\\Anaconda3\\lib\\site-packages\\sklearn\\cluster\\_kmeans.py:1044: UserWarning: MiniBatchKMeans is known to have a memory leak on Windows with MKL, when there are less chunks than available threads. You can prevent it by setting batch_size >= 2048 or by setting the environment variable OMP_NUM_THREADS=2\n",
      "  \"MiniBatchKMeans is known to have a memory leak on \"\n",
      "C:\\Users\\Xiaoven\\Anaconda3\\lib\\site-packages\\sklearn\\cluster\\_kmeans.py:1044: UserWarning: MiniBatchKMeans is known to have a memory leak on Windows with MKL, when there are less chunks than available threads. You can prevent it by setting batch_size >= 2048 or by setting the environment variable OMP_NUM_THREADS=2\n",
      "  \"MiniBatchKMeans is known to have a memory leak on \"\n",
      "C:\\Users\\Xiaoven\\Anaconda3\\lib\\site-packages\\sklearn\\cluster\\_kmeans.py:1044: UserWarning: MiniBatchKMeans is known to have a memory leak on Windows with MKL, when there are less chunks than available threads. You can prevent it by setting batch_size >= 2048 or by setting the environment variable OMP_NUM_THREADS=2\n",
      "  \"MiniBatchKMeans is known to have a memory leak on \"\n"
     ]
    },
    {
     "name": "stdout",
     "output_type": "stream",
     "text": [
      "torch.Size([749, 18]) torch.Size([749, 4]) torch.Size([95, 18]) torch.Size([95, 4])\n",
      "Epoch 0.loss:1.380088210105896\n",
      "Epoch 100.loss:1.0020257234573364\n",
      "Epoch 200.loss:0.968529224395752\n",
      "Epoch 300.loss:0.9329368472099304\n",
      "Epoch 400.loss:0.9195305109024048\n",
      "Accuracy: 0.6210526315789474\n",
      "Precision: 0.5189655172413793\n",
      "Recall: 0.4606807511737089\n",
      "f1_score: 0.4431047448176475\n",
      "AAA_2013J-24\n"
     ]
    },
    {
     "name": "stderr",
     "output_type": "stream",
     "text": [
      "C:\\Users\\Xiaoven\\Anaconda3\\lib\\site-packages\\sklearn\\cluster\\_kmeans.py:1044: UserWarning: MiniBatchKMeans is known to have a memory leak on Windows with MKL, when there are less chunks than available threads. You can prevent it by setting batch_size >= 2048 or by setting the environment variable OMP_NUM_THREADS=2\n",
      "  \"MiniBatchKMeans is known to have a memory leak on \"\n"
     ]
    },
    {
     "name": "stdout",
     "output_type": "stream",
     "text": [
      "AAA_2013J-32\n"
     ]
    },
    {
     "name": "stderr",
     "output_type": "stream",
     "text": [
      "C:\\Users\\Xiaoven\\Anaconda3\\lib\\site-packages\\sklearn\\cluster\\_kmeans.py:1044: UserWarning: MiniBatchKMeans is known to have a memory leak on Windows with MKL, when there are less chunks than available threads. You can prevent it by setting batch_size >= 2048 or by setting the environment variable OMP_NUM_THREADS=2\n",
      "  \"MiniBatchKMeans is known to have a memory leak on \"\n",
      "C:\\Users\\Xiaoven\\Anaconda3\\lib\\site-packages\\sklearn\\cluster\\_kmeans.py:1044: UserWarning: MiniBatchKMeans is known to have a memory leak on Windows with MKL, when there are less chunks than available threads. You can prevent it by setting batch_size >= 2048 or by setting the environment variable OMP_NUM_THREADS=2\n",
      "  \"MiniBatchKMeans is known to have a memory leak on \"\n",
      "C:\\Users\\Xiaoven\\Anaconda3\\lib\\site-packages\\sklearn\\cluster\\_kmeans.py:1044: UserWarning: MiniBatchKMeans is known to have a memory leak on Windows with MKL, when there are less chunks than available threads. You can prevent it by setting batch_size >= 2048 or by setting the environment variable OMP_NUM_THREADS=2\n",
      "  \"MiniBatchKMeans is known to have a memory leak on \"\n"
     ]
    },
    {
     "name": "stdout",
     "output_type": "stream",
     "text": [
      "torch.Size([768, 32]) torch.Size([768, 4]) torch.Size([95, 32]) torch.Size([95, 4])\n",
      "Epoch 0.loss:1.3839510679244995\n",
      "Epoch 100.loss:0.8635700941085815\n",
      "Epoch 200.loss:0.8595457077026367\n",
      "Epoch 300.loss:0.8567228317260742\n",
      "Epoch 400.loss:0.8553637266159058\n"
     ]
    },
    {
     "name": "stderr",
     "output_type": "stream",
     "text": [
      "C:\\Users\\Xiaoven\\Anaconda3\\lib\\site-packages\\sklearn\\metrics\\_classification.py:1318: UndefinedMetricWarning: Precision is ill-defined and being set to 0.0 in labels with no predicted samples. Use `zero_division` parameter to control this behavior.\n",
      "  _warn_prf(average, modifier, msg_start, len(result))\n"
     ]
    },
    {
     "name": "stdout",
     "output_type": "stream",
     "text": [
      "Accuracy: 0.6210526315789474\n"
     ]
    },
    {
     "name": "stderr",
     "output_type": "stream",
     "text": [
      "C:\\Users\\Xiaoven\\Anaconda3\\lib\\site-packages\\sklearn\\metrics\\_classification.py:1318: UndefinedMetricWarning: Precision is ill-defined and being set to 0.0 in labels with no predicted samples. Use `zero_division` parameter to control this behavior.\n",
      "  _warn_prf(average, modifier, msg_start, len(result))\n"
     ]
    },
    {
     "name": "stdout",
     "output_type": "stream",
     "text": [
      "Precision: 0.3195378151260504\n",
      "Recall: 0.37391774891774887\n",
      "f1_score: 0.34267576146417233\n",
      "AAA_2013J-48\n"
     ]
    },
    {
     "name": "stderr",
     "output_type": "stream",
     "text": [
      "C:\\Users\\Xiaoven\\Anaconda3\\lib\\site-packages\\sklearn\\cluster\\_kmeans.py:1044: UserWarning: MiniBatchKMeans is known to have a memory leak on Windows with MKL, when there are less chunks than available threads. You can prevent it by setting batch_size >= 2048 or by setting the environment variable OMP_NUM_THREADS=2\n",
      "  \"MiniBatchKMeans is known to have a memory leak on \"\n",
      "C:\\Users\\Xiaoven\\Anaconda3\\lib\\site-packages\\sklearn\\cluster\\_kmeans.py:1044: UserWarning: MiniBatchKMeans is known to have a memory leak on Windows with MKL, when there are less chunks than available threads. You can prevent it by setting batch_size >= 2048 or by setting the environment variable OMP_NUM_THREADS=2\n",
      "  \"MiniBatchKMeans is known to have a memory leak on \"\n",
      "C:\\Users\\Xiaoven\\Anaconda3\\lib\\site-packages\\sklearn\\cluster\\_kmeans.py:1044: UserWarning: MiniBatchKMeans is known to have a memory leak on Windows with MKL, when there are less chunks than available threads. You can prevent it by setting batch_size >= 2048 or by setting the environment variable OMP_NUM_THREADS=2\n",
      "  \"MiniBatchKMeans is known to have a memory leak on \"\n"
     ]
    },
    {
     "name": "stdout",
     "output_type": "stream",
     "text": [
      "torch.Size([777, 48]) torch.Size([777, 4]) torch.Size([95, 48]) torch.Size([95, 4])\n",
      "Epoch 0.loss:1.384852647781372\n",
      "Epoch 100.loss:0.8847261071205139\n",
      "Epoch 200.loss:0.8653290271759033\n",
      "Epoch 300.loss:0.8528343439102173\n",
      "Epoch 400.loss:0.8361606001853943\n",
      "Accuracy: 0.6210526315789474\n",
      "Precision: 0.44672131147540983\n",
      "Recall: 0.47291666666666665\n",
      "f1_score: 0.44719181585677753\n",
      "AAA_2013J-6.\n"
     ]
    },
    {
     "name": "stderr",
     "output_type": "stream",
     "text": [
      "C:\\Users\\Xiaoven\\Anaconda3\\lib\\site-packages\\sklearn\\cluster\\_kmeans.py:1044: UserWarning: MiniBatchKMeans is known to have a memory leak on Windows with MKL, when there are less chunks than available threads. You can prevent it by setting batch_size >= 2048 or by setting the environment variable OMP_NUM_THREADS=2\n",
      "  \"MiniBatchKMeans is known to have a memory leak on \"\n",
      "C:\\Users\\Xiaoven\\Anaconda3\\lib\\site-packages\\sklearn\\cluster\\_kmeans.py:1044: UserWarning: MiniBatchKMeans is known to have a memory leak on Windows with MKL, when there are less chunks than available threads. You can prevent it by setting batch_size >= 2048 or by setting the environment variable OMP_NUM_THREADS=2\n",
      "  \"MiniBatchKMeans is known to have a memory leak on \"\n",
      "C:\\Users\\Xiaoven\\Anaconda3\\lib\\site-packages\\sklearn\\cluster\\_kmeans.py:1044: UserWarning: MiniBatchKMeans is known to have a memory leak on Windows with MKL, when there are less chunks than available threads. You can prevent it by setting batch_size >= 2048 or by setting the environment variable OMP_NUM_THREADS=2\n",
      "  \"MiniBatchKMeans is known to have a memory leak on \"\n"
     ]
    },
    {
     "name": "stdout",
     "output_type": "stream",
     "text": [
      "torch.Size([797, 6]) torch.Size([797, 4]) torch.Size([95, 6]) torch.Size([95, 4])\n",
      "Epoch 0.loss:1.384440541267395\n",
      "Epoch 100.loss:0.9065852761268616\n",
      "Epoch 200.loss:0.9028105735778809\n",
      "Epoch 300.loss:1.1061259508132935\n",
      "Epoch 400.loss:0.8730677962303162\n",
      "Accuracy: 0.5894736842105263\n",
      "Precision: 0.39087818960700316\n",
      "Recall: 0.3884361871650007\n",
      "f1_score: 0.37796610169491524\n",
      "AAA_2013J-9.\n"
     ]
    },
    {
     "name": "stderr",
     "output_type": "stream",
     "text": [
      "C:\\Users\\Xiaoven\\Anaconda3\\lib\\site-packages\\sklearn\\cluster\\_kmeans.py:1044: UserWarning: MiniBatchKMeans is known to have a memory leak on Windows with MKL, when there are less chunks than available threads. You can prevent it by setting batch_size >= 2048 or by setting the environment variable OMP_NUM_THREADS=2\n",
      "  \"MiniBatchKMeans is known to have a memory leak on \"\n",
      "C:\\Users\\Xiaoven\\Anaconda3\\lib\\site-packages\\sklearn\\cluster\\_kmeans.py:1044: UserWarning: MiniBatchKMeans is known to have a memory leak on Windows with MKL, when there are less chunks than available threads. You can prevent it by setting batch_size >= 2048 or by setting the environment variable OMP_NUM_THREADS=2\n",
      "  \"MiniBatchKMeans is known to have a memory leak on \"\n",
      "C:\\Users\\Xiaoven\\Anaconda3\\lib\\site-packages\\sklearn\\cluster\\_kmeans.py:1044: UserWarning: MiniBatchKMeans is known to have a memory leak on Windows with MKL, when there are less chunks than available threads. You can prevent it by setting batch_size >= 2048 or by setting the environment variable OMP_NUM_THREADS=2\n",
      "  \"MiniBatchKMeans is known to have a memory leak on \"\n"
     ]
    },
    {
     "name": "stdout",
     "output_type": "stream",
     "text": [
      "torch.Size([753, 9]) torch.Size([753, 4]) torch.Size([95, 9]) torch.Size([95, 4])\n",
      "Epoch 0.loss:1.3813233375549316\n",
      "Epoch 100.loss:0.8818023800849915\n",
      "Epoch 200.loss:0.8611350655555725\n",
      "Epoch 300.loss:0.8523688912391663\n",
      "Epoch 400.loss:0.8391537666320801\n",
      "Accuracy: 0.5473684210526316\n",
      "Precision: 0.3083051881039497\n",
      "Recall: 0.33789682539682536\n",
      "f1_score: 0.3107821651603895\n",
      "AAA_2014J-12\n"
     ]
    },
    {
     "name": "stderr",
     "output_type": "stream",
     "text": [
      "C:\\Users\\Xiaoven\\Anaconda3\\lib\\site-packages\\sklearn\\cluster\\_kmeans.py:1044: UserWarning: MiniBatchKMeans is known to have a memory leak on Windows with MKL, when there are less chunks than available threads. You can prevent it by setting batch_size >= 2048 or by setting the environment variable OMP_NUM_THREADS=2\n",
      "  \"MiniBatchKMeans is known to have a memory leak on \"\n"
     ]
    },
    {
     "name": "stdout",
     "output_type": "stream",
     "text": [
      "AAA_2014J-18\n"
     ]
    },
    {
     "name": "stderr",
     "output_type": "stream",
     "text": [
      "C:\\Users\\Xiaoven\\Anaconda3\\lib\\site-packages\\sklearn\\cluster\\_kmeans.py:1044: UserWarning: MiniBatchKMeans is known to have a memory leak on Windows with MKL, when there are less chunks than available threads. You can prevent it by setting batch_size >= 2048 or by setting the environment variable OMP_NUM_THREADS=2\n",
      "  \"MiniBatchKMeans is known to have a memory leak on \"\n"
     ]
    },
    {
     "name": "stdout",
     "output_type": "stream",
     "text": [
      "AAA_2014J-24\n"
     ]
    },
    {
     "name": "stderr",
     "output_type": "stream",
     "text": [
      "C:\\Users\\Xiaoven\\Anaconda3\\lib\\site-packages\\sklearn\\cluster\\_kmeans.py:1044: UserWarning: MiniBatchKMeans is known to have a memory leak on Windows with MKL, when there are less chunks than available threads. You can prevent it by setting batch_size >= 2048 or by setting the environment variable OMP_NUM_THREADS=2\n",
      "  \"MiniBatchKMeans is known to have a memory leak on \"\n",
      "C:\\Users\\Xiaoven\\Anaconda3\\lib\\site-packages\\sklearn\\cluster\\_kmeans.py:1044: UserWarning: MiniBatchKMeans is known to have a memory leak on Windows with MKL, when there are less chunks than available threads. You can prevent it by setting batch_size >= 2048 or by setting the environment variable OMP_NUM_THREADS=2\n",
      "  \"MiniBatchKMeans is known to have a memory leak on \"\n",
      "C:\\Users\\Xiaoven\\Anaconda3\\lib\\site-packages\\sklearn\\cluster\\_kmeans.py:1044: UserWarning: MiniBatchKMeans is known to have a memory leak on Windows with MKL, when there are less chunks than available threads. You can prevent it by setting batch_size >= 2048 or by setting the environment variable OMP_NUM_THREADS=2\n",
      "  \"MiniBatchKMeans is known to have a memory leak on \"\n"
     ]
    },
    {
     "name": "stdout",
     "output_type": "stream",
     "text": [
      "torch.Size([697, 24]) torch.Size([697, 4]) torch.Size([89, 24]) torch.Size([89, 4])\n",
      "Epoch 0.loss:1.3837947845458984\n",
      "Epoch 100.loss:1.0370573997497559\n",
      "Epoch 200.loss:1.0334781408309937\n",
      "Epoch 300.loss:1.1684950590133667\n",
      "Epoch 400.loss:1.1696373224258423\n"
     ]
    },
    {
     "name": "stderr",
     "output_type": "stream",
     "text": [
      "C:\\Users\\Xiaoven\\Anaconda3\\lib\\site-packages\\sklearn\\metrics\\_classification.py:1318: UndefinedMetricWarning: Precision is ill-defined and being set to 0.0 in labels with no predicted samples. Use `zero_division` parameter to control this behavior.\n",
      "  _warn_prf(average, modifier, msg_start, len(result))\n"
     ]
    },
    {
     "name": "stdout",
     "output_type": "stream",
     "text": [
      "Accuracy: 0.6853932584269663\n"
     ]
    },
    {
     "name": "stderr",
     "output_type": "stream",
     "text": [
      "C:\\Users\\Xiaoven\\Anaconda3\\lib\\site-packages\\sklearn\\metrics\\_classification.py:1318: UndefinedMetricWarning: Precision is ill-defined and being set to 0.0 in labels with no predicted samples. Use `zero_division` parameter to control this behavior.\n",
      "  _warn_prf(average, modifier, msg_start, len(result))\n"
     ]
    },
    {
     "name": "stdout",
     "output_type": "stream",
     "text": [
      "Precision: 0.4245169082125604\n",
      "Recall: 0.36435406698564593\n",
      "f1_score: 0.3562470659244853\n",
      "AAA_2014J-32\n"
     ]
    },
    {
     "name": "stderr",
     "output_type": "stream",
     "text": [
      "C:\\Users\\Xiaoven\\Anaconda3\\lib\\site-packages\\sklearn\\cluster\\_kmeans.py:1044: UserWarning: MiniBatchKMeans is known to have a memory leak on Windows with MKL, when there are less chunks than available threads. You can prevent it by setting batch_size >= 2048 or by setting the environment variable OMP_NUM_THREADS=2\n",
      "  \"MiniBatchKMeans is known to have a memory leak on \"\n"
     ]
    },
    {
     "name": "stdout",
     "output_type": "stream",
     "text": [
      "AAA_2014J-48\n"
     ]
    },
    {
     "name": "stderr",
     "output_type": "stream",
     "text": [
      "C:\\Users\\Xiaoven\\Anaconda3\\lib\\site-packages\\sklearn\\cluster\\_kmeans.py:1044: UserWarning: MiniBatchKMeans is known to have a memory leak on Windows with MKL, when there are less chunks than available threads. You can prevent it by setting batch_size >= 2048 or by setting the environment variable OMP_NUM_THREADS=2\n",
      "  \"MiniBatchKMeans is known to have a memory leak on \"\n",
      "C:\\Users\\Xiaoven\\Anaconda3\\lib\\site-packages\\sklearn\\cluster\\_kmeans.py:1044: UserWarning: MiniBatchKMeans is known to have a memory leak on Windows with MKL, when there are less chunks than available threads. You can prevent it by setting batch_size >= 2048 or by setting the environment variable OMP_NUM_THREADS=2\n",
      "  \"MiniBatchKMeans is known to have a memory leak on \"\n",
      "C:\\Users\\Xiaoven\\Anaconda3\\lib\\site-packages\\sklearn\\cluster\\_kmeans.py:1044: UserWarning: MiniBatchKMeans is known to have a memory leak on Windows with MKL, when there are less chunks than available threads. You can prevent it by setting batch_size >= 2048 or by setting the environment variable OMP_NUM_THREADS=2\n",
      "  \"MiniBatchKMeans is known to have a memory leak on \"\n"
     ]
    },
    {
     "name": "stdout",
     "output_type": "stream",
     "text": [
      "torch.Size([665, 48]) torch.Size([665, 4]) torch.Size([89, 48]) torch.Size([89, 4])\n",
      "Epoch 0.loss:1.3837708234786987\n",
      "Epoch 100.loss:1.0700092315673828\n",
      "Epoch 200.loss:1.1225345134735107\n",
      "Epoch 300.loss:1.1054565906524658\n",
      "Epoch 400.loss:1.0776255130767822\n"
     ]
    },
    {
     "name": "stderr",
     "output_type": "stream",
     "text": [
      "C:\\Users\\Xiaoven\\Anaconda3\\lib\\site-packages\\sklearn\\metrics\\_classification.py:1318: UndefinedMetricWarning: Precision is ill-defined and being set to 0.0 in labels with no predicted samples. Use `zero_division` parameter to control this behavior.\n",
      "  _warn_prf(average, modifier, msg_start, len(result))\n"
     ]
    },
    {
     "name": "stdout",
     "output_type": "stream",
     "text": [
      "Accuracy: 0.6966292134831461\n"
     ]
    },
    {
     "name": "stderr",
     "output_type": "stream",
     "text": [
      "C:\\Users\\Xiaoven\\Anaconda3\\lib\\site-packages\\sklearn\\metrics\\_classification.py:1318: UndefinedMetricWarning: Precision is ill-defined and being set to 0.0 in labels with no predicted samples. Use `zero_division` parameter to control this behavior.\n",
      "  _warn_prf(average, modifier, msg_start, len(result))\n"
     ]
    },
    {
     "name": "stdout",
     "output_type": "stream",
     "text": [
      "Precision: 0.2885572139303483\n",
      "Recall: 0.3773448773448773\n",
      "f1_score: 0.3209134615384615\n",
      "AAA_2014J-6.\n"
     ]
    },
    {
     "name": "stderr",
     "output_type": "stream",
     "text": [
      "C:\\Users\\Xiaoven\\Anaconda3\\lib\\site-packages\\sklearn\\cluster\\_kmeans.py:1044: UserWarning: MiniBatchKMeans is known to have a memory leak on Windows with MKL, when there are less chunks than available threads. You can prevent it by setting batch_size >= 2048 or by setting the environment variable OMP_NUM_THREADS=2\n",
      "  \"MiniBatchKMeans is known to have a memory leak on \"\n"
     ]
    },
    {
     "name": "stdout",
     "output_type": "stream",
     "text": [
      "AAA_2014J-9.\n"
     ]
    },
    {
     "name": "stderr",
     "output_type": "stream",
     "text": [
      "C:\\Users\\Xiaoven\\Anaconda3\\lib\\site-packages\\sklearn\\cluster\\_kmeans.py:1044: UserWarning: MiniBatchKMeans is known to have a memory leak on Windows with MKL, when there are less chunks than available threads. You can prevent it by setting batch_size >= 2048 or by setting the environment variable OMP_NUM_THREADS=2\n",
      "  \"MiniBatchKMeans is known to have a memory leak on \"\n"
     ]
    },
    {
     "name": "stdout",
     "output_type": "stream",
     "text": [
      "BBB_2013B-12\n"
     ]
    },
    {
     "name": "stderr",
     "output_type": "stream",
     "text": [
      "C:\\Users\\Xiaoven\\Anaconda3\\lib\\site-packages\\sklearn\\cluster\\_kmeans.py:1044: UserWarning: MiniBatchKMeans is known to have a memory leak on Windows with MKL, when there are less chunks than available threads. You can prevent it by setting batch_size >= 2048 or by setting the environment variable OMP_NUM_THREADS=4\n",
      "  \"MiniBatchKMeans is known to have a memory leak on \"\n"
     ]
    },
    {
     "name": "stdout",
     "output_type": "stream",
     "text": [
      "BBB_2013B-18\n"
     ]
    },
    {
     "name": "stderr",
     "output_type": "stream",
     "text": [
      "C:\\Users\\Xiaoven\\Anaconda3\\lib\\site-packages\\sklearn\\cluster\\_kmeans.py:1044: UserWarning: MiniBatchKMeans is known to have a memory leak on Windows with MKL, when there are less chunks than available threads. You can prevent it by setting batch_size >= 2048 or by setting the environment variable OMP_NUM_THREADS=4\n",
      "  \"MiniBatchKMeans is known to have a memory leak on \"\n"
     ]
    },
    {
     "name": "stdout",
     "output_type": "stream",
     "text": [
      "BBB_2013B-24\n"
     ]
    },
    {
     "name": "stderr",
     "output_type": "stream",
     "text": [
      "C:\\Users\\Xiaoven\\Anaconda3\\lib\\site-packages\\sklearn\\cluster\\_kmeans.py:1044: UserWarning: MiniBatchKMeans is known to have a memory leak on Windows with MKL, when there are less chunks than available threads. You can prevent it by setting batch_size >= 2048 or by setting the environment variable OMP_NUM_THREADS=4\n",
      "  \"MiniBatchKMeans is known to have a memory leak on \"\n",
      "C:\\Users\\Xiaoven\\Anaconda3\\lib\\site-packages\\sklearn\\cluster\\_kmeans.py:1044: UserWarning: MiniBatchKMeans is known to have a memory leak on Windows with MKL, when there are less chunks than available threads. You can prevent it by setting batch_size >= 2048 or by setting the environment variable OMP_NUM_THREADS=4\n",
      "  \"MiniBatchKMeans is known to have a memory leak on \"\n",
      "C:\\Users\\Xiaoven\\Anaconda3\\lib\\site-packages\\sklearn\\cluster\\_kmeans.py:1044: UserWarning: MiniBatchKMeans is known to have a memory leak on Windows with MKL, when there are less chunks than available threads. You can prevent it by setting batch_size >= 2048 or by setting the environment variable OMP_NUM_THREADS=4\n",
      "  \"MiniBatchKMeans is known to have a memory leak on \"\n"
     ]
    },
    {
     "name": "stdout",
     "output_type": "stream",
     "text": [
      "torch.Size([1924, 24]) torch.Size([1924, 4]) torch.Size([381, 24]) torch.Size([381, 4])\n",
      "Epoch 0.loss:1.3272022008895874\n",
      "Epoch 100.loss:1.1600728034973145\n",
      "Epoch 200.loss:1.1740437746047974\n",
      "Epoch 300.loss:1.15753972530365\n",
      "Epoch 400.loss:1.1701406240463257\n"
     ]
    },
    {
     "name": "stderr",
     "output_type": "stream",
     "text": [
      "C:\\Users\\Xiaoven\\Anaconda3\\lib\\site-packages\\sklearn\\metrics\\_classification.py:1318: UndefinedMetricWarning: Precision is ill-defined and being set to 0.0 in labels with no predicted samples. Use `zero_division` parameter to control this behavior.\n",
      "  _warn_prf(average, modifier, msg_start, len(result))\n"
     ]
    },
    {
     "name": "stdout",
     "output_type": "stream",
     "text": [
      "Accuracy: 0.5538057742782152\n"
     ]
    },
    {
     "name": "stderr",
     "output_type": "stream",
     "text": [
      "C:\\Users\\Xiaoven\\Anaconda3\\lib\\site-packages\\sklearn\\metrics\\_classification.py:1318: UndefinedMetricWarning: Precision is ill-defined and being set to 0.0 in labels with no predicted samples. Use `zero_division` parameter to control this behavior.\n",
      "  _warn_prf(average, modifier, msg_start, len(result))\n"
     ]
    },
    {
     "name": "stdout",
     "output_type": "stream",
     "text": [
      "Precision: 0.3641236528644356\n",
      "Recall: 0.4132090780099022\n",
      "f1_score: 0.3698533521992803\n",
      "BBB_2013B-32\n"
     ]
    },
    {
     "name": "stderr",
     "output_type": "stream",
     "text": [
      "C:\\Users\\Xiaoven\\Anaconda3\\lib\\site-packages\\sklearn\\cluster\\_kmeans.py:1044: UserWarning: MiniBatchKMeans is known to have a memory leak on Windows with MKL, when there are less chunks than available threads. You can prevent it by setting batch_size >= 2048 or by setting the environment variable OMP_NUM_THREADS=4\n",
      "  \"MiniBatchKMeans is known to have a memory leak on \"\n"
     ]
    },
    {
     "name": "stdout",
     "output_type": "stream",
     "text": [
      "BBB_2013B-48\n"
     ]
    },
    {
     "name": "stderr",
     "output_type": "stream",
     "text": [
      "C:\\Users\\Xiaoven\\Anaconda3\\lib\\site-packages\\sklearn\\cluster\\_kmeans.py:1044: UserWarning: MiniBatchKMeans is known to have a memory leak on Windows with MKL, when there are less chunks than available threads. You can prevent it by setting batch_size >= 2048 or by setting the environment variable OMP_NUM_THREADS=4\n",
      "  \"MiniBatchKMeans is known to have a memory leak on \"\n"
     ]
    },
    {
     "name": "stdout",
     "output_type": "stream",
     "text": [
      "BBB_2013B-6.\n"
     ]
    },
    {
     "name": "stderr",
     "output_type": "stream",
     "text": [
      "C:\\Users\\Xiaoven\\Anaconda3\\lib\\site-packages\\sklearn\\cluster\\_kmeans.py:1044: UserWarning: MiniBatchKMeans is known to have a memory leak on Windows with MKL, when there are less chunks than available threads. You can prevent it by setting batch_size >= 2048 or by setting the environment variable OMP_NUM_THREADS=4\n",
      "  \"MiniBatchKMeans is known to have a memory leak on \"\n"
     ]
    },
    {
     "name": "stdout",
     "output_type": "stream",
     "text": [
      "BBB_2013B-9.\n"
     ]
    },
    {
     "name": "stderr",
     "output_type": "stream",
     "text": [
      "C:\\Users\\Xiaoven\\Anaconda3\\lib\\site-packages\\sklearn\\cluster\\_kmeans.py:1044: UserWarning: MiniBatchKMeans is known to have a memory leak on Windows with MKL, when there are less chunks than available threads. You can prevent it by setting batch_size >= 2048 or by setting the environment variable OMP_NUM_THREADS=4\n",
      "  \"MiniBatchKMeans is known to have a memory leak on \"\n"
     ]
    },
    {
     "name": "stdout",
     "output_type": "stream",
     "text": [
      "BBB_2013J-12\n"
     ]
    },
    {
     "name": "stderr",
     "output_type": "stream",
     "text": [
      "C:\\Users\\Xiaoven\\Anaconda3\\lib\\site-packages\\sklearn\\cluster\\_kmeans.py:1044: UserWarning: MiniBatchKMeans is known to have a memory leak on Windows with MKL, when there are less chunks than available threads. You can prevent it by setting batch_size >= 2048 or by setting the environment variable OMP_NUM_THREADS=4\n",
      "  \"MiniBatchKMeans is known to have a memory leak on \"\n",
      "C:\\Users\\Xiaoven\\Anaconda3\\lib\\site-packages\\sklearn\\cluster\\_kmeans.py:1044: UserWarning: MiniBatchKMeans is known to have a memory leak on Windows with MKL, when there are less chunks than available threads. You can prevent it by setting batch_size >= 2048 or by setting the environment variable OMP_NUM_THREADS=4\n",
      "  \"MiniBatchKMeans is known to have a memory leak on \"\n",
      "C:\\Users\\Xiaoven\\Anaconda3\\lib\\site-packages\\sklearn\\cluster\\_kmeans.py:1044: UserWarning: MiniBatchKMeans is known to have a memory leak on Windows with MKL, when there are less chunks than available threads. You can prevent it by setting batch_size >= 2048 or by setting the environment variable OMP_NUM_THREADS=4\n",
      "  \"MiniBatchKMeans is known to have a memory leak on \"\n"
     ]
    },
    {
     "name": "stdout",
     "output_type": "stream",
     "text": [
      "torch.Size([2640, 12]) torch.Size([2640, 4]) torch.Size([459, 12]) torch.Size([459, 4])\n",
      "Epoch 0.loss:1.3814482688903809\n",
      "Epoch 100.loss:1.0886096954345703\n",
      "Epoch 200.loss:1.079372763633728\n",
      "Epoch 300.loss:1.0725970268249512\n",
      "Epoch 400.loss:1.075038194656372\n",
      "Accuracy: 0.5490196078431373\n",
      "Precision: 0.39791737740545596\n",
      "Recall: 0.4165411493375215\n",
      "f1_score: 0.3548277519858452\n",
      "BBB_2013J-18\n"
     ]
    },
    {
     "name": "stderr",
     "output_type": "stream",
     "text": [
      "C:\\Users\\Xiaoven\\Anaconda3\\lib\\site-packages\\sklearn\\cluster\\_kmeans.py:1044: UserWarning: MiniBatchKMeans is known to have a memory leak on Windows with MKL, when there are less chunks than available threads. You can prevent it by setting batch_size >= 2048 or by setting the environment variable OMP_NUM_THREADS=4\n",
      "  \"MiniBatchKMeans is known to have a memory leak on \"\n",
      "C:\\Users\\Xiaoven\\Anaconda3\\lib\\site-packages\\sklearn\\cluster\\_kmeans.py:1044: UserWarning: MiniBatchKMeans is known to have a memory leak on Windows with MKL, when there are less chunks than available threads. You can prevent it by setting batch_size >= 2048 or by setting the environment variable OMP_NUM_THREADS=4\n",
      "  \"MiniBatchKMeans is known to have a memory leak on \"\n",
      "C:\\Users\\Xiaoven\\Anaconda3\\lib\\site-packages\\sklearn\\cluster\\_kmeans.py:1044: UserWarning: MiniBatchKMeans is known to have a memory leak on Windows with MKL, when there are less chunks than available threads. You can prevent it by setting batch_size >= 2048 or by setting the environment variable OMP_NUM_THREADS=4\n",
      "  \"MiniBatchKMeans is known to have a memory leak on \"\n"
     ]
    },
    {
     "name": "stdout",
     "output_type": "stream",
     "text": [
      "torch.Size([2694, 18]) torch.Size([2694, 4]) torch.Size([459, 18]) torch.Size([459, 4])\n",
      "Epoch 0.loss:1.4044817686080933\n",
      "Epoch 100.loss:1.210972547531128\n",
      "Epoch 200.loss:1.2110192775726318\n",
      "Epoch 300.loss:1.2134113311767578\n",
      "Epoch 400.loss:1.2136070728302002\n"
     ]
    },
    {
     "name": "stderr",
     "output_type": "stream",
     "text": [
      "C:\\Users\\Xiaoven\\Anaconda3\\lib\\site-packages\\sklearn\\metrics\\_classification.py:1318: UndefinedMetricWarning: Precision is ill-defined and being set to 0.0 in labels with no predicted samples. Use `zero_division` parameter to control this behavior.\n",
      "  _warn_prf(average, modifier, msg_start, len(result))\n"
     ]
    },
    {
     "name": "stdout",
     "output_type": "stream",
     "text": [
      "Accuracy: 0.5773420479302832\n"
     ]
    },
    {
     "name": "stderr",
     "output_type": "stream",
     "text": [
      "C:\\Users\\Xiaoven\\Anaconda3\\lib\\site-packages\\sklearn\\metrics\\_classification.py:1318: UndefinedMetricWarning: Precision is ill-defined and being set to 0.0 in labels with no predicted samples. Use `zero_division` parameter to control this behavior.\n",
      "  _warn_prf(average, modifier, msg_start, len(result))\n"
     ]
    },
    {
     "name": "stdout",
     "output_type": "stream",
     "text": [
      "Precision: 0.37709323219131774\n",
      "Recall: 0.4189816411789506\n",
      "f1_score: 0.37279019790669254\n",
      "BBB_2013J-24\n"
     ]
    },
    {
     "name": "stderr",
     "output_type": "stream",
     "text": [
      "C:\\Users\\Xiaoven\\Anaconda3\\lib\\site-packages\\sklearn\\cluster\\_kmeans.py:1044: UserWarning: MiniBatchKMeans is known to have a memory leak on Windows with MKL, when there are less chunks than available threads. You can prevent it by setting batch_size >= 2048 or by setting the environment variable OMP_NUM_THREADS=4\n",
      "  \"MiniBatchKMeans is known to have a memory leak on \"\n",
      "C:\\Users\\Xiaoven\\Anaconda3\\lib\\site-packages\\sklearn\\cluster\\_kmeans.py:1044: UserWarning: MiniBatchKMeans is known to have a memory leak on Windows with MKL, when there are less chunks than available threads. You can prevent it by setting batch_size >= 2048 or by setting the environment variable OMP_NUM_THREADS=4\n",
      "  \"MiniBatchKMeans is known to have a memory leak on \"\n",
      "C:\\Users\\Xiaoven\\Anaconda3\\lib\\site-packages\\sklearn\\cluster\\_kmeans.py:1044: UserWarning: MiniBatchKMeans is known to have a memory leak on Windows with MKL, when there are less chunks than available threads. You can prevent it by setting batch_size >= 2048 or by setting the environment variable OMP_NUM_THREADS=4\n",
      "  \"MiniBatchKMeans is known to have a memory leak on \"\n"
     ]
    },
    {
     "name": "stdout",
     "output_type": "stream",
     "text": [
      "torch.Size([2764, 24]) torch.Size([2764, 4]) torch.Size([459, 24]) torch.Size([459, 4])\n",
      "Epoch 0.loss:1.3881316184997559\n",
      "Epoch 100.loss:1.013197898864746\n",
      "Epoch 200.loss:0.9881851077079773\n",
      "Epoch 300.loss:0.9909782409667969\n",
      "Epoch 400.loss:0.9926391839981079\n"
     ]
    },
    {
     "name": "stderr",
     "output_type": "stream",
     "text": [
      "C:\\Users\\Xiaoven\\Anaconda3\\lib\\site-packages\\sklearn\\metrics\\_classification.py:1318: UndefinedMetricWarning: Precision is ill-defined and being set to 0.0 in labels with no predicted samples. Use `zero_division` parameter to control this behavior.\n",
      "  _warn_prf(average, modifier, msg_start, len(result))\n"
     ]
    },
    {
     "name": "stdout",
     "output_type": "stream",
     "text": [
      "Accuracy: 0.5664488017429193\n"
     ]
    },
    {
     "name": "stderr",
     "output_type": "stream",
     "text": [
      "C:\\Users\\Xiaoven\\Anaconda3\\lib\\site-packages\\sklearn\\metrics\\_classification.py:1318: UndefinedMetricWarning: Precision is ill-defined and being set to 0.0 in labels with no predicted samples. Use `zero_division` parameter to control this behavior.\n",
      "  _warn_prf(average, modifier, msg_start, len(result))\n"
     ]
    },
    {
     "name": "stdout",
     "output_type": "stream",
     "text": [
      "Precision: 0.4059129276520581\n",
      "Recall: 0.41047558744899393\n",
      "f1_score: 0.39530246128061075\n",
      "BBB_2013J-32\n"
     ]
    },
    {
     "name": "stderr",
     "output_type": "stream",
     "text": [
      "C:\\Users\\Xiaoven\\Anaconda3\\lib\\site-packages\\sklearn\\cluster\\_kmeans.py:1044: UserWarning: MiniBatchKMeans is known to have a memory leak on Windows with MKL, when there are less chunks than available threads. You can prevent it by setting batch_size >= 2048 or by setting the environment variable OMP_NUM_THREADS=4\n",
      "  \"MiniBatchKMeans is known to have a memory leak on \"\n"
     ]
    },
    {
     "name": "stdout",
     "output_type": "stream",
     "text": [
      "BBB_2013J-48\n"
     ]
    },
    {
     "name": "stderr",
     "output_type": "stream",
     "text": [
      "C:\\Users\\Xiaoven\\Anaconda3\\lib\\site-packages\\sklearn\\cluster\\_kmeans.py:1044: UserWarning: MiniBatchKMeans is known to have a memory leak on Windows with MKL, when there are less chunks than available threads. You can prevent it by setting batch_size >= 2048 or by setting the environment variable OMP_NUM_THREADS=4\n",
      "  \"MiniBatchKMeans is known to have a memory leak on \"\n",
      "C:\\Users\\Xiaoven\\Anaconda3\\lib\\site-packages\\sklearn\\cluster\\_kmeans.py:1044: UserWarning: MiniBatchKMeans is known to have a memory leak on Windows with MKL, when there are less chunks than available threads. You can prevent it by setting batch_size >= 2048 or by setting the environment variable OMP_NUM_THREADS=4\n",
      "  \"MiniBatchKMeans is known to have a memory leak on \"\n",
      "C:\\Users\\Xiaoven\\Anaconda3\\lib\\site-packages\\sklearn\\cluster\\_kmeans.py:1044: UserWarning: MiniBatchKMeans is known to have a memory leak on Windows with MKL, when there are less chunks than available threads. You can prevent it by setting batch_size >= 2048 or by setting the environment variable OMP_NUM_THREADS=4\n",
      "  \"MiniBatchKMeans is known to have a memory leak on \"\n"
     ]
    },
    {
     "name": "stdout",
     "output_type": "stream",
     "text": [
      "torch.Size([2699, 48]) torch.Size([2699, 4]) torch.Size([459, 48]) torch.Size([459, 4])\n",
      "Epoch 0.loss:1.3794652223587036\n",
      "Epoch 100.loss:1.037532925605774\n",
      "Epoch 200.loss:1.0122475624084473\n",
      "Epoch 300.loss:0.9937460422515869\n",
      "Epoch 400.loss:1.014386534690857\n"
     ]
    },
    {
     "name": "stderr",
     "output_type": "stream",
     "text": [
      "C:\\Users\\Xiaoven\\Anaconda3\\lib\\site-packages\\sklearn\\metrics\\_classification.py:1318: UndefinedMetricWarning: Precision is ill-defined and being set to 0.0 in labels with no predicted samples. Use `zero_division` parameter to control this behavior.\n",
      "  _warn_prf(average, modifier, msg_start, len(result))\n"
     ]
    },
    {
     "name": "stdout",
     "output_type": "stream",
     "text": [
      "Accuracy: 0.5468409586056645\n"
     ]
    },
    {
     "name": "stderr",
     "output_type": "stream",
     "text": [
      "C:\\Users\\Xiaoven\\Anaconda3\\lib\\site-packages\\sklearn\\metrics\\_classification.py:1318: UndefinedMetricWarning: Precision is ill-defined and being set to 0.0 in labels with no predicted samples. Use `zero_division` parameter to control this behavior.\n",
      "  _warn_prf(average, modifier, msg_start, len(result))\n"
     ]
    },
    {
     "name": "stdout",
     "output_type": "stream",
     "text": [
      "Precision: 0.36625086074474283\n",
      "Recall: 0.41370819972514883\n",
      "f1_score: 0.3839608348165515\n",
      "BBB_2013J-6.\n"
     ]
    },
    {
     "name": "stderr",
     "output_type": "stream",
     "text": [
      "C:\\Users\\Xiaoven\\Anaconda3\\lib\\site-packages\\sklearn\\cluster\\_kmeans.py:1044: UserWarning: MiniBatchKMeans is known to have a memory leak on Windows with MKL, when there are less chunks than available threads. You can prevent it by setting batch_size >= 2048 or by setting the environment variable OMP_NUM_THREADS=4\n",
      "  \"MiniBatchKMeans is known to have a memory leak on \"\n",
      "C:\\Users\\Xiaoven\\Anaconda3\\lib\\site-packages\\sklearn\\cluster\\_kmeans.py:1044: UserWarning: MiniBatchKMeans is known to have a memory leak on Windows with MKL, when there are less chunks than available threads. You can prevent it by setting batch_size >= 2048 or by setting the environment variable OMP_NUM_THREADS=4\n",
      "  \"MiniBatchKMeans is known to have a memory leak on \"\n",
      "C:\\Users\\Xiaoven\\Anaconda3\\lib\\site-packages\\sklearn\\cluster\\_kmeans.py:1044: UserWarning: MiniBatchKMeans is known to have a memory leak on Windows with MKL, when there are less chunks than available threads. You can prevent it by setting batch_size >= 2048 or by setting the environment variable OMP_NUM_THREADS=4\n",
      "  \"MiniBatchKMeans is known to have a memory leak on \"\n"
     ]
    },
    {
     "name": "stdout",
     "output_type": "stream",
     "text": [
      "torch.Size([2685, 6]) torch.Size([2685, 4]) torch.Size([459, 6]) torch.Size([459, 4])\n",
      "Epoch 0.loss:1.3756850957870483\n",
      "Epoch 100.loss:1.0379477739334106\n",
      "Epoch 200.loss:1.038063883781433\n",
      "Epoch 300.loss:1.0313416719436646\n",
      "Epoch 400.loss:1.0300318002700806\n",
      "Accuracy: 0.49455337690631807\n",
      "Precision: 0.3721964310199604\n",
      "Recall: 0.3994224010756977\n",
      "f1_score: 0.35321869226584185\n",
      "BBB_2013J-9.\n"
     ]
    },
    {
     "name": "stderr",
     "output_type": "stream",
     "text": [
      "C:\\Users\\Xiaoven\\Anaconda3\\lib\\site-packages\\sklearn\\cluster\\_kmeans.py:1044: UserWarning: MiniBatchKMeans is known to have a memory leak on Windows with MKL, when there are less chunks than available threads. You can prevent it by setting batch_size >= 2048 or by setting the environment variable OMP_NUM_THREADS=4\n",
      "  \"MiniBatchKMeans is known to have a memory leak on \"\n"
     ]
    },
    {
     "name": "stdout",
     "output_type": "stream",
     "text": [
      "BBB_2014B-12\n"
     ]
    },
    {
     "name": "stderr",
     "output_type": "stream",
     "text": [
      "C:\\Users\\Xiaoven\\Anaconda3\\lib\\site-packages\\sklearn\\cluster\\_kmeans.py:1044: UserWarning: MiniBatchKMeans is known to have a memory leak on Windows with MKL, when there are less chunks than available threads. You can prevent it by setting batch_size >= 2048 or by setting the environment variable OMP_NUM_THREADS=4\n",
      "  \"MiniBatchKMeans is known to have a memory leak on \"\n",
      "C:\\Users\\Xiaoven\\Anaconda3\\lib\\site-packages\\sklearn\\cluster\\_kmeans.py:1044: UserWarning: MiniBatchKMeans is known to have a memory leak on Windows with MKL, when there are less chunks than available threads. You can prevent it by setting batch_size >= 2048 or by setting the environment variable OMP_NUM_THREADS=4\n",
      "  \"MiniBatchKMeans is known to have a memory leak on \"\n",
      "C:\\Users\\Xiaoven\\Anaconda3\\lib\\site-packages\\sklearn\\cluster\\_kmeans.py:1044: UserWarning: MiniBatchKMeans is known to have a memory leak on Windows with MKL, when there are less chunks than available threads. You can prevent it by setting batch_size >= 2048 or by setting the environment variable OMP_NUM_THREADS=4\n",
      "  \"MiniBatchKMeans is known to have a memory leak on \"\n"
     ]
    },
    {
     "name": "stdout",
     "output_type": "stream",
     "text": [
      "torch.Size([1671, 12]) torch.Size([1671, 4]) torch.Size([318, 12]) torch.Size([318, 4])\n",
      "Epoch 0.loss:1.381744146347046\n",
      "Epoch 100.loss:1.070109486579895\n",
      "Epoch 200.loss:1.0600777864456177\n",
      "Epoch 300.loss:1.1468788385391235\n",
      "Epoch 400.loss:1.146864891052246\n"
     ]
    },
    {
     "name": "stderr",
     "output_type": "stream",
     "text": [
      "C:\\Users\\Xiaoven\\Anaconda3\\lib\\site-packages\\sklearn\\metrics\\_classification.py:1318: UndefinedMetricWarning: Precision is ill-defined and being set to 0.0 in labels with no predicted samples. Use `zero_division` parameter to control this behavior.\n",
      "  _warn_prf(average, modifier, msg_start, len(result))\n"
     ]
    },
    {
     "name": "stdout",
     "output_type": "stream",
     "text": [
      "Accuracy: 0.42452830188679247\n"
     ]
    },
    {
     "name": "stderr",
     "output_type": "stream",
     "text": [
      "C:\\Users\\Xiaoven\\Anaconda3\\lib\\site-packages\\sklearn\\metrics\\_classification.py:1318: UndefinedMetricWarning: Precision is ill-defined and being set to 0.0 in labels with no predicted samples. Use `zero_division` parameter to control this behavior.\n",
      "  _warn_prf(average, modifier, msg_start, len(result))\n"
     ]
    },
    {
     "name": "stdout",
     "output_type": "stream",
     "text": [
      "Precision: 0.29149535423925665\n",
      "Recall: 0.38384176798810943\n",
      "f1_score: 0.3053476503211791\n",
      "BBB_2014B-18\n"
     ]
    },
    {
     "name": "stderr",
     "output_type": "stream",
     "text": [
      "C:\\Users\\Xiaoven\\Anaconda3\\lib\\site-packages\\sklearn\\cluster\\_kmeans.py:1044: UserWarning: MiniBatchKMeans is known to have a memory leak on Windows with MKL, when there are less chunks than available threads. You can prevent it by setting batch_size >= 2048 or by setting the environment variable OMP_NUM_THREADS=4\n",
      "  \"MiniBatchKMeans is known to have a memory leak on \"\n",
      "C:\\Users\\Xiaoven\\Anaconda3\\lib\\site-packages\\sklearn\\cluster\\_kmeans.py:1044: UserWarning: MiniBatchKMeans is known to have a memory leak on Windows with MKL, when there are less chunks than available threads. You can prevent it by setting batch_size >= 2048 or by setting the environment variable OMP_NUM_THREADS=4\n",
      "  \"MiniBatchKMeans is known to have a memory leak on \"\n",
      "C:\\Users\\Xiaoven\\Anaconda3\\lib\\site-packages\\sklearn\\cluster\\_kmeans.py:1044: UserWarning: MiniBatchKMeans is known to have a memory leak on Windows with MKL, when there are less chunks than available threads. You can prevent it by setting batch_size >= 2048 or by setting the environment variable OMP_NUM_THREADS=4\n",
      "  \"MiniBatchKMeans is known to have a memory leak on \"\n"
     ]
    },
    {
     "name": "stdout",
     "output_type": "stream",
     "text": [
      "torch.Size([1664, 18]) torch.Size([1664, 4]) torch.Size([318, 18]) torch.Size([318, 4])\n",
      "Epoch 0.loss:1.383631706237793\n",
      "Epoch 100.loss:1.1059386730194092\n",
      "Epoch 200.loss:1.0885268449783325\n",
      "Epoch 300.loss:1.082434892654419\n",
      "Epoch 400.loss:1.088704228401184\n",
      "Accuracy: 0.4056603773584906\n",
      "Precision: 0.37858324841407553\n",
      "Recall: 0.4181152071023312\n",
      "f1_score: 0.37225179727984864\n",
      "BBB_2014B-24\n"
     ]
    },
    {
     "name": "stderr",
     "output_type": "stream",
     "text": [
      "C:\\Users\\Xiaoven\\Anaconda3\\lib\\site-packages\\sklearn\\cluster\\_kmeans.py:1044: UserWarning: MiniBatchKMeans is known to have a memory leak on Windows with MKL, when there are less chunks than available threads. You can prevent it by setting batch_size >= 2048 or by setting the environment variable OMP_NUM_THREADS=4\n",
      "  \"MiniBatchKMeans is known to have a memory leak on \"\n",
      "C:\\Users\\Xiaoven\\Anaconda3\\lib\\site-packages\\sklearn\\cluster\\_kmeans.py:1044: UserWarning: MiniBatchKMeans is known to have a memory leak on Windows with MKL, when there are less chunks than available threads. You can prevent it by setting batch_size >= 2048 or by setting the environment variable OMP_NUM_THREADS=4\n",
      "  \"MiniBatchKMeans is known to have a memory leak on \"\n",
      "C:\\Users\\Xiaoven\\Anaconda3\\lib\\site-packages\\sklearn\\cluster\\_kmeans.py:1044: UserWarning: MiniBatchKMeans is known to have a memory leak on Windows with MKL, when there are less chunks than available threads. You can prevent it by setting batch_size >= 2048 or by setting the environment variable OMP_NUM_THREADS=4\n",
      "  \"MiniBatchKMeans is known to have a memory leak on \"\n"
     ]
    },
    {
     "name": "stdout",
     "output_type": "stream",
     "text": [
      "torch.Size([1669, 24]) torch.Size([1669, 4]) torch.Size([318, 24]) torch.Size([318, 4])\n",
      "Epoch 0.loss:1.3837612867355347\n",
      "Epoch 100.loss:1.1128982305526733\n",
      "Epoch 200.loss:1.0859211683273315\n",
      "Epoch 300.loss:1.0829083919525146\n",
      "Epoch 400.loss:1.080737590789795\n",
      "Accuracy: 0.42452830188679247\n",
      "Precision: 0.39712509925830813\n",
      "Recall: 0.360791292041292\n",
      "f1_score: 0.31592081499801206\n",
      "BBB_2014B-32\n"
     ]
    },
    {
     "name": "stderr",
     "output_type": "stream",
     "text": [
      "C:\\Users\\Xiaoven\\Anaconda3\\lib\\site-packages\\sklearn\\cluster\\_kmeans.py:1044: UserWarning: MiniBatchKMeans is known to have a memory leak on Windows with MKL, when there are less chunks than available threads. You can prevent it by setting batch_size >= 2048 or by setting the environment variable OMP_NUM_THREADS=4\n",
      "  \"MiniBatchKMeans is known to have a memory leak on \"\n",
      "C:\\Users\\Xiaoven\\Anaconda3\\lib\\site-packages\\sklearn\\cluster\\_kmeans.py:1044: UserWarning: MiniBatchKMeans is known to have a memory leak on Windows with MKL, when there are less chunks than available threads. You can prevent it by setting batch_size >= 2048 or by setting the environment variable OMP_NUM_THREADS=4\n",
      "  \"MiniBatchKMeans is known to have a memory leak on \"\n",
      "C:\\Users\\Xiaoven\\Anaconda3\\lib\\site-packages\\sklearn\\cluster\\_kmeans.py:1044: UserWarning: MiniBatchKMeans is known to have a memory leak on Windows with MKL, when there are less chunks than available threads. You can prevent it by setting batch_size >= 2048 or by setting the environment variable OMP_NUM_THREADS=4\n",
      "  \"MiniBatchKMeans is known to have a memory leak on \"\n"
     ]
    },
    {
     "name": "stdout",
     "output_type": "stream",
     "text": [
      "torch.Size([1627, 32]) torch.Size([1627, 4]) torch.Size([318, 32]) torch.Size([318, 4])\n",
      "Epoch 0.loss:1.3816834688186646\n",
      "Epoch 100.loss:1.1500078439712524\n",
      "Epoch 200.loss:1.193688154220581\n",
      "Epoch 300.loss:1.1687796115875244\n",
      "Epoch 400.loss:1.3007266521453857\n"
     ]
    },
    {
     "name": "stderr",
     "output_type": "stream",
     "text": [
      "C:\\Users\\Xiaoven\\Anaconda3\\lib\\site-packages\\sklearn\\metrics\\_classification.py:1318: UndefinedMetricWarning: Precision is ill-defined and being set to 0.0 in labels with no predicted samples. Use `zero_division` parameter to control this behavior.\n",
      "  _warn_prf(average, modifier, msg_start, len(result))\n"
     ]
    },
    {
     "name": "stdout",
     "output_type": "stream",
     "text": [
      "Accuracy: 0.34591194968553457\n"
     ]
    },
    {
     "name": "stderr",
     "output_type": "stream",
     "text": [
      "C:\\Users\\Xiaoven\\Anaconda3\\lib\\site-packages\\sklearn\\metrics\\_classification.py:1318: UndefinedMetricWarning: Precision is ill-defined and being set to 0.0 in labels with no predicted samples. Use `zero_division` parameter to control this behavior.\n",
      "  _warn_prf(average, modifier, msg_start, len(result))\n"
     ]
    },
    {
     "name": "stdout",
     "output_type": "stream",
     "text": [
      "Precision: 0.2357894168077519\n",
      "Recall: 0.3061384753457924\n",
      "f1_score: 0.22470887160404454\n",
      "BBB_2014B-48\n"
     ]
    },
    {
     "name": "stderr",
     "output_type": "stream",
     "text": [
      "C:\\Users\\Xiaoven\\Anaconda3\\lib\\site-packages\\sklearn\\cluster\\_kmeans.py:1044: UserWarning: MiniBatchKMeans is known to have a memory leak on Windows with MKL, when there are less chunks than available threads. You can prevent it by setting batch_size >= 2048 or by setting the environment variable OMP_NUM_THREADS=4\n",
      "  \"MiniBatchKMeans is known to have a memory leak on \"\n",
      "C:\\Users\\Xiaoven\\Anaconda3\\lib\\site-packages\\sklearn\\cluster\\_kmeans.py:1044: UserWarning: MiniBatchKMeans is known to have a memory leak on Windows with MKL, when there are less chunks than available threads. You can prevent it by setting batch_size >= 2048 or by setting the environment variable OMP_NUM_THREADS=4\n",
      "  \"MiniBatchKMeans is known to have a memory leak on \"\n",
      "C:\\Users\\Xiaoven\\Anaconda3\\lib\\site-packages\\sklearn\\cluster\\_kmeans.py:1044: UserWarning: MiniBatchKMeans is known to have a memory leak on Windows with MKL, when there are less chunks than available threads. You can prevent it by setting batch_size >= 2048 or by setting the environment variable OMP_NUM_THREADS=4\n",
      "  \"MiniBatchKMeans is known to have a memory leak on \"\n"
     ]
    },
    {
     "name": "stdout",
     "output_type": "stream",
     "text": [
      "torch.Size([1704, 48]) torch.Size([1704, 4]) torch.Size([318, 48]) torch.Size([318, 4])\n",
      "Epoch 0.loss:1.383317470550537\n",
      "Epoch 100.loss:1.1095383167266846\n",
      "Epoch 200.loss:1.1169800758361816\n",
      "Epoch 300.loss:1.1172373294830322\n",
      "Epoch 400.loss:1.1077377796173096\n",
      "Accuracy: 0.36792452830188677\n",
      "Precision: 0.3504694490177029\n",
      "Recall: 0.3839367626824073\n",
      "f1_score: 0.3428200308121568\n",
      "BBB_2014B-6.\n"
     ]
    },
    {
     "name": "stderr",
     "output_type": "stream",
     "text": [
      "C:\\Users\\Xiaoven\\Anaconda3\\lib\\site-packages\\sklearn\\cluster\\_kmeans.py:1044: UserWarning: MiniBatchKMeans is known to have a memory leak on Windows with MKL, when there are less chunks than available threads. You can prevent it by setting batch_size >= 2048 or by setting the environment variable OMP_NUM_THREADS=4\n",
      "  \"MiniBatchKMeans is known to have a memory leak on \"\n",
      "C:\\Users\\Xiaoven\\Anaconda3\\lib\\site-packages\\sklearn\\cluster\\_kmeans.py:1044: UserWarning: MiniBatchKMeans is known to have a memory leak on Windows with MKL, when there are less chunks than available threads. You can prevent it by setting batch_size >= 2048 or by setting the environment variable OMP_NUM_THREADS=4\n",
      "  \"MiniBatchKMeans is known to have a memory leak on \"\n",
      "C:\\Users\\Xiaoven\\Anaconda3\\lib\\site-packages\\sklearn\\cluster\\_kmeans.py:1044: UserWarning: MiniBatchKMeans is known to have a memory leak on Windows with MKL, when there are less chunks than available threads. You can prevent it by setting batch_size >= 2048 or by setting the environment variable OMP_NUM_THREADS=4\n",
      "  \"MiniBatchKMeans is known to have a memory leak on \"\n"
     ]
    },
    {
     "name": "stdout",
     "output_type": "stream",
     "text": [
      "torch.Size([1708, 6]) torch.Size([1708, 4]) torch.Size([318, 6]) torch.Size([318, 4])\n",
      "Epoch 0.loss:1.3856017589569092\n",
      "Epoch 100.loss:1.094043254852295\n",
      "Epoch 200.loss:1.265026330947876\n",
      "Epoch 300.loss:1.25863516330719\n",
      "Epoch 400.loss:1.2641429901123047\n"
     ]
    },
    {
     "name": "stderr",
     "output_type": "stream",
     "text": [
      "C:\\Users\\Xiaoven\\Anaconda3\\lib\\site-packages\\sklearn\\metrics\\_classification.py:1318: UndefinedMetricWarning: Precision is ill-defined and being set to 0.0 in labels with no predicted samples. Use `zero_division` parameter to control this behavior.\n",
      "  _warn_prf(average, modifier, msg_start, len(result))\n"
     ]
    },
    {
     "name": "stdout",
     "output_type": "stream",
     "text": [
      "Accuracy: 0.4056603773584906\n"
     ]
    },
    {
     "name": "stderr",
     "output_type": "stream",
     "text": [
      "C:\\Users\\Xiaoven\\Anaconda3\\lib\\site-packages\\sklearn\\metrics\\_classification.py:1318: UndefinedMetricWarning: Precision is ill-defined and being set to 0.0 in labels with no predicted samples. Use `zero_division` parameter to control this behavior.\n",
      "  _warn_prf(average, modifier, msg_start, len(result))\n"
     ]
    },
    {
     "name": "stdout",
     "output_type": "stream",
     "text": [
      "Precision: 0.23522439287970226\n",
      "Recall: 0.3230610875911659\n",
      "f1_score: 0.2573502254693783\n",
      "BBB_2014B-9.\n"
     ]
    },
    {
     "name": "stderr",
     "output_type": "stream",
     "text": [
      "C:\\Users\\Xiaoven\\Anaconda3\\lib\\site-packages\\sklearn\\cluster\\_kmeans.py:1044: UserWarning: MiniBatchKMeans is known to have a memory leak on Windows with MKL, when there are less chunks than available threads. You can prevent it by setting batch_size >= 2048 or by setting the environment variable OMP_NUM_THREADS=4\n",
      "  \"MiniBatchKMeans is known to have a memory leak on \"\n",
      "C:\\Users\\Xiaoven\\Anaconda3\\lib\\site-packages\\sklearn\\cluster\\_kmeans.py:1044: UserWarning: MiniBatchKMeans is known to have a memory leak on Windows with MKL, when there are less chunks than available threads. You can prevent it by setting batch_size >= 2048 or by setting the environment variable OMP_NUM_THREADS=4\n",
      "  \"MiniBatchKMeans is known to have a memory leak on \"\n",
      "C:\\Users\\Xiaoven\\Anaconda3\\lib\\site-packages\\sklearn\\cluster\\_kmeans.py:1044: UserWarning: MiniBatchKMeans is known to have a memory leak on Windows with MKL, when there are less chunks than available threads. You can prevent it by setting batch_size >= 2048 or by setting the environment variable OMP_NUM_THREADS=4\n",
      "  \"MiniBatchKMeans is known to have a memory leak on \"\n"
     ]
    },
    {
     "name": "stdout",
     "output_type": "stream",
     "text": [
      "torch.Size([1658, 9]) torch.Size([1658, 4]) torch.Size([318, 9]) torch.Size([318, 4])\n",
      "Epoch 0.loss:1.374275803565979\n",
      "Epoch 100.loss:1.2629774808883667\n",
      "Epoch 200.loss:1.248481035232544\n",
      "Epoch 300.loss:1.2492796182632446\n",
      "Epoch 400.loss:1.2523350715637207\n"
     ]
    },
    {
     "name": "stderr",
     "output_type": "stream",
     "text": [
      "C:\\Users\\Xiaoven\\Anaconda3\\lib\\site-packages\\sklearn\\metrics\\_classification.py:1318: UndefinedMetricWarning: Precision is ill-defined and being set to 0.0 in labels with no predicted samples. Use `zero_division` parameter to control this behavior.\n",
      "  _warn_prf(average, modifier, msg_start, len(result))\n"
     ]
    },
    {
     "name": "stdout",
     "output_type": "stream",
     "text": [
      "Accuracy: 0.41509433962264153\n"
     ]
    },
    {
     "name": "stderr",
     "output_type": "stream",
     "text": [
      "C:\\Users\\Xiaoven\\Anaconda3\\lib\\site-packages\\sklearn\\metrics\\_classification.py:1318: UndefinedMetricWarning: Precision is ill-defined and being set to 0.0 in labels with no predicted samples. Use `zero_division` parameter to control this behavior.\n",
      "  _warn_prf(average, modifier, msg_start, len(result))\n"
     ]
    },
    {
     "name": "stdout",
     "output_type": "stream",
     "text": [
      "Precision: 0.24699664289875983\n",
      "Recall: 0.26453488372093026\n",
      "f1_score: 0.22329687856003644\n",
      "BBB_2014J-12\n"
     ]
    },
    {
     "name": "stderr",
     "output_type": "stream",
     "text": [
      "C:\\Users\\Xiaoven\\Anaconda3\\lib\\site-packages\\sklearn\\cluster\\_kmeans.py:1044: UserWarning: MiniBatchKMeans is known to have a memory leak on Windows with MKL, when there are less chunks than available threads. You can prevent it by setting batch_size >= 2048 or by setting the environment variable OMP_NUM_THREADS=4\n",
      "  \"MiniBatchKMeans is known to have a memory leak on \"\n",
      "C:\\Users\\Xiaoven\\Anaconda3\\lib\\site-packages\\sklearn\\cluster\\_kmeans.py:1044: UserWarning: MiniBatchKMeans is known to have a memory leak on Windows with MKL, when there are less chunks than available threads. You can prevent it by setting batch_size >= 2048 or by setting the environment variable OMP_NUM_THREADS=4\n",
      "  \"MiniBatchKMeans is known to have a memory leak on \"\n",
      "C:\\Users\\Xiaoven\\Anaconda3\\lib\\site-packages\\sklearn\\cluster\\_kmeans.py:1044: UserWarning: MiniBatchKMeans is known to have a memory leak on Windows with MKL, when there are less chunks than available threads. You can prevent it by setting batch_size >= 2048 or by setting the environment variable OMP_NUM_THREADS=4\n",
      "  \"MiniBatchKMeans is known to have a memory leak on \"\n"
     ]
    },
    {
     "name": "stdout",
     "output_type": "stream",
     "text": [
      "torch.Size([2968, 12]) torch.Size([2968, 4]) torch.Size([477, 12]) torch.Size([477, 4])\n",
      "Epoch 0.loss:1.386157512664795\n",
      "Epoch 100.loss:0.970356822013855\n",
      "Epoch 200.loss:0.9619148373603821\n",
      "Epoch 300.loss:0.9631646871566772\n",
      "Epoch 400.loss:0.9644312262535095\n",
      "Accuracy: 0.5723270440251572\n",
      "Precision: 0.46574067404291286\n",
      "Recall: 0.42327838360433495\n",
      "f1_score: 0.3923618359337394\n",
      "BBB_2014J-18\n"
     ]
    },
    {
     "name": "stderr",
     "output_type": "stream",
     "text": [
      "C:\\Users\\Xiaoven\\Anaconda3\\lib\\site-packages\\sklearn\\cluster\\_kmeans.py:1044: UserWarning: MiniBatchKMeans is known to have a memory leak on Windows with MKL, when there are less chunks than available threads. You can prevent it by setting batch_size >= 2048 or by setting the environment variable OMP_NUM_THREADS=4\n",
      "  \"MiniBatchKMeans is known to have a memory leak on \"\n"
     ]
    },
    {
     "name": "stdout",
     "output_type": "stream",
     "text": [
      "BBB_2014J-24\n"
     ]
    },
    {
     "name": "stderr",
     "output_type": "stream",
     "text": [
      "C:\\Users\\Xiaoven\\Anaconda3\\lib\\site-packages\\sklearn\\cluster\\_kmeans.py:1044: UserWarning: MiniBatchKMeans is known to have a memory leak on Windows with MKL, when there are less chunks than available threads. You can prevent it by setting batch_size >= 2048 or by setting the environment variable OMP_NUM_THREADS=4\n",
      "  \"MiniBatchKMeans is known to have a memory leak on \"\n",
      "C:\\Users\\Xiaoven\\Anaconda3\\lib\\site-packages\\sklearn\\cluster\\_kmeans.py:1044: UserWarning: MiniBatchKMeans is known to have a memory leak on Windows with MKL, when there are less chunks than available threads. You can prevent it by setting batch_size >= 2048 or by setting the environment variable OMP_NUM_THREADS=4\n",
      "  \"MiniBatchKMeans is known to have a memory leak on \"\n",
      "C:\\Users\\Xiaoven\\Anaconda3\\lib\\site-packages\\sklearn\\cluster\\_kmeans.py:1044: UserWarning: MiniBatchKMeans is known to have a memory leak on Windows with MKL, when there are less chunks than available threads. You can prevent it by setting batch_size >= 2048 or by setting the environment variable OMP_NUM_THREADS=4\n",
      "  \"MiniBatchKMeans is known to have a memory leak on \"\n"
     ]
    },
    {
     "name": "stdout",
     "output_type": "stream",
     "text": [
      "torch.Size([2873, 24]) torch.Size([2873, 4]) torch.Size([477, 24]) torch.Size([477, 4])\n",
      "Epoch 0.loss:1.3751453161239624\n",
      "Epoch 100.loss:1.0332359075546265\n",
      "Epoch 200.loss:1.0200642347335815\n",
      "Epoch 300.loss:1.2038600444793701\n",
      "Epoch 400.loss:1.3913744688034058\n"
     ]
    },
    {
     "name": "stderr",
     "output_type": "stream",
     "text": [
      "C:\\Users\\Xiaoven\\Anaconda3\\lib\\site-packages\\sklearn\\metrics\\_classification.py:1318: UndefinedMetricWarning: Precision is ill-defined and being set to 0.0 in labels with no predicted samples. Use `zero_division` parameter to control this behavior.\n",
      "  _warn_prf(average, modifier, msg_start, len(result))\n"
     ]
    },
    {
     "name": "stdout",
     "output_type": "stream",
     "text": [
      "Accuracy: 0.5408805031446541\n"
     ]
    },
    {
     "name": "stderr",
     "output_type": "stream",
     "text": [
      "C:\\Users\\Xiaoven\\Anaconda3\\lib\\site-packages\\sklearn\\metrics\\_classification.py:1318: UndefinedMetricWarning: Precision is ill-defined and being set to 0.0 in labels with no predicted samples. Use `zero_division` parameter to control this behavior.\n",
      "  _warn_prf(average, modifier, msg_start, len(result))\n"
     ]
    },
    {
     "name": "stdout",
     "output_type": "stream",
     "text": [
      "Precision: 0.23218248764248967\n",
      "Recall: 0.2879378762999453\n",
      "f1_score: 0.24033730005834497\n",
      "BBB_2014J-32\n"
     ]
    },
    {
     "name": "stderr",
     "output_type": "stream",
     "text": [
      "C:\\Users\\Xiaoven\\Anaconda3\\lib\\site-packages\\sklearn\\cluster\\_kmeans.py:1044: UserWarning: MiniBatchKMeans is known to have a memory leak on Windows with MKL, when there are less chunks than available threads. You can prevent it by setting batch_size >= 2048 or by setting the environment variable OMP_NUM_THREADS=4\n",
      "  \"MiniBatchKMeans is known to have a memory leak on \"\n"
     ]
    },
    {
     "name": "stdout",
     "output_type": "stream",
     "text": [
      "BBB_2014J-48\n"
     ]
    },
    {
     "name": "stderr",
     "output_type": "stream",
     "text": [
      "C:\\Users\\Xiaoven\\Anaconda3\\lib\\site-packages\\sklearn\\cluster\\_kmeans.py:1044: UserWarning: MiniBatchKMeans is known to have a memory leak on Windows with MKL, when there are less chunks than available threads. You can prevent it by setting batch_size >= 2048 or by setting the environment variable OMP_NUM_THREADS=4\n",
      "  \"MiniBatchKMeans is known to have a memory leak on \"\n",
      "C:\\Users\\Xiaoven\\Anaconda3\\lib\\site-packages\\sklearn\\cluster\\_kmeans.py:1044: UserWarning: MiniBatchKMeans is known to have a memory leak on Windows with MKL, when there are less chunks than available threads. You can prevent it by setting batch_size >= 2048 or by setting the environment variable OMP_NUM_THREADS=4\n",
      "  \"MiniBatchKMeans is known to have a memory leak on \"\n",
      "C:\\Users\\Xiaoven\\Anaconda3\\lib\\site-packages\\sklearn\\cluster\\_kmeans.py:1044: UserWarning: MiniBatchKMeans is known to have a memory leak on Windows with MKL, when there are less chunks than available threads. You can prevent it by setting batch_size >= 2048 or by setting the environment variable OMP_NUM_THREADS=4\n",
      "  \"MiniBatchKMeans is known to have a memory leak on \"\n"
     ]
    },
    {
     "name": "stdout",
     "output_type": "stream",
     "text": [
      "torch.Size([2933, 48]) torch.Size([2933, 4]) torch.Size([477, 48]) torch.Size([477, 4])\n",
      "Epoch 0.loss:1.390120029449463\n",
      "Epoch 100.loss:1.0802974700927734\n",
      "Epoch 200.loss:1.1122523546218872\n",
      "Epoch 300.loss:1.083949327468872\n",
      "Epoch 400.loss:1.1918517351150513\n",
      "Accuracy: 0.5157232704402516\n",
      "Precision: 0.4069619091689718\n",
      "Recall: 0.417210021618756\n",
      "f1_score: 0.4111642427816704\n",
      "BBB_2014J-6.\n"
     ]
    },
    {
     "name": "stderr",
     "output_type": "stream",
     "text": [
      "C:\\Users\\Xiaoven\\Anaconda3\\lib\\site-packages\\sklearn\\cluster\\_kmeans.py:1044: UserWarning: MiniBatchKMeans is known to have a memory leak on Windows with MKL, when there are less chunks than available threads. You can prevent it by setting batch_size >= 2048 or by setting the environment variable OMP_NUM_THREADS=4\n",
      "  \"MiniBatchKMeans is known to have a memory leak on \"\n",
      "C:\\Users\\Xiaoven\\Anaconda3\\lib\\site-packages\\sklearn\\cluster\\_kmeans.py:1044: UserWarning: MiniBatchKMeans is known to have a memory leak on Windows with MKL, when there are less chunks than available threads. You can prevent it by setting batch_size >= 2048 or by setting the environment variable OMP_NUM_THREADS=4\n",
      "  \"MiniBatchKMeans is known to have a memory leak on \"\n",
      "C:\\Users\\Xiaoven\\Anaconda3\\lib\\site-packages\\sklearn\\cluster\\_kmeans.py:1044: UserWarning: MiniBatchKMeans is known to have a memory leak on Windows with MKL, when there are less chunks than available threads. You can prevent it by setting batch_size >= 2048 or by setting the environment variable OMP_NUM_THREADS=4\n",
      "  \"MiniBatchKMeans is known to have a memory leak on \"\n"
     ]
    },
    {
     "name": "stdout",
     "output_type": "stream",
     "text": [
      "torch.Size([2930, 6]) torch.Size([2930, 4]) torch.Size([477, 6]) torch.Size([477, 4])\n",
      "Epoch 0.loss:1.4816089868545532\n",
      "Epoch 100.loss:1.192908525466919\n",
      "Epoch 200.loss:1.1648768186569214\n",
      "Epoch 300.loss:1.1693509817123413\n",
      "Epoch 400.loss:1.154070496559143\n"
     ]
    },
    {
     "name": "stderr",
     "output_type": "stream",
     "text": [
      "C:\\Users\\Xiaoven\\Anaconda3\\lib\\site-packages\\sklearn\\metrics\\_classification.py:1318: UndefinedMetricWarning: Precision is ill-defined and being set to 0.0 in labels with no predicted samples. Use `zero_division` parameter to control this behavior.\n",
      "  _warn_prf(average, modifier, msg_start, len(result))\n"
     ]
    },
    {
     "name": "stdout",
     "output_type": "stream",
     "text": [
      "Accuracy: 0.5576519916142557\n"
     ]
    },
    {
     "name": "stderr",
     "output_type": "stream",
     "text": [
      "C:\\Users\\Xiaoven\\Anaconda3\\lib\\site-packages\\sklearn\\metrics\\_classification.py:1318: UndefinedMetricWarning: Precision is ill-defined and being set to 0.0 in labels with no predicted samples. Use `zero_division` parameter to control this behavior.\n",
      "  _warn_prf(average, modifier, msg_start, len(result))\n"
     ]
    },
    {
     "name": "stdout",
     "output_type": "stream",
     "text": [
      "Precision: 0.34796928802787397\n",
      "Recall: 0.379636703166115\n",
      "f1_score: 0.34799643789501666\n",
      "BBB_2014J-9.\n"
     ]
    },
    {
     "name": "stderr",
     "output_type": "stream",
     "text": [
      "C:\\Users\\Xiaoven\\Anaconda3\\lib\\site-packages\\sklearn\\cluster\\_kmeans.py:1044: UserWarning: MiniBatchKMeans is known to have a memory leak on Windows with MKL, when there are less chunks than available threads. You can prevent it by setting batch_size >= 2048 or by setting the environment variable OMP_NUM_THREADS=4\n",
      "  \"MiniBatchKMeans is known to have a memory leak on \"\n",
      "C:\\Users\\Xiaoven\\Anaconda3\\lib\\site-packages\\sklearn\\cluster\\_kmeans.py:1044: UserWarning: MiniBatchKMeans is known to have a memory leak on Windows with MKL, when there are less chunks than available threads. You can prevent it by setting batch_size >= 2048 or by setting the environment variable OMP_NUM_THREADS=4\n",
      "  \"MiniBatchKMeans is known to have a memory leak on \"\n",
      "C:\\Users\\Xiaoven\\Anaconda3\\lib\\site-packages\\sklearn\\cluster\\_kmeans.py:1044: UserWarning: MiniBatchKMeans is known to have a memory leak on Windows with MKL, when there are less chunks than available threads. You can prevent it by setting batch_size >= 2048 or by setting the environment variable OMP_NUM_THREADS=4\n",
      "  \"MiniBatchKMeans is known to have a memory leak on \"\n"
     ]
    },
    {
     "name": "stdout",
     "output_type": "stream",
     "text": [
      "torch.Size([2938, 9]) torch.Size([2938, 4]) torch.Size([477, 9]) torch.Size([477, 4])\n",
      "Epoch 0.loss:1.4745911359786987\n",
      "Epoch 100.loss:0.9997015595436096\n",
      "Epoch 200.loss:1.002223014831543\n",
      "Epoch 300.loss:0.9836300611495972\n",
      "Epoch 400.loss:0.9967600703239441\n",
      "Accuracy: 0.5911949685534591\n",
      "Precision: 0.4983528776567336\n",
      "Recall: 0.44634570986304956\n",
      "f1_score: 0.4370758809913321\n",
      "CCC_2014B-12\n"
     ]
    },
    {
     "name": "stderr",
     "output_type": "stream",
     "text": [
      "C:\\Users\\Xiaoven\\Anaconda3\\lib\\site-packages\\sklearn\\cluster\\_kmeans.py:1044: UserWarning: MiniBatchKMeans is known to have a memory leak on Windows with MKL, when there are less chunks than available threads. You can prevent it by setting batch_size >= 2048 or by setting the environment variable OMP_NUM_THREADS=4\n",
      "  \"MiniBatchKMeans is known to have a memory leak on \"\n"
     ]
    },
    {
     "name": "stdout",
     "output_type": "stream",
     "text": [
      "CCC_2014B-18\n"
     ]
    },
    {
     "name": "stderr",
     "output_type": "stream",
     "text": [
      "C:\\Users\\Xiaoven\\Anaconda3\\lib\\site-packages\\sklearn\\cluster\\_kmeans.py:1044: UserWarning: MiniBatchKMeans is known to have a memory leak on Windows with MKL, when there are less chunks than available threads. You can prevent it by setting batch_size >= 2048 or by setting the environment variable OMP_NUM_THREADS=4\n",
      "  \"MiniBatchKMeans is known to have a memory leak on \"\n",
      "C:\\Users\\Xiaoven\\Anaconda3\\lib\\site-packages\\sklearn\\cluster\\_kmeans.py:1044: UserWarning: MiniBatchKMeans is known to have a memory leak on Windows with MKL, when there are less chunks than available threads. You can prevent it by setting batch_size >= 2048 or by setting the environment variable OMP_NUM_THREADS=4\n",
      "  \"MiniBatchKMeans is known to have a memory leak on \"\n",
      "C:\\Users\\Xiaoven\\Anaconda3\\lib\\site-packages\\sklearn\\cluster\\_kmeans.py:1044: UserWarning: MiniBatchKMeans is known to have a memory leak on Windows with MKL, when there are less chunks than available threads. You can prevent it by setting batch_size >= 2048 or by setting the environment variable OMP_NUM_THREADS=4\n",
      "  \"MiniBatchKMeans is known to have a memory leak on \"\n"
     ]
    },
    {
     "name": "stdout",
     "output_type": "stream",
     "text": [
      "torch.Size([1907, 18]) torch.Size([1907, 4]) torch.Size([411, 18]) torch.Size([411, 4])\n",
      "Epoch 0.loss:1.3645758628845215\n",
      "Epoch 100.loss:1.2214754819869995\n",
      "Epoch 200.loss:1.211155891418457\n",
      "Epoch 300.loss:1.181626558303833\n",
      "Epoch 400.loss:0.9913243055343628\n",
      "Accuracy: 0.5304136253041363\n",
      "Precision: 0.4721080432295946\n",
      "Recall: 0.44797282670296956\n",
      "f1_score: 0.4313102123566078\n",
      "CCC_2014B-24\n"
     ]
    },
    {
     "name": "stderr",
     "output_type": "stream",
     "text": [
      "C:\\Users\\Xiaoven\\Anaconda3\\lib\\site-packages\\sklearn\\cluster\\_kmeans.py:1044: UserWarning: MiniBatchKMeans is known to have a memory leak on Windows with MKL, when there are less chunks than available threads. You can prevent it by setting batch_size >= 2048 or by setting the environment variable OMP_NUM_THREADS=4\n",
      "  \"MiniBatchKMeans is known to have a memory leak on \"\n"
     ]
    },
    {
     "name": "stdout",
     "output_type": "stream",
     "text": [
      "CCC_2014B-32\n"
     ]
    },
    {
     "name": "stderr",
     "output_type": "stream",
     "text": [
      "C:\\Users\\Xiaoven\\Anaconda3\\lib\\site-packages\\sklearn\\cluster\\_kmeans.py:1044: UserWarning: MiniBatchKMeans is known to have a memory leak on Windows with MKL, when there are less chunks than available threads. You can prevent it by setting batch_size >= 2048 or by setting the environment variable OMP_NUM_THREADS=4\n",
      "  \"MiniBatchKMeans is known to have a memory leak on \"\n",
      "C:\\Users\\Xiaoven\\Anaconda3\\lib\\site-packages\\sklearn\\cluster\\_kmeans.py:1044: UserWarning: MiniBatchKMeans is known to have a memory leak on Windows with MKL, when there are less chunks than available threads. You can prevent it by setting batch_size >= 2048 or by setting the environment variable OMP_NUM_THREADS=4\n",
      "  \"MiniBatchKMeans is known to have a memory leak on \"\n",
      "C:\\Users\\Xiaoven\\Anaconda3\\lib\\site-packages\\sklearn\\cluster\\_kmeans.py:1044: UserWarning: MiniBatchKMeans is known to have a memory leak on Windows with MKL, when there are less chunks than available threads. You can prevent it by setting batch_size >= 2048 or by setting the environment variable OMP_NUM_THREADS=4\n",
      "  \"MiniBatchKMeans is known to have a memory leak on \"\n"
     ]
    },
    {
     "name": "stdout",
     "output_type": "stream",
     "text": [
      "torch.Size([1884, 32]) torch.Size([1884, 4]) torch.Size([411, 32]) torch.Size([411, 4])\n",
      "Epoch 0.loss:1.343587040901184\n",
      "Epoch 100.loss:1.0079516172409058\n",
      "Epoch 200.loss:1.0136717557907104\n",
      "Epoch 300.loss:1.1860320568084717\n",
      "Epoch 400.loss:1.1942771673202515\n"
     ]
    },
    {
     "name": "stderr",
     "output_type": "stream",
     "text": [
      "C:\\Users\\Xiaoven\\Anaconda3\\lib\\site-packages\\sklearn\\metrics\\_classification.py:1318: UndefinedMetricWarning: Precision is ill-defined and being set to 0.0 in labels with no predicted samples. Use `zero_division` parameter to control this behavior.\n",
      "  _warn_prf(average, modifier, msg_start, len(result))\n"
     ]
    },
    {
     "name": "stdout",
     "output_type": "stream",
     "text": [
      "Accuracy: 0.5644768856447688\n"
     ]
    },
    {
     "name": "stderr",
     "output_type": "stream",
     "text": [
      "C:\\Users\\Xiaoven\\Anaconda3\\lib\\site-packages\\sklearn\\metrics\\_classification.py:1318: UndefinedMetricWarning: Precision is ill-defined and being set to 0.0 in labels with no predicted samples. Use `zero_division` parameter to control this behavior.\n",
      "  _warn_prf(average, modifier, msg_start, len(result))\n"
     ]
    },
    {
     "name": "stdout",
     "output_type": "stream",
     "text": [
      "Precision: 0.43888526810707607\n",
      "Recall: 0.4712025403082314\n",
      "f1_score: 0.4341396924178381\n",
      "CCC_2014B-48\n"
     ]
    },
    {
     "name": "stderr",
     "output_type": "stream",
     "text": [
      "C:\\Users\\Xiaoven\\Anaconda3\\lib\\site-packages\\sklearn\\cluster\\_kmeans.py:1044: UserWarning: MiniBatchKMeans is known to have a memory leak on Windows with MKL, when there are less chunks than available threads. You can prevent it by setting batch_size >= 2048 or by setting the environment variable OMP_NUM_THREADS=4\n",
      "  \"MiniBatchKMeans is known to have a memory leak on \"\n",
      "C:\\Users\\Xiaoven\\Anaconda3\\lib\\site-packages\\sklearn\\cluster\\_kmeans.py:1044: UserWarning: MiniBatchKMeans is known to have a memory leak on Windows with MKL, when there are less chunks than available threads. You can prevent it by setting batch_size >= 2048 or by setting the environment variable OMP_NUM_THREADS=4\n",
      "  \"MiniBatchKMeans is known to have a memory leak on \"\n",
      "C:\\Users\\Xiaoven\\Anaconda3\\lib\\site-packages\\sklearn\\cluster\\_kmeans.py:1044: UserWarning: MiniBatchKMeans is known to have a memory leak on Windows with MKL, when there are less chunks than available threads. You can prevent it by setting batch_size >= 2048 or by setting the environment variable OMP_NUM_THREADS=4\n",
      "  \"MiniBatchKMeans is known to have a memory leak on \"\n"
     ]
    },
    {
     "name": "stdout",
     "output_type": "stream",
     "text": [
      "torch.Size([1865, 48]) torch.Size([1865, 4]) torch.Size([411, 48]) torch.Size([411, 4])\n",
      "Epoch 0.loss:1.34505033493042\n",
      "Epoch 100.loss:1.0343475341796875\n",
      "Epoch 200.loss:1.0328322649002075\n",
      "Epoch 300.loss:1.0417134761810303\n",
      "Epoch 400.loss:1.0034871101379395\n",
      "Accuracy: 0.5912408759124088\n",
      "Precision: 0.5093009077638804\n",
      "Recall: 0.5206306675212458\n",
      "f1_score: 0.5006190767343016\n",
      "CCC_2014B-6.\n"
     ]
    },
    {
     "name": "stderr",
     "output_type": "stream",
     "text": [
      "C:\\Users\\Xiaoven\\Anaconda3\\lib\\site-packages\\sklearn\\cluster\\_kmeans.py:1044: UserWarning: MiniBatchKMeans is known to have a memory leak on Windows with MKL, when there are less chunks than available threads. You can prevent it by setting batch_size >= 2048 or by setting the environment variable OMP_NUM_THREADS=4\n",
      "  \"MiniBatchKMeans is known to have a memory leak on \"\n",
      "C:\\Users\\Xiaoven\\Anaconda3\\lib\\site-packages\\sklearn\\cluster\\_kmeans.py:1044: UserWarning: MiniBatchKMeans is known to have a memory leak on Windows with MKL, when there are less chunks than available threads. You can prevent it by setting batch_size >= 2048 or by setting the environment variable OMP_NUM_THREADS=4\n",
      "  \"MiniBatchKMeans is known to have a memory leak on \"\n",
      "C:\\Users\\Xiaoven\\Anaconda3\\lib\\site-packages\\sklearn\\cluster\\_kmeans.py:1044: UserWarning: MiniBatchKMeans is known to have a memory leak on Windows with MKL, when there are less chunks than available threads. You can prevent it by setting batch_size >= 2048 or by setting the environment variable OMP_NUM_THREADS=4\n",
      "  \"MiniBatchKMeans is known to have a memory leak on \"\n"
     ]
    },
    {
     "name": "stdout",
     "output_type": "stream",
     "text": [
      "torch.Size([1927, 6]) torch.Size([1927, 4]) torch.Size([411, 6]) torch.Size([411, 4])\n",
      "Epoch 0.loss:1.3111541271209717\n",
      "Epoch 100.loss:1.076592206954956\n",
      "Epoch 200.loss:1.0609513521194458\n",
      "Epoch 300.loss:1.0678898096084595\n",
      "Epoch 400.loss:1.0329632759094238\n",
      "Accuracy: 0.5863746958637469\n",
      "Precision: 0.5376716683763664\n",
      "Recall: 0.5282178177102989\n",
      "f1_score: 0.5260249471366122\n",
      "CCC_2014B-9.\n"
     ]
    },
    {
     "name": "stderr",
     "output_type": "stream",
     "text": [
      "C:\\Users\\Xiaoven\\Anaconda3\\lib\\site-packages\\sklearn\\cluster\\_kmeans.py:1044: UserWarning: MiniBatchKMeans is known to have a memory leak on Windows with MKL, when there are less chunks than available threads. You can prevent it by setting batch_size >= 2048 or by setting the environment variable OMP_NUM_THREADS=4\n",
      "  \"MiniBatchKMeans is known to have a memory leak on \"\n",
      "C:\\Users\\Xiaoven\\Anaconda3\\lib\\site-packages\\sklearn\\cluster\\_kmeans.py:1044: UserWarning: MiniBatchKMeans is known to have a memory leak on Windows with MKL, when there are less chunks than available threads. You can prevent it by setting batch_size >= 2048 or by setting the environment variable OMP_NUM_THREADS=4\n",
      "  \"MiniBatchKMeans is known to have a memory leak on \"\n",
      "C:\\Users\\Xiaoven\\Anaconda3\\lib\\site-packages\\sklearn\\cluster\\_kmeans.py:1044: UserWarning: MiniBatchKMeans is known to have a memory leak on Windows with MKL, when there are less chunks than available threads. You can prevent it by setting batch_size >= 2048 or by setting the environment variable OMP_NUM_THREADS=4\n",
      "  \"MiniBatchKMeans is known to have a memory leak on \"\n"
     ]
    },
    {
     "name": "stdout",
     "output_type": "stream",
     "text": [
      "torch.Size([1878, 9]) torch.Size([1878, 4]) torch.Size([411, 9]) torch.Size([411, 4])\n",
      "Epoch 0.loss:1.3580816984176636\n",
      "Epoch 100.loss:1.0233023166656494\n",
      "Epoch 200.loss:1.0231043100357056\n",
      "Epoch 300.loss:1.0165339708328247\n",
      "Epoch 400.loss:1.0139505863189697\n",
      "Accuracy: 0.5717761557177615\n",
      "Precision: 0.5356483676966686\n",
      "Recall: 0.48784404679570714\n",
      "f1_score: 0.46464710383800334\n",
      "CCC_2014J-12\n"
     ]
    },
    {
     "name": "stderr",
     "output_type": "stream",
     "text": [
      "C:\\Users\\Xiaoven\\Anaconda3\\lib\\site-packages\\sklearn\\cluster\\_kmeans.py:1044: UserWarning: MiniBatchKMeans is known to have a memory leak on Windows with MKL, when there are less chunks than available threads. You can prevent it by setting batch_size >= 2048 or by setting the environment variable OMP_NUM_THREADS=4\n",
      "  \"MiniBatchKMeans is known to have a memory leak on \"\n",
      "C:\\Users\\Xiaoven\\Anaconda3\\lib\\site-packages\\sklearn\\cluster\\_kmeans.py:1044: UserWarning: MiniBatchKMeans is known to have a memory leak on Windows with MKL, when there are less chunks than available threads. You can prevent it by setting batch_size >= 2048 or by setting the environment variable OMP_NUM_THREADS=4\n",
      "  \"MiniBatchKMeans is known to have a memory leak on \"\n",
      "C:\\Users\\Xiaoven\\Anaconda3\\lib\\site-packages\\sklearn\\cluster\\_kmeans.py:1044: UserWarning: MiniBatchKMeans is known to have a memory leak on Windows with MKL, when there are less chunks than available threads. You can prevent it by setting batch_size >= 2048 or by setting the environment variable OMP_NUM_THREADS=4\n",
      "  \"MiniBatchKMeans is known to have a memory leak on \"\n"
     ]
    },
    {
     "name": "stdout",
     "output_type": "stream",
     "text": [
      "torch.Size([2522, 12]) torch.Size([2522, 4]) torch.Size([564, 12]) torch.Size([564, 4])\n",
      "Epoch 0.loss:1.3472870588302612\n",
      "Epoch 100.loss:1.048216462135315\n",
      "Epoch 200.loss:1.0407757759094238\n",
      "Epoch 300.loss:1.0462005138397217\n",
      "Epoch 400.loss:1.0426018238067627\n",
      "Accuracy: 0.5585106382978723\n",
      "Precision: 0.5143431764733251\n",
      "Recall: 0.4814794415160182\n",
      "f1_score: 0.4856751217709584\n",
      "CCC_2014J-18\n"
     ]
    },
    {
     "name": "stderr",
     "output_type": "stream",
     "text": [
      "C:\\Users\\Xiaoven\\Anaconda3\\lib\\site-packages\\sklearn\\cluster\\_kmeans.py:1044: UserWarning: MiniBatchKMeans is known to have a memory leak on Windows with MKL, when there are less chunks than available threads. You can prevent it by setting batch_size >= 2048 or by setting the environment variable OMP_NUM_THREADS=4\n",
      "  \"MiniBatchKMeans is known to have a memory leak on \"\n",
      "C:\\Users\\Xiaoven\\Anaconda3\\lib\\site-packages\\sklearn\\cluster\\_kmeans.py:1044: UserWarning: MiniBatchKMeans is known to have a memory leak on Windows with MKL, when there are less chunks than available threads. You can prevent it by setting batch_size >= 2048 or by setting the environment variable OMP_NUM_THREADS=4\n",
      "  \"MiniBatchKMeans is known to have a memory leak on \"\n",
      "C:\\Users\\Xiaoven\\Anaconda3\\lib\\site-packages\\sklearn\\cluster\\_kmeans.py:1044: UserWarning: MiniBatchKMeans is known to have a memory leak on Windows with MKL, when there are less chunks than available threads. You can prevent it by setting batch_size >= 2048 or by setting the environment variable OMP_NUM_THREADS=4\n",
      "  \"MiniBatchKMeans is known to have a memory leak on \"\n"
     ]
    },
    {
     "name": "stdout",
     "output_type": "stream",
     "text": [
      "torch.Size([2573, 18]) torch.Size([2573, 4]) torch.Size([564, 18]) torch.Size([564, 4])\n",
      "Epoch 0.loss:1.3287183046340942\n",
      "Epoch 100.loss:1.0136445760726929\n",
      "Epoch 200.loss:1.0120352506637573\n",
      "Epoch 300.loss:0.9976341724395752\n",
      "Epoch 400.loss:1.0062294006347656\n",
      "Accuracy: 0.6276595744680851\n",
      "Precision: 0.5495582163268528\n",
      "Recall: 0.5513571828395446\n",
      "f1_score: 0.5465838840140108\n",
      "CCC_2014J-24\n"
     ]
    },
    {
     "name": "stderr",
     "output_type": "stream",
     "text": [
      "C:\\Users\\Xiaoven\\Anaconda3\\lib\\site-packages\\sklearn\\cluster\\_kmeans.py:1044: UserWarning: MiniBatchKMeans is known to have a memory leak on Windows with MKL, when there are less chunks than available threads. You can prevent it by setting batch_size >= 2048 or by setting the environment variable OMP_NUM_THREADS=4\n",
      "  \"MiniBatchKMeans is known to have a memory leak on \"\n",
      "C:\\Users\\Xiaoven\\Anaconda3\\lib\\site-packages\\sklearn\\cluster\\_kmeans.py:1044: UserWarning: MiniBatchKMeans is known to have a memory leak on Windows with MKL, when there are less chunks than available threads. You can prevent it by setting batch_size >= 2048 or by setting the environment variable OMP_NUM_THREADS=4\n",
      "  \"MiniBatchKMeans is known to have a memory leak on \"\n",
      "C:\\Users\\Xiaoven\\Anaconda3\\lib\\site-packages\\sklearn\\cluster\\_kmeans.py:1044: UserWarning: MiniBatchKMeans is known to have a memory leak on Windows with MKL, when there are less chunks than available threads. You can prevent it by setting batch_size >= 2048 or by setting the environment variable OMP_NUM_THREADS=4\n",
      "  \"MiniBatchKMeans is known to have a memory leak on \"\n"
     ]
    },
    {
     "name": "stdout",
     "output_type": "stream",
     "text": [
      "torch.Size([2553, 24]) torch.Size([2553, 4]) torch.Size([564, 24]) torch.Size([564, 4])\n",
      "Epoch 0.loss:1.3357146978378296\n",
      "Epoch 100.loss:1.014686942100525\n",
      "Epoch 200.loss:0.9838544130325317\n",
      "Epoch 300.loss:0.9824674129486084\n",
      "Epoch 400.loss:0.9716829657554626\n",
      "Accuracy: 0.524822695035461\n",
      "Precision: 0.46521810397741137\n",
      "Recall: 0.47903726708074534\n",
      "f1_score: 0.4625637396515059\n",
      "CCC_2014J-32\n"
     ]
    },
    {
     "name": "stderr",
     "output_type": "stream",
     "text": [
      "C:\\Users\\Xiaoven\\Anaconda3\\lib\\site-packages\\sklearn\\cluster\\_kmeans.py:1044: UserWarning: MiniBatchKMeans is known to have a memory leak on Windows with MKL, when there are less chunks than available threads. You can prevent it by setting batch_size >= 2048 or by setting the environment variable OMP_NUM_THREADS=4\n",
      "  \"MiniBatchKMeans is known to have a memory leak on \"\n",
      "C:\\Users\\Xiaoven\\Anaconda3\\lib\\site-packages\\sklearn\\cluster\\_kmeans.py:1044: UserWarning: MiniBatchKMeans is known to have a memory leak on Windows with MKL, when there are less chunks than available threads. You can prevent it by setting batch_size >= 2048 or by setting the environment variable OMP_NUM_THREADS=4\n",
      "  \"MiniBatchKMeans is known to have a memory leak on \"\n",
      "C:\\Users\\Xiaoven\\Anaconda3\\lib\\site-packages\\sklearn\\cluster\\_kmeans.py:1044: UserWarning: MiniBatchKMeans is known to have a memory leak on Windows with MKL, when there are less chunks than available threads. You can prevent it by setting batch_size >= 2048 or by setting the environment variable OMP_NUM_THREADS=4\n",
      "  \"MiniBatchKMeans is known to have a memory leak on \"\n"
     ]
    },
    {
     "name": "stdout",
     "output_type": "stream",
     "text": [
      "torch.Size([2525, 32]) torch.Size([2525, 4]) torch.Size([564, 32]) torch.Size([564, 4])\n",
      "Epoch 0.loss:1.318791151046753\n",
      "Epoch 100.loss:1.0675908327102661\n",
      "Epoch 200.loss:1.0531779527664185\n",
      "Epoch 300.loss:1.081152319908142\n",
      "Epoch 400.loss:1.097154974937439\n",
      "Accuracy: 0.5460992907801419\n",
      "Precision: 0.4790654298931184\n",
      "Recall: 0.48134587865921685\n",
      "f1_score: 0.4780127357882016\n",
      "CCC_2014J-48\n"
     ]
    },
    {
     "name": "stderr",
     "output_type": "stream",
     "text": [
      "C:\\Users\\Xiaoven\\Anaconda3\\lib\\site-packages\\sklearn\\cluster\\_kmeans.py:1044: UserWarning: MiniBatchKMeans is known to have a memory leak on Windows with MKL, when there are less chunks than available threads. You can prevent it by setting batch_size >= 2048 or by setting the environment variable OMP_NUM_THREADS=4\n",
      "  \"MiniBatchKMeans is known to have a memory leak on \"\n",
      "C:\\Users\\Xiaoven\\Anaconda3\\lib\\site-packages\\sklearn\\cluster\\_kmeans.py:1044: UserWarning: MiniBatchKMeans is known to have a memory leak on Windows with MKL, when there are less chunks than available threads. You can prevent it by setting batch_size >= 2048 or by setting the environment variable OMP_NUM_THREADS=4\n",
      "  \"MiniBatchKMeans is known to have a memory leak on \"\n",
      "C:\\Users\\Xiaoven\\Anaconda3\\lib\\site-packages\\sklearn\\cluster\\_kmeans.py:1044: UserWarning: MiniBatchKMeans is known to have a memory leak on Windows with MKL, when there are less chunks than available threads. You can prevent it by setting batch_size >= 2048 or by setting the environment variable OMP_NUM_THREADS=4\n",
      "  \"MiniBatchKMeans is known to have a memory leak on \"\n"
     ]
    },
    {
     "name": "stdout",
     "output_type": "stream",
     "text": [
      "torch.Size([2597, 48]) torch.Size([2597, 4]) torch.Size([564, 48]) torch.Size([564, 4])\n",
      "Epoch 0.loss:1.3369916677474976\n",
      "Epoch 100.loss:1.0297225713729858\n",
      "Epoch 200.loss:1.0437155961990356\n",
      "Epoch 300.loss:1.017553448677063\n",
      "Epoch 400.loss:1.034282922744751\n",
      "Accuracy: 0.5425531914893617\n",
      "Precision: 0.48429345498674203\n",
      "Recall: 0.493094268597714\n",
      "f1_score: 0.4866882550739684\n",
      "CCC_2014J-6.\n"
     ]
    },
    {
     "name": "stderr",
     "output_type": "stream",
     "text": [
      "C:\\Users\\Xiaoven\\Anaconda3\\lib\\site-packages\\sklearn\\cluster\\_kmeans.py:1044: UserWarning: MiniBatchKMeans is known to have a memory leak on Windows with MKL, when there are less chunks than available threads. You can prevent it by setting batch_size >= 2048 or by setting the environment variable OMP_NUM_THREADS=4\n",
      "  \"MiniBatchKMeans is known to have a memory leak on \"\n",
      "C:\\Users\\Xiaoven\\Anaconda3\\lib\\site-packages\\sklearn\\cluster\\_kmeans.py:1044: UserWarning: MiniBatchKMeans is known to have a memory leak on Windows with MKL, when there are less chunks than available threads. You can prevent it by setting batch_size >= 2048 or by setting the environment variable OMP_NUM_THREADS=4\n",
      "  \"MiniBatchKMeans is known to have a memory leak on \"\n",
      "C:\\Users\\Xiaoven\\Anaconda3\\lib\\site-packages\\sklearn\\cluster\\_kmeans.py:1044: UserWarning: MiniBatchKMeans is known to have a memory leak on Windows with MKL, when there are less chunks than available threads. You can prevent it by setting batch_size >= 2048 or by setting the environment variable OMP_NUM_THREADS=4\n",
      "  \"MiniBatchKMeans is known to have a memory leak on \"\n"
     ]
    },
    {
     "name": "stdout",
     "output_type": "stream",
     "text": [
      "torch.Size([2586, 6]) torch.Size([2586, 4]) torch.Size([564, 6]) torch.Size([564, 4])\n",
      "Epoch 0.loss:1.2850991487503052\n",
      "Epoch 100.loss:1.0413082838058472\n",
      "Epoch 200.loss:1.0207961797714233\n",
      "Epoch 300.loss:1.0133064985275269\n",
      "Epoch 400.loss:1.011020302772522\n",
      "Accuracy: 0.5159574468085106\n",
      "Precision: 0.455134541425417\n",
      "Recall: 0.45289217630326567\n",
      "f1_score: 0.4527047729064159\n",
      "CCC_2014J-9.\n"
     ]
    },
    {
     "name": "stderr",
     "output_type": "stream",
     "text": [
      "C:\\Users\\Xiaoven\\Anaconda3\\lib\\site-packages\\sklearn\\cluster\\_kmeans.py:1044: UserWarning: MiniBatchKMeans is known to have a memory leak on Windows with MKL, when there are less chunks than available threads. You can prevent it by setting batch_size >= 2048 or by setting the environment variable OMP_NUM_THREADS=4\n",
      "  \"MiniBatchKMeans is known to have a memory leak on \"\n",
      "C:\\Users\\Xiaoven\\Anaconda3\\lib\\site-packages\\sklearn\\cluster\\_kmeans.py:1044: UserWarning: MiniBatchKMeans is known to have a memory leak on Windows with MKL, when there are less chunks than available threads. You can prevent it by setting batch_size >= 2048 or by setting the environment variable OMP_NUM_THREADS=4\n",
      "  \"MiniBatchKMeans is known to have a memory leak on \"\n",
      "C:\\Users\\Xiaoven\\Anaconda3\\lib\\site-packages\\sklearn\\cluster\\_kmeans.py:1044: UserWarning: MiniBatchKMeans is known to have a memory leak on Windows with MKL, when there are less chunks than available threads. You can prevent it by setting batch_size >= 2048 or by setting the environment variable OMP_NUM_THREADS=4\n",
      "  \"MiniBatchKMeans is known to have a memory leak on \"\n"
     ]
    },
    {
     "name": "stdout",
     "output_type": "stream",
     "text": [
      "torch.Size([2513, 9]) torch.Size([2513, 4]) torch.Size([564, 9]) torch.Size([564, 4])\n",
      "Epoch 0.loss:1.3320735692977905\n",
      "Epoch 100.loss:1.1181050539016724\n",
      "Epoch 200.loss:1.1254024505615234\n",
      "Epoch 300.loss:1.1148178577423096\n",
      "Epoch 400.loss:1.1051430702209473\n",
      "Accuracy: 0.5975177304964538\n",
      "Precision: 0.518696464682941\n",
      "Recall: 0.5104785942907663\n",
      "f1_score: 0.5132361491918788\n",
      "DDD_2013B-12\n"
     ]
    },
    {
     "name": "stderr",
     "output_type": "stream",
     "text": [
      "C:\\Users\\Xiaoven\\Anaconda3\\lib\\site-packages\\sklearn\\cluster\\_kmeans.py:1044: UserWarning: MiniBatchKMeans is known to have a memory leak on Windows with MKL, when there are less chunks than available threads. You can prevent it by setting batch_size >= 2048 or by setting the environment variable OMP_NUM_THREADS=4\n",
      "  \"MiniBatchKMeans is known to have a memory leak on \"\n"
     ]
    },
    {
     "name": "stdout",
     "output_type": "stream",
     "text": [
      "DDD_2013B-18\n"
     ]
    },
    {
     "name": "stderr",
     "output_type": "stream",
     "text": [
      "C:\\Users\\Xiaoven\\Anaconda3\\lib\\site-packages\\sklearn\\cluster\\_kmeans.py:1044: UserWarning: MiniBatchKMeans is known to have a memory leak on Windows with MKL, when there are less chunks than available threads. You can prevent it by setting batch_size >= 2048 or by setting the environment variable OMP_NUM_THREADS=4\n",
      "  \"MiniBatchKMeans is known to have a memory leak on \"\n"
     ]
    },
    {
     "name": "stdout",
     "output_type": "stream",
     "text": [
      "DDD_2013B-24\n"
     ]
    },
    {
     "name": "stderr",
     "output_type": "stream",
     "text": [
      "C:\\Users\\Xiaoven\\Anaconda3\\lib\\site-packages\\sklearn\\cluster\\_kmeans.py:1044: UserWarning: MiniBatchKMeans is known to have a memory leak on Windows with MKL, when there are less chunks than available threads. You can prevent it by setting batch_size >= 2048 or by setting the environment variable OMP_NUM_THREADS=4\n",
      "  \"MiniBatchKMeans is known to have a memory leak on \"\n"
     ]
    },
    {
     "name": "stdout",
     "output_type": "stream",
     "text": [
      "DDD_2013B-32\n"
     ]
    },
    {
     "name": "stderr",
     "output_type": "stream",
     "text": [
      "C:\\Users\\Xiaoven\\Anaconda3\\lib\\site-packages\\sklearn\\cluster\\_kmeans.py:1044: UserWarning: MiniBatchKMeans is known to have a memory leak on Windows with MKL, when there are less chunks than available threads. You can prevent it by setting batch_size >= 2048 or by setting the environment variable OMP_NUM_THREADS=4\n",
      "  \"MiniBatchKMeans is known to have a memory leak on \"\n"
     ]
    },
    {
     "name": "stdout",
     "output_type": "stream",
     "text": [
      "DDD_2013B-48\n"
     ]
    },
    {
     "name": "stderr",
     "output_type": "stream",
     "text": [
      "C:\\Users\\Xiaoven\\Anaconda3\\lib\\site-packages\\sklearn\\cluster\\_kmeans.py:1044: UserWarning: MiniBatchKMeans is known to have a memory leak on Windows with MKL, when there are less chunks than available threads. You can prevent it by setting batch_size >= 2048 or by setting the environment variable OMP_NUM_THREADS=4\n",
      "  \"MiniBatchKMeans is known to have a memory leak on \"\n"
     ]
    },
    {
     "name": "stdout",
     "output_type": "stream",
     "text": [
      "DDD_2013B-6.\n"
     ]
    },
    {
     "name": "stderr",
     "output_type": "stream",
     "text": [
      "C:\\Users\\Xiaoven\\Anaconda3\\lib\\site-packages\\sklearn\\cluster\\_kmeans.py:1044: UserWarning: MiniBatchKMeans is known to have a memory leak on Windows with MKL, when there are less chunks than available threads. You can prevent it by setting batch_size >= 2048 or by setting the environment variable OMP_NUM_THREADS=4\n",
      "  \"MiniBatchKMeans is known to have a memory leak on \"\n"
     ]
    },
    {
     "name": "stdout",
     "output_type": "stream",
     "text": [
      "DDD_2013B-9.\n"
     ]
    },
    {
     "name": "stderr",
     "output_type": "stream",
     "text": [
      "C:\\Users\\Xiaoven\\Anaconda3\\lib\\site-packages\\sklearn\\cluster\\_kmeans.py:1044: UserWarning: MiniBatchKMeans is known to have a memory leak on Windows with MKL, when there are less chunks than available threads. You can prevent it by setting batch_size >= 2048 or by setting the environment variable OMP_NUM_THREADS=4\n",
      "  \"MiniBatchKMeans is known to have a memory leak on \"\n"
     ]
    },
    {
     "name": "stdout",
     "output_type": "stream",
     "text": [
      "DDD_2013J-12\n"
     ]
    },
    {
     "name": "stderr",
     "output_type": "stream",
     "text": [
      "C:\\Users\\Xiaoven\\Anaconda3\\lib\\site-packages\\sklearn\\cluster\\_kmeans.py:1044: UserWarning: MiniBatchKMeans is known to have a memory leak on Windows with MKL, when there are less chunks than available threads. You can prevent it by setting batch_size >= 2048 or by setting the environment variable OMP_NUM_THREADS=4\n",
      "  \"MiniBatchKMeans is known to have a memory leak on \"\n"
     ]
    },
    {
     "name": "stdout",
     "output_type": "stream",
     "text": [
      "DDD_2013J-18\n"
     ]
    },
    {
     "name": "stderr",
     "output_type": "stream",
     "text": [
      "C:\\Users\\Xiaoven\\Anaconda3\\lib\\site-packages\\sklearn\\cluster\\_kmeans.py:1044: UserWarning: MiniBatchKMeans is known to have a memory leak on Windows with MKL, when there are less chunks than available threads. You can prevent it by setting batch_size >= 2048 or by setting the environment variable OMP_NUM_THREADS=4\n",
      "  \"MiniBatchKMeans is known to have a memory leak on \"\n"
     ]
    },
    {
     "name": "stdout",
     "output_type": "stream",
     "text": [
      "DDD_2013J-24\n"
     ]
    },
    {
     "name": "stderr",
     "output_type": "stream",
     "text": [
      "C:\\Users\\Xiaoven\\Anaconda3\\lib\\site-packages\\sklearn\\cluster\\_kmeans.py:1044: UserWarning: MiniBatchKMeans is known to have a memory leak on Windows with MKL, when there are less chunks than available threads. You can prevent it by setting batch_size >= 2048 or by setting the environment variable OMP_NUM_THREADS=4\n",
      "  \"MiniBatchKMeans is known to have a memory leak on \"\n"
     ]
    },
    {
     "name": "stdout",
     "output_type": "stream",
     "text": [
      "DDD_2013J-32\n"
     ]
    },
    {
     "name": "stderr",
     "output_type": "stream",
     "text": [
      "C:\\Users\\Xiaoven\\Anaconda3\\lib\\site-packages\\sklearn\\cluster\\_kmeans.py:1044: UserWarning: MiniBatchKMeans is known to have a memory leak on Windows with MKL, when there are less chunks than available threads. You can prevent it by setting batch_size >= 2048 or by setting the environment variable OMP_NUM_THREADS=4\n",
      "  \"MiniBatchKMeans is known to have a memory leak on \"\n"
     ]
    },
    {
     "name": "stdout",
     "output_type": "stream",
     "text": [
      "DDD_2013J-48\n"
     ]
    },
    {
     "name": "stderr",
     "output_type": "stream",
     "text": [
      "C:\\Users\\Xiaoven\\Anaconda3\\lib\\site-packages\\sklearn\\cluster\\_kmeans.py:1044: UserWarning: MiniBatchKMeans is known to have a memory leak on Windows with MKL, when there are less chunks than available threads. You can prevent it by setting batch_size >= 2048 or by setting the environment variable OMP_NUM_THREADS=4\n",
      "  \"MiniBatchKMeans is known to have a memory leak on \"\n"
     ]
    },
    {
     "name": "stdout",
     "output_type": "stream",
     "text": [
      "DDD_2013J-6.\n"
     ]
    },
    {
     "name": "stderr",
     "output_type": "stream",
     "text": [
      "C:\\Users\\Xiaoven\\Anaconda3\\lib\\site-packages\\sklearn\\cluster\\_kmeans.py:1044: UserWarning: MiniBatchKMeans is known to have a memory leak on Windows with MKL, when there are less chunks than available threads. You can prevent it by setting batch_size >= 2048 or by setting the environment variable OMP_NUM_THREADS=4\n",
      "  \"MiniBatchKMeans is known to have a memory leak on \"\n"
     ]
    },
    {
     "name": "stdout",
     "output_type": "stream",
     "text": [
      "DDD_2013J-9.\n"
     ]
    },
    {
     "name": "stderr",
     "output_type": "stream",
     "text": [
      "C:\\Users\\Xiaoven\\Anaconda3\\lib\\site-packages\\sklearn\\cluster\\_kmeans.py:1044: UserWarning: MiniBatchKMeans is known to have a memory leak on Windows with MKL, when there are less chunks than available threads. You can prevent it by setting batch_size >= 2048 or by setting the environment variable OMP_NUM_THREADS=4\n",
      "  \"MiniBatchKMeans is known to have a memory leak on \"\n"
     ]
    },
    {
     "name": "stdout",
     "output_type": "stream",
     "text": [
      "DDD_2014B-12\n"
     ]
    },
    {
     "name": "stderr",
     "output_type": "stream",
     "text": [
      "C:\\Users\\Xiaoven\\Anaconda3\\lib\\site-packages\\sklearn\\cluster\\_kmeans.py:1044: UserWarning: MiniBatchKMeans is known to have a memory leak on Windows with MKL, when there are less chunks than available threads. You can prevent it by setting batch_size >= 2048 or by setting the environment variable OMP_NUM_THREADS=4\n",
      "  \"MiniBatchKMeans is known to have a memory leak on \"\n"
     ]
    },
    {
     "name": "stdout",
     "output_type": "stream",
     "text": [
      "DDD_2014B-18\n"
     ]
    },
    {
     "name": "stderr",
     "output_type": "stream",
     "text": [
      "C:\\Users\\Xiaoven\\Anaconda3\\lib\\site-packages\\sklearn\\cluster\\_kmeans.py:1044: UserWarning: MiniBatchKMeans is known to have a memory leak on Windows with MKL, when there are less chunks than available threads. You can prevent it by setting batch_size >= 2048 or by setting the environment variable OMP_NUM_THREADS=4\n",
      "  \"MiniBatchKMeans is known to have a memory leak on \"\n"
     ]
    },
    {
     "name": "stdout",
     "output_type": "stream",
     "text": [
      "DDD_2014B-24\n"
     ]
    },
    {
     "name": "stderr",
     "output_type": "stream",
     "text": [
      "C:\\Users\\Xiaoven\\Anaconda3\\lib\\site-packages\\sklearn\\cluster\\_kmeans.py:1044: UserWarning: MiniBatchKMeans is known to have a memory leak on Windows with MKL, when there are less chunks than available threads. You can prevent it by setting batch_size >= 2048 or by setting the environment variable OMP_NUM_THREADS=4\n",
      "  \"MiniBatchKMeans is known to have a memory leak on \"\n"
     ]
    },
    {
     "name": "stdout",
     "output_type": "stream",
     "text": [
      "DDD_2014B-32\n"
     ]
    },
    {
     "name": "stderr",
     "output_type": "stream",
     "text": [
      "C:\\Users\\Xiaoven\\Anaconda3\\lib\\site-packages\\sklearn\\cluster\\_kmeans.py:1044: UserWarning: MiniBatchKMeans is known to have a memory leak on Windows with MKL, when there are less chunks than available threads. You can prevent it by setting batch_size >= 2048 or by setting the environment variable OMP_NUM_THREADS=4\n",
      "  \"MiniBatchKMeans is known to have a memory leak on \"\n"
     ]
    },
    {
     "name": "stdout",
     "output_type": "stream",
     "text": [
      "DDD_2014B-48\n"
     ]
    },
    {
     "name": "stderr",
     "output_type": "stream",
     "text": [
      "C:\\Users\\Xiaoven\\Anaconda3\\lib\\site-packages\\sklearn\\cluster\\_kmeans.py:1044: UserWarning: MiniBatchKMeans is known to have a memory leak on Windows with MKL, when there are less chunks than available threads. You can prevent it by setting batch_size >= 2048 or by setting the environment variable OMP_NUM_THREADS=4\n",
      "  \"MiniBatchKMeans is known to have a memory leak on \"\n"
     ]
    },
    {
     "name": "stdout",
     "output_type": "stream",
     "text": [
      "DDD_2014B-6.\n"
     ]
    },
    {
     "name": "stderr",
     "output_type": "stream",
     "text": [
      "C:\\Users\\Xiaoven\\Anaconda3\\lib\\site-packages\\sklearn\\cluster\\_kmeans.py:1044: UserWarning: MiniBatchKMeans is known to have a memory leak on Windows with MKL, when there are less chunks than available threads. You can prevent it by setting batch_size >= 2048 or by setting the environment variable OMP_NUM_THREADS=4\n",
      "  \"MiniBatchKMeans is known to have a memory leak on \"\n",
      "C:\\Users\\Xiaoven\\Anaconda3\\lib\\site-packages\\sklearn\\cluster\\_kmeans.py:1044: UserWarning: MiniBatchKMeans is known to have a memory leak on Windows with MKL, when there are less chunks than available threads. You can prevent it by setting batch_size >= 2048 or by setting the environment variable OMP_NUM_THREADS=4\n",
      "  \"MiniBatchKMeans is known to have a memory leak on \"\n",
      "C:\\Users\\Xiaoven\\Anaconda3\\lib\\site-packages\\sklearn\\cluster\\_kmeans.py:1044: UserWarning: MiniBatchKMeans is known to have a memory leak on Windows with MKL, when there are less chunks than available threads. You can prevent it by setting batch_size >= 2048 or by setting the environment variable OMP_NUM_THREADS=4\n",
      "  \"MiniBatchKMeans is known to have a memory leak on \"\n"
     ]
    },
    {
     "name": "stdout",
     "output_type": "stream",
     "text": [
      "torch.Size([1099, 6]) torch.Size([1099, 4]) torch.Size([276, 6]) torch.Size([276, 4])\n",
      "Epoch 0.loss:1.352760672569275\n",
      "Epoch 100.loss:1.0861183404922485\n",
      "Epoch 200.loss:1.0817391872406006\n",
      "Epoch 300.loss:1.0610413551330566\n",
      "Epoch 400.loss:1.051983118057251\n",
      "Accuracy: 0.5072463768115942\n",
      "Precision: 0.5037751513648938\n",
      "Recall: 0.46405389545905934\n",
      "f1_score: 0.4564394662703873\n",
      "DDD_2014B-9.\n"
     ]
    },
    {
     "name": "stderr",
     "output_type": "stream",
     "text": [
      "C:\\Users\\Xiaoven\\Anaconda3\\lib\\site-packages\\sklearn\\cluster\\_kmeans.py:1044: UserWarning: MiniBatchKMeans is known to have a memory leak on Windows with MKL, when there are less chunks than available threads. You can prevent it by setting batch_size >= 2048 or by setting the environment variable OMP_NUM_THREADS=4\n",
      "  \"MiniBatchKMeans is known to have a memory leak on \"\n"
     ]
    },
    {
     "name": "stdout",
     "output_type": "stream",
     "text": [
      "DDD_2014J-12\n"
     ]
    },
    {
     "name": "stderr",
     "output_type": "stream",
     "text": [
      "C:\\Users\\Xiaoven\\Anaconda3\\lib\\site-packages\\sklearn\\cluster\\_kmeans.py:1044: UserWarning: MiniBatchKMeans is known to have a memory leak on Windows with MKL, when there are less chunks than available threads. You can prevent it by setting batch_size >= 2048 or by setting the environment variable OMP_NUM_THREADS=4\n",
      "  \"MiniBatchKMeans is known to have a memory leak on \"\n"
     ]
    },
    {
     "name": "stdout",
     "output_type": "stream",
     "text": [
      "DDD_2014J-18\n"
     ]
    },
    {
     "name": "stderr",
     "output_type": "stream",
     "text": [
      "C:\\Users\\Xiaoven\\Anaconda3\\lib\\site-packages\\sklearn\\cluster\\_kmeans.py:1044: UserWarning: MiniBatchKMeans is known to have a memory leak on Windows with MKL, when there are less chunks than available threads. You can prevent it by setting batch_size >= 2048 or by setting the environment variable OMP_NUM_THREADS=4\n",
      "  \"MiniBatchKMeans is known to have a memory leak on \"\n"
     ]
    },
    {
     "name": "stdout",
     "output_type": "stream",
     "text": [
      "DDD_2014J-24\n"
     ]
    },
    {
     "name": "stderr",
     "output_type": "stream",
     "text": [
      "C:\\Users\\Xiaoven\\Anaconda3\\lib\\site-packages\\sklearn\\cluster\\_kmeans.py:1044: UserWarning: MiniBatchKMeans is known to have a memory leak on Windows with MKL, when there are less chunks than available threads. You can prevent it by setting batch_size >= 2048 or by setting the environment variable OMP_NUM_THREADS=4\n",
      "  \"MiniBatchKMeans is known to have a memory leak on \"\n"
     ]
    },
    {
     "name": "stdout",
     "output_type": "stream",
     "text": [
      "DDD_2014J-32\n"
     ]
    },
    {
     "name": "stderr",
     "output_type": "stream",
     "text": [
      "C:\\Users\\Xiaoven\\Anaconda3\\lib\\site-packages\\sklearn\\cluster\\_kmeans.py:1044: UserWarning: MiniBatchKMeans is known to have a memory leak on Windows with MKL, when there are less chunks than available threads. You can prevent it by setting batch_size >= 2048 or by setting the environment variable OMP_NUM_THREADS=4\n",
      "  \"MiniBatchKMeans is known to have a memory leak on \"\n"
     ]
    },
    {
     "name": "stdout",
     "output_type": "stream",
     "text": [
      "DDD_2014J-48\n"
     ]
    },
    {
     "name": "stderr",
     "output_type": "stream",
     "text": [
      "C:\\Users\\Xiaoven\\Anaconda3\\lib\\site-packages\\sklearn\\cluster\\_kmeans.py:1044: UserWarning: MiniBatchKMeans is known to have a memory leak on Windows with MKL, when there are less chunks than available threads. You can prevent it by setting batch_size >= 2048 or by setting the environment variable OMP_NUM_THREADS=4\n",
      "  \"MiniBatchKMeans is known to have a memory leak on \"\n"
     ]
    },
    {
     "name": "stdout",
     "output_type": "stream",
     "text": [
      "DDD_2014J-6.\n"
     ]
    },
    {
     "name": "stderr",
     "output_type": "stream",
     "text": [
      "C:\\Users\\Xiaoven\\Anaconda3\\lib\\site-packages\\sklearn\\cluster\\_kmeans.py:1044: UserWarning: MiniBatchKMeans is known to have a memory leak on Windows with MKL, when there are less chunks than available threads. You can prevent it by setting batch_size >= 2048 or by setting the environment variable OMP_NUM_THREADS=4\n",
      "  \"MiniBatchKMeans is known to have a memory leak on \"\n"
     ]
    },
    {
     "name": "stdout",
     "output_type": "stream",
     "text": [
      "DDD_2014J-9.\n"
     ]
    },
    {
     "name": "stderr",
     "output_type": "stream",
     "text": [
      "C:\\Users\\Xiaoven\\Anaconda3\\lib\\site-packages\\sklearn\\cluster\\_kmeans.py:1044: UserWarning: MiniBatchKMeans is known to have a memory leak on Windows with MKL, when there are less chunks than available threads. You can prevent it by setting batch_size >= 2048 or by setting the environment variable OMP_NUM_THREADS=4\n",
      "  \"MiniBatchKMeans is known to have a memory leak on \"\n"
     ]
    },
    {
     "name": "stdout",
     "output_type": "stream",
     "text": [
      "EEE_2013J-12\n"
     ]
    },
    {
     "name": "stderr",
     "output_type": "stream",
     "text": [
      "C:\\Users\\Xiaoven\\Anaconda3\\lib\\site-packages\\sklearn\\cluster\\_kmeans.py:1044: UserWarning: MiniBatchKMeans is known to have a memory leak on Windows with MKL, when there are less chunks than available threads. You can prevent it by setting batch_size >= 2048 or by setting the environment variable OMP_NUM_THREADS=3\n",
      "  \"MiniBatchKMeans is known to have a memory leak on \"\n",
      "C:\\Users\\Xiaoven\\Anaconda3\\lib\\site-packages\\sklearn\\cluster\\_kmeans.py:1044: UserWarning: MiniBatchKMeans is known to have a memory leak on Windows with MKL, when there are less chunks than available threads. You can prevent it by setting batch_size >= 2048 or by setting the environment variable OMP_NUM_THREADS=3\n",
      "  \"MiniBatchKMeans is known to have a memory leak on \"\n",
      "C:\\Users\\Xiaoven\\Anaconda3\\lib\\site-packages\\sklearn\\cluster\\_kmeans.py:1044: UserWarning: MiniBatchKMeans is known to have a memory leak on Windows with MKL, when there are less chunks than available threads. You can prevent it by setting batch_size >= 2048 or by setting the environment variable OMP_NUM_THREADS=3\n",
      "  \"MiniBatchKMeans is known to have a memory leak on \"\n"
     ]
    },
    {
     "name": "stdout",
     "output_type": "stream",
     "text": [
      "torch.Size([1488, 12]) torch.Size([1488, 4]) torch.Size([238, 12]) torch.Size([238, 4])\n",
      "Epoch 0.loss:1.3809033632278442\n",
      "Epoch 100.loss:1.025223731994629\n",
      "Epoch 200.loss:1.0514366626739502\n",
      "Epoch 300.loss:1.0096981525421143\n",
      "Epoch 400.loss:0.9988915324211121\n",
      "Accuracy: 0.42016806722689076\n",
      "Precision: 0.34373822318375324\n",
      "Recall: 0.3873549495859395\n",
      "f1_score: 0.3408134920634921\n",
      "EEE_2013J-18\n"
     ]
    },
    {
     "name": "stderr",
     "output_type": "stream",
     "text": [
      "C:\\Users\\Xiaoven\\Anaconda3\\lib\\site-packages\\sklearn\\cluster\\_kmeans.py:1044: UserWarning: MiniBatchKMeans is known to have a memory leak on Windows with MKL, when there are less chunks than available threads. You can prevent it by setting batch_size >= 2048 or by setting the environment variable OMP_NUM_THREADS=3\n",
      "  \"MiniBatchKMeans is known to have a memory leak on \"\n",
      "C:\\Users\\Xiaoven\\Anaconda3\\lib\\site-packages\\sklearn\\cluster\\_kmeans.py:1044: UserWarning: MiniBatchKMeans is known to have a memory leak on Windows with MKL, when there are less chunks than available threads. You can prevent it by setting batch_size >= 2048 or by setting the environment variable OMP_NUM_THREADS=3\n",
      "  \"MiniBatchKMeans is known to have a memory leak on \"\n",
      "C:\\Users\\Xiaoven\\Anaconda3\\lib\\site-packages\\sklearn\\cluster\\_kmeans.py:1044: UserWarning: MiniBatchKMeans is known to have a memory leak on Windows with MKL, when there are less chunks than available threads. You can prevent it by setting batch_size >= 2048 or by setting the environment variable OMP_NUM_THREADS=3\n",
      "  \"MiniBatchKMeans is known to have a memory leak on \"\n"
     ]
    },
    {
     "name": "stdout",
     "output_type": "stream",
     "text": [
      "torch.Size([1478, 18]) torch.Size([1478, 4]) torch.Size([238, 18]) torch.Size([238, 4])\n",
      "Epoch 0.loss:1.3838510513305664\n",
      "Epoch 100.loss:1.0653425455093384\n",
      "Epoch 200.loss:1.0039786100387573\n",
      "Epoch 300.loss:1.00006103515625\n",
      "Epoch 400.loss:0.9986286163330078\n",
      "Accuracy: 0.5252100840336135\n",
      "Precision: 0.46196547968502466\n",
      "Recall: 0.5288429406850459\n",
      "f1_score: 0.4733842874620962\n",
      "EEE_2013J-24\n"
     ]
    },
    {
     "name": "stderr",
     "output_type": "stream",
     "text": [
      "C:\\Users\\Xiaoven\\Anaconda3\\lib\\site-packages\\sklearn\\cluster\\_kmeans.py:1044: UserWarning: MiniBatchKMeans is known to have a memory leak on Windows with MKL, when there are less chunks than available threads. You can prevent it by setting batch_size >= 2048 or by setting the environment variable OMP_NUM_THREADS=3\n",
      "  \"MiniBatchKMeans is known to have a memory leak on \"\n",
      "C:\\Users\\Xiaoven\\Anaconda3\\lib\\site-packages\\sklearn\\cluster\\_kmeans.py:1044: UserWarning: MiniBatchKMeans is known to have a memory leak on Windows with MKL, when there are less chunks than available threads. You can prevent it by setting batch_size >= 2048 or by setting the environment variable OMP_NUM_THREADS=3\n",
      "  \"MiniBatchKMeans is known to have a memory leak on \"\n",
      "C:\\Users\\Xiaoven\\Anaconda3\\lib\\site-packages\\sklearn\\cluster\\_kmeans.py:1044: UserWarning: MiniBatchKMeans is known to have a memory leak on Windows with MKL, when there are less chunks than available threads. You can prevent it by setting batch_size >= 2048 or by setting the environment variable OMP_NUM_THREADS=3\n",
      "  \"MiniBatchKMeans is known to have a memory leak on \"\n"
     ]
    },
    {
     "name": "stdout",
     "output_type": "stream",
     "text": [
      "torch.Size([1435, 24]) torch.Size([1435, 4]) torch.Size([238, 24]) torch.Size([238, 4])\n",
      "Epoch 0.loss:1.3824323415756226\n",
      "Epoch 100.loss:1.0363746881484985\n",
      "Epoch 200.loss:1.0241284370422363\n",
      "Epoch 300.loss:1.0177538394927979\n",
      "Epoch 400.loss:1.0697294473648071\n",
      "Accuracy: 0.5672268907563025\n",
      "Precision: 0.4815793487378937\n",
      "Recall: 0.4625065794420633\n",
      "f1_score: 0.4651783122537839\n",
      "EEE_2013J-32\n"
     ]
    },
    {
     "name": "stderr",
     "output_type": "stream",
     "text": [
      "C:\\Users\\Xiaoven\\Anaconda3\\lib\\site-packages\\sklearn\\cluster\\_kmeans.py:1044: UserWarning: MiniBatchKMeans is known to have a memory leak on Windows with MKL, when there are less chunks than available threads. You can prevent it by setting batch_size >= 2048 or by setting the environment variable OMP_NUM_THREADS=3\n",
      "  \"MiniBatchKMeans is known to have a memory leak on \"\n",
      "C:\\Users\\Xiaoven\\Anaconda3\\lib\\site-packages\\sklearn\\cluster\\_kmeans.py:1044: UserWarning: MiniBatchKMeans is known to have a memory leak on Windows with MKL, when there are less chunks than available threads. You can prevent it by setting batch_size >= 2048 or by setting the environment variable OMP_NUM_THREADS=3\n",
      "  \"MiniBatchKMeans is known to have a memory leak on \"\n",
      "C:\\Users\\Xiaoven\\Anaconda3\\lib\\site-packages\\sklearn\\cluster\\_kmeans.py:1044: UserWarning: MiniBatchKMeans is known to have a memory leak on Windows with MKL, when there are less chunks than available threads. You can prevent it by setting batch_size >= 2048 or by setting the environment variable OMP_NUM_THREADS=3\n",
      "  \"MiniBatchKMeans is known to have a memory leak on \"\n"
     ]
    },
    {
     "name": "stdout",
     "output_type": "stream",
     "text": [
      "torch.Size([1446, 32]) torch.Size([1446, 4]) torch.Size([238, 32]) torch.Size([238, 4])\n",
      "Epoch 0.loss:1.385537028312683\n",
      "Epoch 100.loss:1.0736271142959595\n",
      "Epoch 200.loss:1.0403029918670654\n",
      "Epoch 300.loss:1.0510406494140625\n",
      "Epoch 400.loss:1.0349770784378052\n",
      "Accuracy: 0.5210084033613446\n",
      "Precision: 0.43630034856503674\n",
      "Recall: 0.47143984225531754\n",
      "f1_score: 0.4232190223569534\n",
      "EEE_2013J-48\n"
     ]
    },
    {
     "name": "stderr",
     "output_type": "stream",
     "text": [
      "C:\\Users\\Xiaoven\\Anaconda3\\lib\\site-packages\\sklearn\\cluster\\_kmeans.py:1044: UserWarning: MiniBatchKMeans is known to have a memory leak on Windows with MKL, when there are less chunks than available threads. You can prevent it by setting batch_size >= 2048 or by setting the environment variable OMP_NUM_THREADS=3\n",
      "  \"MiniBatchKMeans is known to have a memory leak on \"\n",
      "C:\\Users\\Xiaoven\\Anaconda3\\lib\\site-packages\\sklearn\\cluster\\_kmeans.py:1044: UserWarning: MiniBatchKMeans is known to have a memory leak on Windows with MKL, when there are less chunks than available threads. You can prevent it by setting batch_size >= 2048 or by setting the environment variable OMP_NUM_THREADS=3\n",
      "  \"MiniBatchKMeans is known to have a memory leak on \"\n",
      "C:\\Users\\Xiaoven\\Anaconda3\\lib\\site-packages\\sklearn\\cluster\\_kmeans.py:1044: UserWarning: MiniBatchKMeans is known to have a memory leak on Windows with MKL, when there are less chunks than available threads. You can prevent it by setting batch_size >= 2048 or by setting the environment variable OMP_NUM_THREADS=3\n",
      "  \"MiniBatchKMeans is known to have a memory leak on \"\n"
     ]
    },
    {
     "name": "stdout",
     "output_type": "stream",
     "text": [
      "torch.Size([1406, 48]) torch.Size([1406, 4]) torch.Size([238, 48]) torch.Size([238, 4])\n",
      "Epoch 0.loss:1.3794900178909302\n",
      "Epoch 100.loss:1.093867540359497\n",
      "Epoch 200.loss:1.0131242275238037\n",
      "Epoch 300.loss:1.1576396226882935\n",
      "Epoch 400.loss:1.113008975982666\n"
     ]
    },
    {
     "name": "stderr",
     "output_type": "stream",
     "text": [
      "C:\\Users\\Xiaoven\\Anaconda3\\lib\\site-packages\\sklearn\\metrics\\_classification.py:1318: UndefinedMetricWarning: Precision is ill-defined and being set to 0.0 in labels with no predicted samples. Use `zero_division` parameter to control this behavior.\n",
      "  _warn_prf(average, modifier, msg_start, len(result))\n"
     ]
    },
    {
     "name": "stdout",
     "output_type": "stream",
     "text": [
      "Accuracy: 0.5336134453781513\n"
     ]
    },
    {
     "name": "stderr",
     "output_type": "stream",
     "text": [
      "C:\\Users\\Xiaoven\\Anaconda3\\lib\\site-packages\\sklearn\\metrics\\_classification.py:1318: UndefinedMetricWarning: Precision is ill-defined and being set to 0.0 in labels with no predicted samples. Use `zero_division` parameter to control this behavior.\n",
      "  _warn_prf(average, modifier, msg_start, len(result))\n"
     ]
    },
    {
     "name": "stdout",
     "output_type": "stream",
     "text": [
      "Precision: 0.3393199447771719\n",
      "Recall: 0.42156862745098034\n",
      "f1_score: 0.3646103896103896\n",
      "EEE_2013J-6.\n"
     ]
    },
    {
     "name": "stderr",
     "output_type": "stream",
     "text": [
      "C:\\Users\\Xiaoven\\Anaconda3\\lib\\site-packages\\sklearn\\cluster\\_kmeans.py:1044: UserWarning: MiniBatchKMeans is known to have a memory leak on Windows with MKL, when there are less chunks than available threads. You can prevent it by setting batch_size >= 2048 or by setting the environment variable OMP_NUM_THREADS=3\n",
      "  \"MiniBatchKMeans is known to have a memory leak on \"\n",
      "C:\\Users\\Xiaoven\\Anaconda3\\lib\\site-packages\\sklearn\\cluster\\_kmeans.py:1044: UserWarning: MiniBatchKMeans is known to have a memory leak on Windows with MKL, when there are less chunks than available threads. You can prevent it by setting batch_size >= 2048 or by setting the environment variable OMP_NUM_THREADS=3\n",
      "  \"MiniBatchKMeans is known to have a memory leak on \"\n",
      "C:\\Users\\Xiaoven\\Anaconda3\\lib\\site-packages\\sklearn\\cluster\\_kmeans.py:1044: UserWarning: MiniBatchKMeans is known to have a memory leak on Windows with MKL, when there are less chunks than available threads. You can prevent it by setting batch_size >= 2048 or by setting the environment variable OMP_NUM_THREADS=3\n",
      "  \"MiniBatchKMeans is known to have a memory leak on \"\n"
     ]
    },
    {
     "name": "stdout",
     "output_type": "stream",
     "text": [
      "torch.Size([1439, 6]) torch.Size([1439, 4]) torch.Size([238, 6]) torch.Size([238, 4])\n",
      "Epoch 0.loss:1.374288558959961\n",
      "Epoch 100.loss:0.9979864954948425\n",
      "Epoch 200.loss:0.9990248084068298\n",
      "Epoch 300.loss:1.0021672248840332\n",
      "Epoch 400.loss:1.0034592151641846\n",
      "Accuracy: 0.5672268907563025\n",
      "Precision: 0.4713176937441643\n",
      "Recall: 0.4433836114676936\n",
      "f1_score: 0.41498755515041386\n",
      "EEE_2013J-9.\n"
     ]
    },
    {
     "name": "stderr",
     "output_type": "stream",
     "text": [
      "C:\\Users\\Xiaoven\\Anaconda3\\lib\\site-packages\\sklearn\\cluster\\_kmeans.py:1044: UserWarning: MiniBatchKMeans is known to have a memory leak on Windows with MKL, when there are less chunks than available threads. You can prevent it by setting batch_size >= 2048 or by setting the environment variable OMP_NUM_THREADS=3\n",
      "  \"MiniBatchKMeans is known to have a memory leak on \"\n",
      "C:\\Users\\Xiaoven\\Anaconda3\\lib\\site-packages\\sklearn\\cluster\\_kmeans.py:1044: UserWarning: MiniBatchKMeans is known to have a memory leak on Windows with MKL, when there are less chunks than available threads. You can prevent it by setting batch_size >= 2048 or by setting the environment variable OMP_NUM_THREADS=3\n",
      "  \"MiniBatchKMeans is known to have a memory leak on \"\n",
      "C:\\Users\\Xiaoven\\Anaconda3\\lib\\site-packages\\sklearn\\cluster\\_kmeans.py:1044: UserWarning: MiniBatchKMeans is known to have a memory leak on Windows with MKL, when there are less chunks than available threads. You can prevent it by setting batch_size >= 2048 or by setting the environment variable OMP_NUM_THREADS=3\n",
      "  \"MiniBatchKMeans is known to have a memory leak on \"\n"
     ]
    },
    {
     "name": "stdout",
     "output_type": "stream",
     "text": [
      "torch.Size([1475, 9]) torch.Size([1475, 4]) torch.Size([238, 9]) torch.Size([238, 4])\n",
      "Epoch 0.loss:1.382538080215454\n",
      "Epoch 100.loss:0.989475667476654\n",
      "Epoch 200.loss:0.9785250425338745\n",
      "Epoch 300.loss:0.9838942289352417\n",
      "Epoch 400.loss:0.9835495352745056\n",
      "Accuracy: 0.42436974789915966\n",
      "Precision: 0.34855910711812765\n",
      "Recall: 0.4080122180451128\n",
      "f1_score: 0.35401922514526935\n",
      "EEE_2014B-12\n"
     ]
    },
    {
     "name": "stderr",
     "output_type": "stream",
     "text": [
      "C:\\Users\\Xiaoven\\Anaconda3\\lib\\site-packages\\sklearn\\cluster\\_kmeans.py:1044: UserWarning: MiniBatchKMeans is known to have a memory leak on Windows with MKL, when there are less chunks than available threads. You can prevent it by setting batch_size >= 2048 or by setting the environment variable OMP_NUM_THREADS=2\n",
      "  \"MiniBatchKMeans is known to have a memory leak on \"\n",
      "C:\\Users\\Xiaoven\\Anaconda3\\lib\\site-packages\\sklearn\\cluster\\_kmeans.py:1044: UserWarning: MiniBatchKMeans is known to have a memory leak on Windows with MKL, when there are less chunks than available threads. You can prevent it by setting batch_size >= 2048 or by setting the environment variable OMP_NUM_THREADS=2\n",
      "  \"MiniBatchKMeans is known to have a memory leak on \"\n",
      "C:\\Users\\Xiaoven\\Anaconda3\\lib\\site-packages\\sklearn\\cluster\\_kmeans.py:1044: UserWarning: MiniBatchKMeans is known to have a memory leak on Windows with MKL, when there are less chunks than available threads. You can prevent it by setting batch_size >= 2048 or by setting the environment variable OMP_NUM_THREADS=2\n",
      "  \"MiniBatchKMeans is known to have a memory leak on \"\n"
     ]
    },
    {
     "name": "stdout",
     "output_type": "stream",
     "text": [
      "torch.Size([855, 12]) torch.Size([855, 4]) torch.Size([155, 12]) torch.Size([155, 4])\n",
      "Epoch 0.loss:1.380393385887146\n",
      "Epoch 100.loss:1.0752606391906738\n",
      "Epoch 200.loss:1.0279223918914795\n",
      "Epoch 300.loss:1.039528727531433\n",
      "Epoch 400.loss:1.0208265781402588\n",
      "Accuracy: 0.5741935483870968\n",
      "Precision: 0.4606691919191919\n",
      "Recall: 0.4782546925527962\n",
      "f1_score: 0.43457480019980016\n",
      "EEE_2014B-18\n"
     ]
    },
    {
     "name": "stderr",
     "output_type": "stream",
     "text": [
      "C:\\Users\\Xiaoven\\Anaconda3\\lib\\site-packages\\sklearn\\cluster\\_kmeans.py:1044: UserWarning: MiniBatchKMeans is known to have a memory leak on Windows with MKL, when there are less chunks than available threads. You can prevent it by setting batch_size >= 2048 or by setting the environment variable OMP_NUM_THREADS=2\n",
      "  \"MiniBatchKMeans is known to have a memory leak on \"\n",
      "C:\\Users\\Xiaoven\\Anaconda3\\lib\\site-packages\\sklearn\\cluster\\_kmeans.py:1044: UserWarning: MiniBatchKMeans is known to have a memory leak on Windows with MKL, when there are less chunks than available threads. You can prevent it by setting batch_size >= 2048 or by setting the environment variable OMP_NUM_THREADS=2\n",
      "  \"MiniBatchKMeans is known to have a memory leak on \"\n",
      "C:\\Users\\Xiaoven\\Anaconda3\\lib\\site-packages\\sklearn\\cluster\\_kmeans.py:1044: UserWarning: MiniBatchKMeans is known to have a memory leak on Windows with MKL, when there are less chunks than available threads. You can prevent it by setting batch_size >= 2048 or by setting the environment variable OMP_NUM_THREADS=2\n",
      "  \"MiniBatchKMeans is known to have a memory leak on \"\n"
     ]
    },
    {
     "name": "stdout",
     "output_type": "stream",
     "text": [
      "torch.Size([873, 18]) torch.Size([873, 4]) torch.Size([155, 18]) torch.Size([155, 4])\n",
      "Epoch 0.loss:1.3803073167800903\n",
      "Epoch 100.loss:0.9904237389564514\n",
      "Epoch 200.loss:0.9968217015266418\n",
      "Epoch 300.loss:0.9859772324562073\n",
      "Epoch 400.loss:0.9818156361579895\n",
      "Accuracy: 0.6129032258064516\n",
      "Precision: 0.5675261523373651\n",
      "Recall: 0.5182072829131653\n",
      "f1_score: 0.5325435729847494\n",
      "EEE_2014B-24\n"
     ]
    },
    {
     "name": "stderr",
     "output_type": "stream",
     "text": [
      "C:\\Users\\Xiaoven\\Anaconda3\\lib\\site-packages\\sklearn\\cluster\\_kmeans.py:1044: UserWarning: MiniBatchKMeans is known to have a memory leak on Windows with MKL, when there are less chunks than available threads. You can prevent it by setting batch_size >= 2048 or by setting the environment variable OMP_NUM_THREADS=2\n",
      "  \"MiniBatchKMeans is known to have a memory leak on \"\n",
      "C:\\Users\\Xiaoven\\Anaconda3\\lib\\site-packages\\sklearn\\cluster\\_kmeans.py:1044: UserWarning: MiniBatchKMeans is known to have a memory leak on Windows with MKL, when there are less chunks than available threads. You can prevent it by setting batch_size >= 2048 or by setting the environment variable OMP_NUM_THREADS=2\n",
      "  \"MiniBatchKMeans is known to have a memory leak on \"\n",
      "C:\\Users\\Xiaoven\\Anaconda3\\lib\\site-packages\\sklearn\\cluster\\_kmeans.py:1044: UserWarning: MiniBatchKMeans is known to have a memory leak on Windows with MKL, when there are less chunks than available threads. You can prevent it by setting batch_size >= 2048 or by setting the environment variable OMP_NUM_THREADS=2\n",
      "  \"MiniBatchKMeans is known to have a memory leak on \"\n"
     ]
    },
    {
     "name": "stdout",
     "output_type": "stream",
     "text": [
      "torch.Size([892, 24]) torch.Size([892, 4]) torch.Size([155, 24]) torch.Size([155, 4])\n",
      "Epoch 0.loss:1.3804240226745605\n",
      "Epoch 100.loss:1.0693142414093018\n",
      "Epoch 200.loss:1.065554141998291\n",
      "Epoch 300.loss:1.1555548906326294\n",
      "Epoch 400.loss:1.0616135597229004\n",
      "Accuracy: 0.535483870967742\n",
      "Precision: 0.5386463964987204\n",
      "Recall: 0.5852691977691977\n",
      "f1_score: 0.5274007435465768\n",
      "EEE_2014B-32\n"
     ]
    },
    {
     "name": "stderr",
     "output_type": "stream",
     "text": [
      "C:\\Users\\Xiaoven\\Anaconda3\\lib\\site-packages\\sklearn\\cluster\\_kmeans.py:1044: UserWarning: MiniBatchKMeans is known to have a memory leak on Windows with MKL, when there are less chunks than available threads. You can prevent it by setting batch_size >= 2048 or by setting the environment variable OMP_NUM_THREADS=2\n",
      "  \"MiniBatchKMeans is known to have a memory leak on \"\n"
     ]
    },
    {
     "name": "stdout",
     "output_type": "stream",
     "text": [
      "EEE_2014B-48\n"
     ]
    },
    {
     "name": "stderr",
     "output_type": "stream",
     "text": [
      "C:\\Users\\Xiaoven\\Anaconda3\\lib\\site-packages\\sklearn\\cluster\\_kmeans.py:1044: UserWarning: MiniBatchKMeans is known to have a memory leak on Windows with MKL, when there are less chunks than available threads. You can prevent it by setting batch_size >= 2048 or by setting the environment variable OMP_NUM_THREADS=2\n",
      "  \"MiniBatchKMeans is known to have a memory leak on \"\n"
     ]
    },
    {
     "name": "stdout",
     "output_type": "stream",
     "text": [
      "EEE_2014B-6.\n"
     ]
    },
    {
     "name": "stderr",
     "output_type": "stream",
     "text": [
      "C:\\Users\\Xiaoven\\Anaconda3\\lib\\site-packages\\sklearn\\cluster\\_kmeans.py:1044: UserWarning: MiniBatchKMeans is known to have a memory leak on Windows with MKL, when there are less chunks than available threads. You can prevent it by setting batch_size >= 2048 or by setting the environment variable OMP_NUM_THREADS=2\n",
      "  \"MiniBatchKMeans is known to have a memory leak on \"\n",
      "C:\\Users\\Xiaoven\\Anaconda3\\lib\\site-packages\\sklearn\\cluster\\_kmeans.py:1044: UserWarning: MiniBatchKMeans is known to have a memory leak on Windows with MKL, when there are less chunks than available threads. You can prevent it by setting batch_size >= 2048 or by setting the environment variable OMP_NUM_THREADS=2\n",
      "  \"MiniBatchKMeans is known to have a memory leak on \"\n",
      "C:\\Users\\Xiaoven\\Anaconda3\\lib\\site-packages\\sklearn\\cluster\\_kmeans.py:1044: UserWarning: MiniBatchKMeans is known to have a memory leak on Windows with MKL, when there are less chunks than available threads. You can prevent it by setting batch_size >= 2048 or by setting the environment variable OMP_NUM_THREADS=2\n",
      "  \"MiniBatchKMeans is known to have a memory leak on \"\n"
     ]
    },
    {
     "name": "stdout",
     "output_type": "stream",
     "text": [
      "torch.Size([868, 6]) torch.Size([868, 4]) torch.Size([155, 6]) torch.Size([155, 4])\n",
      "Epoch 0.loss:1.382887363433838\n",
      "Epoch 100.loss:1.0720845460891724\n",
      "Epoch 200.loss:1.0404386520385742\n",
      "Epoch 300.loss:1.0209946632385254\n",
      "Epoch 400.loss:1.0414705276489258\n",
      "Accuracy: 0.5806451612903226\n",
      "Precision: 0.49998393419446047\n",
      "Recall: 0.4923580847493891\n",
      "f1_score: 0.4693757631257631\n",
      "EEE_2014B-9.\n"
     ]
    },
    {
     "name": "stderr",
     "output_type": "stream",
     "text": [
      "C:\\Users\\Xiaoven\\Anaconda3\\lib\\site-packages\\sklearn\\cluster\\_kmeans.py:1044: UserWarning: MiniBatchKMeans is known to have a memory leak on Windows with MKL, when there are less chunks than available threads. You can prevent it by setting batch_size >= 2048 or by setting the environment variable OMP_NUM_THREADS=2\n",
      "  \"MiniBatchKMeans is known to have a memory leak on \"\n",
      "C:\\Users\\Xiaoven\\Anaconda3\\lib\\site-packages\\sklearn\\cluster\\_kmeans.py:1044: UserWarning: MiniBatchKMeans is known to have a memory leak on Windows with MKL, when there are less chunks than available threads. You can prevent it by setting batch_size >= 2048 or by setting the environment variable OMP_NUM_THREADS=2\n",
      "  \"MiniBatchKMeans is known to have a memory leak on \"\n",
      "C:\\Users\\Xiaoven\\Anaconda3\\lib\\site-packages\\sklearn\\cluster\\_kmeans.py:1044: UserWarning: MiniBatchKMeans is known to have a memory leak on Windows with MKL, when there are less chunks than available threads. You can prevent it by setting batch_size >= 2048 or by setting the environment variable OMP_NUM_THREADS=2\n",
      "  \"MiniBatchKMeans is known to have a memory leak on \"\n"
     ]
    },
    {
     "name": "stdout",
     "output_type": "stream",
     "text": [
      "torch.Size([886, 9]) torch.Size([886, 4]) torch.Size([155, 9]) torch.Size([155, 4])\n",
      "Epoch 0.loss:1.3797534704208374\n",
      "Epoch 100.loss:1.0886285305023193\n",
      "Epoch 200.loss:1.079171061515808\n",
      "Epoch 300.loss:1.077732801437378\n",
      "Epoch 400.loss:1.08644700050354\n"
     ]
    },
    {
     "name": "stderr",
     "output_type": "stream",
     "text": [
      "C:\\Users\\Xiaoven\\Anaconda3\\lib\\site-packages\\sklearn\\metrics\\_classification.py:1318: UndefinedMetricWarning: Precision is ill-defined and being set to 0.0 in labels with no predicted samples. Use `zero_division` parameter to control this behavior.\n",
      "  _warn_prf(average, modifier, msg_start, len(result))\n"
     ]
    },
    {
     "name": "stdout",
     "output_type": "stream",
     "text": [
      "Accuracy: 0.5161290322580645\n"
     ]
    },
    {
     "name": "stderr",
     "output_type": "stream",
     "text": [
      "C:\\Users\\Xiaoven\\Anaconda3\\lib\\site-packages\\sklearn\\metrics\\_classification.py:1318: UndefinedMetricWarning: Precision is ill-defined and being set to 0.0 in labels with no predicted samples. Use `zero_division` parameter to control this behavior.\n",
      "  _warn_prf(average, modifier, msg_start, len(result))\n"
     ]
    },
    {
     "name": "stdout",
     "output_type": "stream",
     "text": [
      "Precision: 0.33613831089351287\n",
      "Recall: 0.4526654411764706\n",
      "f1_score: 0.3849206349206349\n",
      "EEE_2014J-12\n"
     ]
    },
    {
     "name": "stderr",
     "output_type": "stream",
     "text": [
      "C:\\Users\\Xiaoven\\Anaconda3\\lib\\site-packages\\sklearn\\cluster\\_kmeans.py:1044: UserWarning: MiniBatchKMeans is known to have a memory leak on Windows with MKL, when there are less chunks than available threads. You can prevent it by setting batch_size >= 2048 or by setting the environment variable OMP_NUM_THREADS=4\n",
      "  \"MiniBatchKMeans is known to have a memory leak on \"\n",
      "C:\\Users\\Xiaoven\\Anaconda3\\lib\\site-packages\\sklearn\\cluster\\_kmeans.py:1044: UserWarning: MiniBatchKMeans is known to have a memory leak on Windows with MKL, when there are less chunks than available threads. You can prevent it by setting batch_size >= 2048 or by setting the environment variable OMP_NUM_THREADS=4\n",
      "  \"MiniBatchKMeans is known to have a memory leak on \"\n",
      "C:\\Users\\Xiaoven\\Anaconda3\\lib\\site-packages\\sklearn\\cluster\\_kmeans.py:1044: UserWarning: MiniBatchKMeans is known to have a memory leak on Windows with MKL, when there are less chunks than available threads. You can prevent it by setting batch_size >= 2048 or by setting the environment variable OMP_NUM_THREADS=4\n",
      "  \"MiniBatchKMeans is known to have a memory leak on \"\n"
     ]
    },
    {
     "name": "stdout",
     "output_type": "stream",
     "text": [
      "torch.Size([1558, 12]) torch.Size([1558, 4]) torch.Size([270, 12]) torch.Size([270, 4])\n",
      "Epoch 0.loss:1.3118948936462402\n",
      "Epoch 100.loss:1.0730617046356201\n",
      "Epoch 200.loss:1.0413265228271484\n",
      "Epoch 300.loss:1.0310008525848389\n",
      "Epoch 400.loss:1.0195980072021484\n",
      "Accuracy: 0.6148148148148148\n",
      "Precision: 0.5192571435682994\n",
      "Recall: 0.4794058360754374\n",
      "f1_score: 0.49134564485277166\n",
      "EEE_2014J-18\n"
     ]
    },
    {
     "name": "stderr",
     "output_type": "stream",
     "text": [
      "C:\\Users\\Xiaoven\\Anaconda3\\lib\\site-packages\\sklearn\\cluster\\_kmeans.py:1044: UserWarning: MiniBatchKMeans is known to have a memory leak on Windows with MKL, when there are less chunks than available threads. You can prevent it by setting batch_size >= 2048 or by setting the environment variable OMP_NUM_THREADS=4\n",
      "  \"MiniBatchKMeans is known to have a memory leak on \"\n",
      "C:\\Users\\Xiaoven\\Anaconda3\\lib\\site-packages\\sklearn\\cluster\\_kmeans.py:1044: UserWarning: MiniBatchKMeans is known to have a memory leak on Windows with MKL, when there are less chunks than available threads. You can prevent it by setting batch_size >= 2048 or by setting the environment variable OMP_NUM_THREADS=4\n",
      "  \"MiniBatchKMeans is known to have a memory leak on \"\n",
      "C:\\Users\\Xiaoven\\Anaconda3\\lib\\site-packages\\sklearn\\cluster\\_kmeans.py:1044: UserWarning: MiniBatchKMeans is known to have a memory leak on Windows with MKL, when there are less chunks than available threads. You can prevent it by setting batch_size >= 2048 or by setting the environment variable OMP_NUM_THREADS=4\n",
      "  \"MiniBatchKMeans is known to have a memory leak on \"\n"
     ]
    },
    {
     "name": "stdout",
     "output_type": "stream",
     "text": [
      "torch.Size([1621, 18]) torch.Size([1621, 4]) torch.Size([270, 18]) torch.Size([270, 4])\n",
      "Epoch 0.loss:1.3560127019882202\n",
      "Epoch 100.loss:1.0872386693954468\n",
      "Epoch 200.loss:1.1346549987792969\n",
      "Epoch 300.loss:1.093990683555603\n",
      "Epoch 400.loss:1.0771946907043457\n",
      "Accuracy: 0.4925925925925926\n",
      "Precision: 0.48628984169119205\n",
      "Recall: 0.5079469980262524\n",
      "f1_score: 0.47491880658271546\n",
      "EEE_2014J-24\n"
     ]
    },
    {
     "name": "stderr",
     "output_type": "stream",
     "text": [
      "C:\\Users\\Xiaoven\\Anaconda3\\lib\\site-packages\\sklearn\\cluster\\_kmeans.py:1044: UserWarning: MiniBatchKMeans is known to have a memory leak on Windows with MKL, when there are less chunks than available threads. You can prevent it by setting batch_size >= 2048 or by setting the environment variable OMP_NUM_THREADS=4\n",
      "  \"MiniBatchKMeans is known to have a memory leak on \"\n",
      "C:\\Users\\Xiaoven\\Anaconda3\\lib\\site-packages\\sklearn\\cluster\\_kmeans.py:1044: UserWarning: MiniBatchKMeans is known to have a memory leak on Windows with MKL, when there are less chunks than available threads. You can prevent it by setting batch_size >= 2048 or by setting the environment variable OMP_NUM_THREADS=4\n",
      "  \"MiniBatchKMeans is known to have a memory leak on \"\n",
      "C:\\Users\\Xiaoven\\Anaconda3\\lib\\site-packages\\sklearn\\cluster\\_kmeans.py:1044: UserWarning: MiniBatchKMeans is known to have a memory leak on Windows with MKL, when there are less chunks than available threads. You can prevent it by setting batch_size >= 2048 or by setting the environment variable OMP_NUM_THREADS=4\n",
      "  \"MiniBatchKMeans is known to have a memory leak on \"\n"
     ]
    },
    {
     "name": "stdout",
     "output_type": "stream",
     "text": [
      "torch.Size([1587, 24]) torch.Size([1587, 4]) torch.Size([270, 24]) torch.Size([270, 4])\n",
      "Epoch 0.loss:1.3673094511032104\n",
      "Epoch 100.loss:1.057173728942871\n",
      "Epoch 200.loss:1.0221025943756104\n",
      "Epoch 300.loss:1.0226949453353882\n",
      "Epoch 400.loss:1.0134637355804443\n",
      "Accuracy: 0.5148148148148148\n",
      "Precision: 0.4637790282951574\n",
      "Recall: 0.49837963293313026\n",
      "f1_score: 0.4602991064589811\n",
      "EEE_2014J-32\n"
     ]
    },
    {
     "name": "stderr",
     "output_type": "stream",
     "text": [
      "C:\\Users\\Xiaoven\\Anaconda3\\lib\\site-packages\\sklearn\\cluster\\_kmeans.py:1044: UserWarning: MiniBatchKMeans is known to have a memory leak on Windows with MKL, when there are less chunks than available threads. You can prevent it by setting batch_size >= 2048 or by setting the environment variable OMP_NUM_THREADS=4\n",
      "  \"MiniBatchKMeans is known to have a memory leak on \"\n",
      "C:\\Users\\Xiaoven\\Anaconda3\\lib\\site-packages\\sklearn\\cluster\\_kmeans.py:1044: UserWarning: MiniBatchKMeans is known to have a memory leak on Windows with MKL, when there are less chunks than available threads. You can prevent it by setting batch_size >= 2048 or by setting the environment variable OMP_NUM_THREADS=4\n",
      "  \"MiniBatchKMeans is known to have a memory leak on \"\n",
      "C:\\Users\\Xiaoven\\Anaconda3\\lib\\site-packages\\sklearn\\cluster\\_kmeans.py:1044: UserWarning: MiniBatchKMeans is known to have a memory leak on Windows with MKL, when there are less chunks than available threads. You can prevent it by setting batch_size >= 2048 or by setting the environment variable OMP_NUM_THREADS=4\n",
      "  \"MiniBatchKMeans is known to have a memory leak on \"\n"
     ]
    },
    {
     "name": "stdout",
     "output_type": "stream",
     "text": [
      "torch.Size([1609, 32]) torch.Size([1609, 4]) torch.Size([270, 32]) torch.Size([270, 4])\n",
      "Epoch 0.loss:1.3628554344177246\n",
      "Epoch 100.loss:1.0939465761184692\n",
      "Epoch 200.loss:1.0650720596313477\n",
      "Epoch 300.loss:1.0604519844055176\n",
      "Epoch 400.loss:1.026123046875\n",
      "Accuracy: 0.5592592592592592\n",
      "Precision: 0.5351829379826631\n",
      "Recall: 0.5383456412868177\n",
      "f1_score: 0.5031043517885623\n",
      "EEE_2014J-48\n"
     ]
    },
    {
     "name": "stderr",
     "output_type": "stream",
     "text": [
      "C:\\Users\\Xiaoven\\Anaconda3\\lib\\site-packages\\sklearn\\cluster\\_kmeans.py:1044: UserWarning: MiniBatchKMeans is known to have a memory leak on Windows with MKL, when there are less chunks than available threads. You can prevent it by setting batch_size >= 2048 or by setting the environment variable OMP_NUM_THREADS=4\n",
      "  \"MiniBatchKMeans is known to have a memory leak on \"\n",
      "C:\\Users\\Xiaoven\\Anaconda3\\lib\\site-packages\\sklearn\\cluster\\_kmeans.py:1044: UserWarning: MiniBatchKMeans is known to have a memory leak on Windows with MKL, when there are less chunks than available threads. You can prevent it by setting batch_size >= 2048 or by setting the environment variable OMP_NUM_THREADS=4\n",
      "  \"MiniBatchKMeans is known to have a memory leak on \"\n",
      "C:\\Users\\Xiaoven\\Anaconda3\\lib\\site-packages\\sklearn\\cluster\\_kmeans.py:1044: UserWarning: MiniBatchKMeans is known to have a memory leak on Windows with MKL, when there are less chunks than available threads. You can prevent it by setting batch_size >= 2048 or by setting the environment variable OMP_NUM_THREADS=4\n",
      "  \"MiniBatchKMeans is known to have a memory leak on \"\n"
     ]
    },
    {
     "name": "stdout",
     "output_type": "stream",
     "text": [
      "torch.Size([1619, 48]) torch.Size([1619, 4]) torch.Size([270, 48]) torch.Size([270, 4])\n",
      "Epoch 0.loss:1.3335944414138794\n",
      "Epoch 100.loss:1.0466152429580688\n",
      "Epoch 200.loss:1.0437415838241577\n",
      "Epoch 300.loss:1.0610514879226685\n",
      "Epoch 400.loss:1.0733188390731812\n",
      "Accuracy: 0.46296296296296297\n",
      "Precision: 0.4336975285251148\n",
      "Recall: 0.47756705671352884\n",
      "f1_score: 0.4232294290010297\n",
      "EEE_2014J-6.\n"
     ]
    },
    {
     "name": "stderr",
     "output_type": "stream",
     "text": [
      "C:\\Users\\Xiaoven\\Anaconda3\\lib\\site-packages\\sklearn\\cluster\\_kmeans.py:1044: UserWarning: MiniBatchKMeans is known to have a memory leak on Windows with MKL, when there are less chunks than available threads. You can prevent it by setting batch_size >= 2048 or by setting the environment variable OMP_NUM_THREADS=4\n",
      "  \"MiniBatchKMeans is known to have a memory leak on \"\n",
      "C:\\Users\\Xiaoven\\Anaconda3\\lib\\site-packages\\sklearn\\cluster\\_kmeans.py:1044: UserWarning: MiniBatchKMeans is known to have a memory leak on Windows with MKL, when there are less chunks than available threads. You can prevent it by setting batch_size >= 2048 or by setting the environment variable OMP_NUM_THREADS=4\n",
      "  \"MiniBatchKMeans is known to have a memory leak on \"\n",
      "C:\\Users\\Xiaoven\\Anaconda3\\lib\\site-packages\\sklearn\\cluster\\_kmeans.py:1044: UserWarning: MiniBatchKMeans is known to have a memory leak on Windows with MKL, when there are less chunks than available threads. You can prevent it by setting batch_size >= 2048 or by setting the environment variable OMP_NUM_THREADS=4\n",
      "  \"MiniBatchKMeans is known to have a memory leak on \"\n"
     ]
    },
    {
     "name": "stdout",
     "output_type": "stream",
     "text": [
      "torch.Size([1580, 6]) torch.Size([1580, 4]) torch.Size([270, 6]) torch.Size([270, 4])\n",
      "Epoch 0.loss:1.3385050296783447\n",
      "Epoch 100.loss:0.9886007905006409\n",
      "Epoch 200.loss:0.9824119210243225\n",
      "Epoch 300.loss:0.9900193810462952\n",
      "Epoch 400.loss:0.986402153968811\n",
      "Accuracy: 0.6\n",
      "Precision: 0.5220976070179335\n",
      "Recall: 0.480873292189259\n",
      "f1_score: 0.4767118465058968\n",
      "EEE_2014J-9.\n"
     ]
    },
    {
     "name": "stderr",
     "output_type": "stream",
     "text": [
      "C:\\Users\\Xiaoven\\Anaconda3\\lib\\site-packages\\sklearn\\cluster\\_kmeans.py:1044: UserWarning: MiniBatchKMeans is known to have a memory leak on Windows with MKL, when there are less chunks than available threads. You can prevent it by setting batch_size >= 2048 or by setting the environment variable OMP_NUM_THREADS=4\n",
      "  \"MiniBatchKMeans is known to have a memory leak on \"\n",
      "C:\\Users\\Xiaoven\\Anaconda3\\lib\\site-packages\\sklearn\\cluster\\_kmeans.py:1044: UserWarning: MiniBatchKMeans is known to have a memory leak on Windows with MKL, when there are less chunks than available threads. You can prevent it by setting batch_size >= 2048 or by setting the environment variable OMP_NUM_THREADS=4\n",
      "  \"MiniBatchKMeans is known to have a memory leak on \"\n",
      "C:\\Users\\Xiaoven\\Anaconda3\\lib\\site-packages\\sklearn\\cluster\\_kmeans.py:1044: UserWarning: MiniBatchKMeans is known to have a memory leak on Windows with MKL, when there are less chunks than available threads. You can prevent it by setting batch_size >= 2048 or by setting the environment variable OMP_NUM_THREADS=4\n",
      "  \"MiniBatchKMeans is known to have a memory leak on \"\n"
     ]
    },
    {
     "name": "stdout",
     "output_type": "stream",
     "text": [
      "torch.Size([1565, 9]) torch.Size([1565, 4]) torch.Size([270, 9]) torch.Size([270, 4])\n",
      "Epoch 0.loss:1.3550256490707397\n",
      "Epoch 100.loss:1.1259351968765259\n",
      "Epoch 200.loss:1.117704153060913\n",
      "Epoch 300.loss:1.1175510883331299\n",
      "Epoch 400.loss:1.104468584060669\n",
      "Accuracy: 0.5185185185185185\n",
      "Precision: 0.47722047152194214\n",
      "Recall: 0.46831576965918076\n",
      "f1_score: 0.4466226958024456\n",
      "FFF_2013B-12\n"
     ]
    },
    {
     "name": "stderr",
     "output_type": "stream",
     "text": [
      "C:\\Users\\Xiaoven\\Anaconda3\\lib\\site-packages\\sklearn\\cluster\\_kmeans.py:1044: UserWarning: MiniBatchKMeans is known to have a memory leak on Windows with MKL, when there are less chunks than available threads. You can prevent it by setting batch_size >= 2048 or by setting the environment variable OMP_NUM_THREADS=4\n",
      "  \"MiniBatchKMeans is known to have a memory leak on \"\n"
     ]
    },
    {
     "name": "stdout",
     "output_type": "stream",
     "text": [
      "FFF_2013B-18\n"
     ]
    },
    {
     "name": "stderr",
     "output_type": "stream",
     "text": [
      "C:\\Users\\Xiaoven\\Anaconda3\\lib\\site-packages\\sklearn\\cluster\\_kmeans.py:1044: UserWarning: MiniBatchKMeans is known to have a memory leak on Windows with MKL, when there are less chunks than available threads. You can prevent it by setting batch_size >= 2048 or by setting the environment variable OMP_NUM_THREADS=4\n",
      "  \"MiniBatchKMeans is known to have a memory leak on \"\n",
      "C:\\Users\\Xiaoven\\Anaconda3\\lib\\site-packages\\sklearn\\cluster\\_kmeans.py:1044: UserWarning: MiniBatchKMeans is known to have a memory leak on Windows with MKL, when there are less chunks than available threads. You can prevent it by setting batch_size >= 2048 or by setting the environment variable OMP_NUM_THREADS=4\n",
      "  \"MiniBatchKMeans is known to have a memory leak on \"\n",
      "C:\\Users\\Xiaoven\\Anaconda3\\lib\\site-packages\\sklearn\\cluster\\_kmeans.py:1044: UserWarning: MiniBatchKMeans is known to have a memory leak on Windows with MKL, when there are less chunks than available threads. You can prevent it by setting batch_size >= 2048 or by setting the environment variable OMP_NUM_THREADS=4\n",
      "  \"MiniBatchKMeans is known to have a memory leak on \"\n"
     ]
    },
    {
     "name": "stdout",
     "output_type": "stream",
     "text": [
      "torch.Size([2019, 18]) torch.Size([2019, 4]) torch.Size([376, 18]) torch.Size([376, 4])\n",
      "Epoch 0.loss:1.3239918947219849\n",
      "Epoch 100.loss:1.0478862524032593\n",
      "Epoch 200.loss:1.1271781921386719\n",
      "Epoch 300.loss:1.1229865550994873\n",
      "Epoch 400.loss:1.1362026929855347\n"
     ]
    },
    {
     "name": "stderr",
     "output_type": "stream",
     "text": [
      "C:\\Users\\Xiaoven\\Anaconda3\\lib\\site-packages\\sklearn\\metrics\\_classification.py:1318: UndefinedMetricWarning: Precision is ill-defined and being set to 0.0 in labels with no predicted samples. Use `zero_division` parameter to control this behavior.\n",
      "  _warn_prf(average, modifier, msg_start, len(result))\n"
     ]
    },
    {
     "name": "stdout",
     "output_type": "stream",
     "text": [
      "Accuracy: 0.5212765957446809\n"
     ]
    },
    {
     "name": "stderr",
     "output_type": "stream",
     "text": [
      "C:\\Users\\Xiaoven\\Anaconda3\\lib\\site-packages\\sklearn\\metrics\\_classification.py:1318: UndefinedMetricWarning: Precision is ill-defined and being set to 0.0 in labels with no predicted samples. Use `zero_division` parameter to control this behavior.\n",
      "  _warn_prf(average, modifier, msg_start, len(result))\n"
     ]
    },
    {
     "name": "stdout",
     "output_type": "stream",
     "text": [
      "Precision: 0.3484708704276027\n",
      "Recall: 0.44534161490683233\n",
      "f1_score: 0.38660762211486854\n",
      "FFF_2013B-24\n"
     ]
    },
    {
     "name": "stderr",
     "output_type": "stream",
     "text": [
      "C:\\Users\\Xiaoven\\Anaconda3\\lib\\site-packages\\sklearn\\cluster\\_kmeans.py:1044: UserWarning: MiniBatchKMeans is known to have a memory leak on Windows with MKL, when there are less chunks than available threads. You can prevent it by setting batch_size >= 2048 or by setting the environment variable OMP_NUM_THREADS=4\n",
      "  \"MiniBatchKMeans is known to have a memory leak on \"\n"
     ]
    },
    {
     "name": "stdout",
     "output_type": "stream",
     "text": [
      "FFF_2013B-32\n"
     ]
    },
    {
     "name": "stderr",
     "output_type": "stream",
     "text": [
      "C:\\Users\\Xiaoven\\Anaconda3\\lib\\site-packages\\sklearn\\cluster\\_kmeans.py:1044: UserWarning: MiniBatchKMeans is known to have a memory leak on Windows with MKL, when there are less chunks than available threads. You can prevent it by setting batch_size >= 2048 or by setting the environment variable OMP_NUM_THREADS=4\n",
      "  \"MiniBatchKMeans is known to have a memory leak on \"\n"
     ]
    },
    {
     "name": "stdout",
     "output_type": "stream",
     "text": [
      "FFF_2013B-48\n"
     ]
    },
    {
     "name": "stderr",
     "output_type": "stream",
     "text": [
      "C:\\Users\\Xiaoven\\Anaconda3\\lib\\site-packages\\sklearn\\cluster\\_kmeans.py:1044: UserWarning: MiniBatchKMeans is known to have a memory leak on Windows with MKL, when there are less chunks than available threads. You can prevent it by setting batch_size >= 2048 or by setting the environment variable OMP_NUM_THREADS=4\n",
      "  \"MiniBatchKMeans is known to have a memory leak on \"\n",
      "C:\\Users\\Xiaoven\\Anaconda3\\lib\\site-packages\\sklearn\\cluster\\_kmeans.py:1044: UserWarning: MiniBatchKMeans is known to have a memory leak on Windows with MKL, when there are less chunks than available threads. You can prevent it by setting batch_size >= 2048 or by setting the environment variable OMP_NUM_THREADS=4\n",
      "  \"MiniBatchKMeans is known to have a memory leak on \"\n",
      "C:\\Users\\Xiaoven\\Anaconda3\\lib\\site-packages\\sklearn\\cluster\\_kmeans.py:1044: UserWarning: MiniBatchKMeans is known to have a memory leak on Windows with MKL, when there are less chunks than available threads. You can prevent it by setting batch_size >= 2048 or by setting the environment variable OMP_NUM_THREADS=4\n",
      "  \"MiniBatchKMeans is known to have a memory leak on \"\n"
     ]
    },
    {
     "name": "stdout",
     "output_type": "stream",
     "text": [
      "torch.Size([1971, 48]) torch.Size([1971, 4]) torch.Size([376, 48]) torch.Size([376, 4])\n",
      "Epoch 0.loss:1.3439711332321167\n",
      "Epoch 100.loss:1.0546765327453613\n",
      "Epoch 200.loss:1.0424555540084839\n",
      "Epoch 300.loss:1.0060063600540161\n",
      "Epoch 400.loss:1.0084753036499023\n",
      "Accuracy: 0.5957446808510638\n",
      "Precision: 0.4844957412105835\n",
      "Recall: 0.48669882087512145\n",
      "f1_score: 0.47632765099818297\n",
      "FFF_2013B-6.\n"
     ]
    },
    {
     "name": "stderr",
     "output_type": "stream",
     "text": [
      "C:\\Users\\Xiaoven\\Anaconda3\\lib\\site-packages\\sklearn\\cluster\\_kmeans.py:1044: UserWarning: MiniBatchKMeans is known to have a memory leak on Windows with MKL, when there are less chunks than available threads. You can prevent it by setting batch_size >= 2048 or by setting the environment variable OMP_NUM_THREADS=4\n",
      "  \"MiniBatchKMeans is known to have a memory leak on \"\n"
     ]
    },
    {
     "name": "stdout",
     "output_type": "stream",
     "text": [
      "FFF_2013B-9.\n"
     ]
    },
    {
     "name": "stderr",
     "output_type": "stream",
     "text": [
      "C:\\Users\\Xiaoven\\Anaconda3\\lib\\site-packages\\sklearn\\cluster\\_kmeans.py:1044: UserWarning: MiniBatchKMeans is known to have a memory leak on Windows with MKL, when there are less chunks than available threads. You can prevent it by setting batch_size >= 2048 or by setting the environment variable OMP_NUM_THREADS=4\n",
      "  \"MiniBatchKMeans is known to have a memory leak on \"\n"
     ]
    },
    {
     "name": "stdout",
     "output_type": "stream",
     "text": [
      "FFF_2013J-12\n"
     ]
    },
    {
     "name": "stderr",
     "output_type": "stream",
     "text": [
      "C:\\Users\\Xiaoven\\Anaconda3\\lib\\site-packages\\sklearn\\cluster\\_kmeans.py:1044: UserWarning: MiniBatchKMeans is known to have a memory leak on Windows with MKL, when there are less chunks than available threads. You can prevent it by setting batch_size >= 2048 or by setting the environment variable OMP_NUM_THREADS=4\n",
      "  \"MiniBatchKMeans is known to have a memory leak on \"\n"
     ]
    },
    {
     "name": "stdout",
     "output_type": "stream",
     "text": [
      "FFF_2013J-18\n"
     ]
    },
    {
     "name": "stderr",
     "output_type": "stream",
     "text": [
      "C:\\Users\\Xiaoven\\Anaconda3\\lib\\site-packages\\sklearn\\cluster\\_kmeans.py:1044: UserWarning: MiniBatchKMeans is known to have a memory leak on Windows with MKL, when there are less chunks than available threads. You can prevent it by setting batch_size >= 2048 or by setting the environment variable OMP_NUM_THREADS=4\n",
      "  \"MiniBatchKMeans is known to have a memory leak on \"\n"
     ]
    },
    {
     "name": "stdout",
     "output_type": "stream",
     "text": [
      "FFF_2013J-24\n"
     ]
    },
    {
     "name": "stderr",
     "output_type": "stream",
     "text": [
      "C:\\Users\\Xiaoven\\Anaconda3\\lib\\site-packages\\sklearn\\cluster\\_kmeans.py:1044: UserWarning: MiniBatchKMeans is known to have a memory leak on Windows with MKL, when there are less chunks than available threads. You can prevent it by setting batch_size >= 2048 or by setting the environment variable OMP_NUM_THREADS=4\n",
      "  \"MiniBatchKMeans is known to have a memory leak on \"\n"
     ]
    },
    {
     "name": "stdout",
     "output_type": "stream",
     "text": [
      "FFF_2013J-32\n"
     ]
    },
    {
     "name": "stderr",
     "output_type": "stream",
     "text": [
      "C:\\Users\\Xiaoven\\Anaconda3\\lib\\site-packages\\sklearn\\cluster\\_kmeans.py:1044: UserWarning: MiniBatchKMeans is known to have a memory leak on Windows with MKL, when there are less chunks than available threads. You can prevent it by setting batch_size >= 2048 or by setting the environment variable OMP_NUM_THREADS=4\n",
      "  \"MiniBatchKMeans is known to have a memory leak on \"\n"
     ]
    },
    {
     "name": "stdout",
     "output_type": "stream",
     "text": [
      "FFF_2013J-48\n"
     ]
    },
    {
     "name": "stderr",
     "output_type": "stream",
     "text": [
      "C:\\Users\\Xiaoven\\Anaconda3\\lib\\site-packages\\sklearn\\cluster\\_kmeans.py:1044: UserWarning: MiniBatchKMeans is known to have a memory leak on Windows with MKL, when there are less chunks than available threads. You can prevent it by setting batch_size >= 2048 or by setting the environment variable OMP_NUM_THREADS=4\n",
      "  \"MiniBatchKMeans is known to have a memory leak on \"\n"
     ]
    },
    {
     "name": "stdout",
     "output_type": "stream",
     "text": [
      "FFF_2013J-6.\n"
     ]
    },
    {
     "name": "stderr",
     "output_type": "stream",
     "text": [
      "C:\\Users\\Xiaoven\\Anaconda3\\lib\\site-packages\\sklearn\\cluster\\_kmeans.py:1044: UserWarning: MiniBatchKMeans is known to have a memory leak on Windows with MKL, when there are less chunks than available threads. You can prevent it by setting batch_size >= 2048 or by setting the environment variable OMP_NUM_THREADS=4\n",
      "  \"MiniBatchKMeans is known to have a memory leak on \"\n"
     ]
    },
    {
     "name": "stdout",
     "output_type": "stream",
     "text": [
      "FFF_2013J-9.\n"
     ]
    },
    {
     "name": "stderr",
     "output_type": "stream",
     "text": [
      "C:\\Users\\Xiaoven\\Anaconda3\\lib\\site-packages\\sklearn\\cluster\\_kmeans.py:1044: UserWarning: MiniBatchKMeans is known to have a memory leak on Windows with MKL, when there are less chunks than available threads. You can prevent it by setting batch_size >= 2048 or by setting the environment variable OMP_NUM_THREADS=4\n",
      "  \"MiniBatchKMeans is known to have a memory leak on \"\n"
     ]
    },
    {
     "name": "stdout",
     "output_type": "stream",
     "text": [
      "FFF_2014B-12\n"
     ]
    },
    {
     "name": "stderr",
     "output_type": "stream",
     "text": [
      "C:\\Users\\Xiaoven\\Anaconda3\\lib\\site-packages\\sklearn\\cluster\\_kmeans.py:1044: UserWarning: MiniBatchKMeans is known to have a memory leak on Windows with MKL, when there are less chunks than available threads. You can prevent it by setting batch_size >= 2048 or by setting the environment variable OMP_NUM_THREADS=4\n",
      "  \"MiniBatchKMeans is known to have a memory leak on \"\n",
      "C:\\Users\\Xiaoven\\Anaconda3\\lib\\site-packages\\sklearn\\cluster\\_kmeans.py:1044: UserWarning: MiniBatchKMeans is known to have a memory leak on Windows with MKL, when there are less chunks than available threads. You can prevent it by setting batch_size >= 2048 or by setting the environment variable OMP_NUM_THREADS=4\n",
      "  \"MiniBatchKMeans is known to have a memory leak on \"\n",
      "C:\\Users\\Xiaoven\\Anaconda3\\lib\\site-packages\\sklearn\\cluster\\_kmeans.py:1044: UserWarning: MiniBatchKMeans is known to have a memory leak on Windows with MKL, when there are less chunks than available threads. You can prevent it by setting batch_size >= 2048 or by setting the environment variable OMP_NUM_THREADS=4\n",
      "  \"MiniBatchKMeans is known to have a memory leak on \"\n"
     ]
    },
    {
     "name": "stdout",
     "output_type": "stream",
     "text": [
      "torch.Size([1632, 12]) torch.Size([1632, 4]) torch.Size([337, 12]) torch.Size([337, 4])\n",
      "Epoch 0.loss:1.3786137104034424\n",
      "Epoch 100.loss:1.0977425575256348\n",
      "Epoch 200.loss:1.1180042028427124\n",
      "Epoch 300.loss:1.103232979774475\n",
      "Epoch 400.loss:1.1029537916183472\n",
      "Accuracy: 0.5489614243323442\n",
      "Precision: 0.3656742992286812\n",
      "Recall: 0.5038379217727044\n",
      "f1_score: 0.4117820099363724\n",
      "FFF_2014B-18\n"
     ]
    },
    {
     "name": "stderr",
     "output_type": "stream",
     "text": [
      "C:\\Users\\Xiaoven\\Anaconda3\\lib\\site-packages\\sklearn\\cluster\\_kmeans.py:1044: UserWarning: MiniBatchKMeans is known to have a memory leak on Windows with MKL, when there are less chunks than available threads. You can prevent it by setting batch_size >= 2048 or by setting the environment variable OMP_NUM_THREADS=4\n",
      "  \"MiniBatchKMeans is known to have a memory leak on \"\n",
      "C:\\Users\\Xiaoven\\Anaconda3\\lib\\site-packages\\sklearn\\cluster\\_kmeans.py:1044: UserWarning: MiniBatchKMeans is known to have a memory leak on Windows with MKL, when there are less chunks than available threads. You can prevent it by setting batch_size >= 2048 or by setting the environment variable OMP_NUM_THREADS=4\n",
      "  \"MiniBatchKMeans is known to have a memory leak on \"\n",
      "C:\\Users\\Xiaoven\\Anaconda3\\lib\\site-packages\\sklearn\\cluster\\_kmeans.py:1044: UserWarning: MiniBatchKMeans is known to have a memory leak on Windows with MKL, when there are less chunks than available threads. You can prevent it by setting batch_size >= 2048 or by setting the environment variable OMP_NUM_THREADS=4\n",
      "  \"MiniBatchKMeans is known to have a memory leak on \"\n"
     ]
    },
    {
     "name": "stdout",
     "output_type": "stream",
     "text": [
      "torch.Size([1623, 18]) torch.Size([1623, 4]) torch.Size([337, 18]) torch.Size([337, 4])\n",
      "Epoch 0.loss:1.3753480911254883\n",
      "Epoch 100.loss:1.0344932079315186\n",
      "Epoch 200.loss:1.0239019393920898\n",
      "Epoch 300.loss:1.0094022750854492\n",
      "Epoch 400.loss:0.9971921443939209\n",
      "Accuracy: 0.49851632047477745\n",
      "Precision: 0.4334690037228377\n",
      "Recall: 0.4468039451157507\n",
      "f1_score: 0.42912275517909326\n",
      "FFF_2014B-24\n"
     ]
    },
    {
     "name": "stderr",
     "output_type": "stream",
     "text": [
      "C:\\Users\\Xiaoven\\Anaconda3\\lib\\site-packages\\sklearn\\cluster\\_kmeans.py:1044: UserWarning: MiniBatchKMeans is known to have a memory leak on Windows with MKL, when there are less chunks than available threads. You can prevent it by setting batch_size >= 2048 or by setting the environment variable OMP_NUM_THREADS=4\n",
      "  \"MiniBatchKMeans is known to have a memory leak on \"\n"
     ]
    },
    {
     "name": "stdout",
     "output_type": "stream",
     "text": [
      "FFF_2014B-32\n"
     ]
    },
    {
     "name": "stderr",
     "output_type": "stream",
     "text": [
      "C:\\Users\\Xiaoven\\Anaconda3\\lib\\site-packages\\sklearn\\cluster\\_kmeans.py:1044: UserWarning: MiniBatchKMeans is known to have a memory leak on Windows with MKL, when there are less chunks than available threads. You can prevent it by setting batch_size >= 2048 or by setting the environment variable OMP_NUM_THREADS=4\n",
      "  \"MiniBatchKMeans is known to have a memory leak on \"\n",
      "C:\\Users\\Xiaoven\\Anaconda3\\lib\\site-packages\\sklearn\\cluster\\_kmeans.py:1044: UserWarning: MiniBatchKMeans is known to have a memory leak on Windows with MKL, when there are less chunks than available threads. You can prevent it by setting batch_size >= 2048 or by setting the environment variable OMP_NUM_THREADS=4\n",
      "  \"MiniBatchKMeans is known to have a memory leak on \"\n",
      "C:\\Users\\Xiaoven\\Anaconda3\\lib\\site-packages\\sklearn\\cluster\\_kmeans.py:1044: UserWarning: MiniBatchKMeans is known to have a memory leak on Windows with MKL, when there are less chunks than available threads. You can prevent it by setting batch_size >= 2048 or by setting the environment variable OMP_NUM_THREADS=4\n",
      "  \"MiniBatchKMeans is known to have a memory leak on \"\n"
     ]
    },
    {
     "name": "stdout",
     "output_type": "stream",
     "text": [
      "torch.Size([1621, 32]) torch.Size([1621, 4]) torch.Size([337, 32]) torch.Size([337, 4])\n",
      "Epoch 0.loss:1.3598674535751343\n",
      "Epoch 100.loss:1.0950802564620972\n",
      "Epoch 200.loss:1.0973644256591797\n",
      "Epoch 300.loss:1.096185326576233\n",
      "Epoch 400.loss:1.1054316759109497\n"
     ]
    },
    {
     "name": "stderr",
     "output_type": "stream",
     "text": [
      "C:\\Users\\Xiaoven\\Anaconda3\\lib\\site-packages\\sklearn\\metrics\\_classification.py:1318: UndefinedMetricWarning: Precision is ill-defined and being set to 0.0 in labels with no predicted samples. Use `zero_division` parameter to control this behavior.\n",
      "  _warn_prf(average, modifier, msg_start, len(result))\n"
     ]
    },
    {
     "name": "stdout",
     "output_type": "stream",
     "text": [
      "Accuracy: 0.56973293768546\n"
     ]
    },
    {
     "name": "stderr",
     "output_type": "stream",
     "text": [
      "C:\\Users\\Xiaoven\\Anaconda3\\lib\\site-packages\\sklearn\\metrics\\_classification.py:1318: UndefinedMetricWarning: Precision is ill-defined and being set to 0.0 in labels with no predicted samples. Use `zero_division` parameter to control this behavior.\n",
      "  _warn_prf(average, modifier, msg_start, len(result))\n"
     ]
    },
    {
     "name": "stdout",
     "output_type": "stream",
     "text": [
      "Precision: 0.3822192280751848\n",
      "Recall: 0.4983833370930145\n",
      "f1_score: 0.4275892145135566\n",
      "FFF_2014B-48\n"
     ]
    },
    {
     "name": "stderr",
     "output_type": "stream",
     "text": [
      "C:\\Users\\Xiaoven\\Anaconda3\\lib\\site-packages\\sklearn\\cluster\\_kmeans.py:1044: UserWarning: MiniBatchKMeans is known to have a memory leak on Windows with MKL, when there are less chunks than available threads. You can prevent it by setting batch_size >= 2048 or by setting the environment variable OMP_NUM_THREADS=4\n",
      "  \"MiniBatchKMeans is known to have a memory leak on \"\n",
      "C:\\Users\\Xiaoven\\Anaconda3\\lib\\site-packages\\sklearn\\cluster\\_kmeans.py:1044: UserWarning: MiniBatchKMeans is known to have a memory leak on Windows with MKL, when there are less chunks than available threads. You can prevent it by setting batch_size >= 2048 or by setting the environment variable OMP_NUM_THREADS=4\n",
      "  \"MiniBatchKMeans is known to have a memory leak on \"\n",
      "C:\\Users\\Xiaoven\\Anaconda3\\lib\\site-packages\\sklearn\\cluster\\_kmeans.py:1044: UserWarning: MiniBatchKMeans is known to have a memory leak on Windows with MKL, when there are less chunks than available threads. You can prevent it by setting batch_size >= 2048 or by setting the environment variable OMP_NUM_THREADS=4\n",
      "  \"MiniBatchKMeans is known to have a memory leak on \"\n"
     ]
    },
    {
     "name": "stdout",
     "output_type": "stream",
     "text": [
      "torch.Size([1616, 48]) torch.Size([1616, 4]) torch.Size([337, 48]) torch.Size([337, 4])\n",
      "Epoch 0.loss:1.3638848066329956\n",
      "Epoch 100.loss:1.2041761875152588\n",
      "Epoch 200.loss:1.1955506801605225\n",
      "Epoch 300.loss:1.1889221668243408\n",
      "Epoch 400.loss:1.242983102798462\n"
     ]
    },
    {
     "name": "stderr",
     "output_type": "stream",
     "text": [
      "C:\\Users\\Xiaoven\\Anaconda3\\lib\\site-packages\\sklearn\\metrics\\_classification.py:1318: UndefinedMetricWarning: Precision is ill-defined and being set to 0.0 in labels with no predicted samples. Use `zero_division` parameter to control this behavior.\n",
      "  _warn_prf(average, modifier, msg_start, len(result))\n"
     ]
    },
    {
     "name": "stdout",
     "output_type": "stream",
     "text": [
      "Accuracy: 0.5727002967359051\n"
     ]
    },
    {
     "name": "stderr",
     "output_type": "stream",
     "text": [
      "C:\\Users\\Xiaoven\\Anaconda3\\lib\\site-packages\\sklearn\\metrics\\_classification.py:1318: UndefinedMetricWarning: Precision is ill-defined and being set to 0.0 in labels with no predicted samples. Use `zero_division` parameter to control this behavior.\n",
      "  _warn_prf(average, modifier, msg_start, len(result))\n"
     ]
    },
    {
     "name": "stdout",
     "output_type": "stream",
     "text": [
      "Precision: 0.4102775739789679\n",
      "Recall: 0.4283349483204134\n",
      "f1_score: 0.40772216428298597\n",
      "FFF_2014B-6.\n"
     ]
    },
    {
     "name": "stderr",
     "output_type": "stream",
     "text": [
      "C:\\Users\\Xiaoven\\Anaconda3\\lib\\site-packages\\sklearn\\cluster\\_kmeans.py:1044: UserWarning: MiniBatchKMeans is known to have a memory leak on Windows with MKL, when there are less chunks than available threads. You can prevent it by setting batch_size >= 2048 or by setting the environment variable OMP_NUM_THREADS=4\n",
      "  \"MiniBatchKMeans is known to have a memory leak on \"\n",
      "C:\\Users\\Xiaoven\\Anaconda3\\lib\\site-packages\\sklearn\\cluster\\_kmeans.py:1044: UserWarning: MiniBatchKMeans is known to have a memory leak on Windows with MKL, when there are less chunks than available threads. You can prevent it by setting batch_size >= 2048 or by setting the environment variable OMP_NUM_THREADS=4\n",
      "  \"MiniBatchKMeans is known to have a memory leak on \"\n",
      "C:\\Users\\Xiaoven\\Anaconda3\\lib\\site-packages\\sklearn\\cluster\\_kmeans.py:1044: UserWarning: MiniBatchKMeans is known to have a memory leak on Windows with MKL, when there are less chunks than available threads. You can prevent it by setting batch_size >= 2048 or by setting the environment variable OMP_NUM_THREADS=4\n",
      "  \"MiniBatchKMeans is known to have a memory leak on \"\n"
     ]
    },
    {
     "name": "stdout",
     "output_type": "stream",
     "text": [
      "torch.Size([1634, 6]) torch.Size([1634, 4]) torch.Size([337, 6]) torch.Size([337, 4])\n",
      "Epoch 0.loss:1.3649433851242065\n",
      "Epoch 100.loss:1.0988799333572388\n",
      "Epoch 200.loss:1.0927257537841797\n",
      "Epoch 300.loss:1.0985076427459717\n",
      "Epoch 400.loss:1.1015092134475708\n"
     ]
    },
    {
     "name": "stderr",
     "output_type": "stream",
     "text": [
      "C:\\Users\\Xiaoven\\Anaconda3\\lib\\site-packages\\sklearn\\metrics\\_classification.py:1318: UndefinedMetricWarning: Precision is ill-defined and being set to 0.0 in labels with no predicted samples. Use `zero_division` parameter to control this behavior.\n",
      "  _warn_prf(average, modifier, msg_start, len(result))\n"
     ]
    },
    {
     "name": "stdout",
     "output_type": "stream",
     "text": [
      "Accuracy: 0.5489614243323442\n"
     ]
    },
    {
     "name": "stderr",
     "output_type": "stream",
     "text": [
      "C:\\Users\\Xiaoven\\Anaconda3\\lib\\site-packages\\sklearn\\metrics\\_classification.py:1318: UndefinedMetricWarning: Precision is ill-defined and being set to 0.0 in labels with no predicted samples. Use `zero_division` parameter to control this behavior.\n",
      "  _warn_prf(average, modifier, msg_start, len(result))\n"
     ]
    },
    {
     "name": "stdout",
     "output_type": "stream",
     "text": [
      "Precision: 0.32410947544544577\n",
      "Recall: 0.42374999999999996\n",
      "f1_score: 0.36188527495726563\n",
      "FFF_2014B-9.\n"
     ]
    },
    {
     "name": "stderr",
     "output_type": "stream",
     "text": [
      "C:\\Users\\Xiaoven\\Anaconda3\\lib\\site-packages\\sklearn\\cluster\\_kmeans.py:1044: UserWarning: MiniBatchKMeans is known to have a memory leak on Windows with MKL, when there are less chunks than available threads. You can prevent it by setting batch_size >= 2048 or by setting the environment variable OMP_NUM_THREADS=4\n",
      "  \"MiniBatchKMeans is known to have a memory leak on \"\n",
      "C:\\Users\\Xiaoven\\Anaconda3\\lib\\site-packages\\sklearn\\cluster\\_kmeans.py:1044: UserWarning: MiniBatchKMeans is known to have a memory leak on Windows with MKL, when there are less chunks than available threads. You can prevent it by setting batch_size >= 2048 or by setting the environment variable OMP_NUM_THREADS=4\n",
      "  \"MiniBatchKMeans is known to have a memory leak on \"\n",
      "C:\\Users\\Xiaoven\\Anaconda3\\lib\\site-packages\\sklearn\\cluster\\_kmeans.py:1044: UserWarning: MiniBatchKMeans is known to have a memory leak on Windows with MKL, when there are less chunks than available threads. You can prevent it by setting batch_size >= 2048 or by setting the environment variable OMP_NUM_THREADS=4\n",
      "  \"MiniBatchKMeans is known to have a memory leak on \"\n"
     ]
    },
    {
     "name": "stdout",
     "output_type": "stream",
     "text": [
      "torch.Size([1627, 9]) torch.Size([1627, 4]) torch.Size([337, 9]) torch.Size([337, 4])\n",
      "Epoch 0.loss:1.3574484586715698\n",
      "Epoch 100.loss:1.027857780456543\n",
      "Epoch 200.loss:1.0056968927383423\n",
      "Epoch 300.loss:1.0182782411575317\n",
      "Epoch 400.loss:1.0373061895370483\n",
      "Accuracy: 0.5578635014836796\n",
      "Precision: 0.47581727591641665\n",
      "Recall: 0.46257540841395656\n",
      "f1_score: 0.46338223345671214\n",
      "FFF_2014J-12\n"
     ]
    },
    {
     "name": "stderr",
     "output_type": "stream",
     "text": [
      "C:\\Users\\Xiaoven\\Anaconda3\\lib\\site-packages\\sklearn\\cluster\\_kmeans.py:1044: UserWarning: MiniBatchKMeans is known to have a memory leak on Windows with MKL, when there are less chunks than available threads. You can prevent it by setting batch_size >= 2048 or by setting the environment variable OMP_NUM_THREADS=4\n",
      "  \"MiniBatchKMeans is known to have a memory leak on \"\n",
      "C:\\Users\\Xiaoven\\Anaconda3\\lib\\site-packages\\sklearn\\cluster\\_kmeans.py:1044: UserWarning: MiniBatchKMeans is known to have a memory leak on Windows with MKL, when there are less chunks than available threads. You can prevent it by setting batch_size >= 2048 or by setting the environment variable OMP_NUM_THREADS=4\n",
      "  \"MiniBatchKMeans is known to have a memory leak on \"\n",
      "C:\\Users\\Xiaoven\\Anaconda3\\lib\\site-packages\\sklearn\\cluster\\_kmeans.py:1044: UserWarning: MiniBatchKMeans is known to have a memory leak on Windows with MKL, when there are less chunks than available threads. You can prevent it by setting batch_size >= 2048 or by setting the environment variable OMP_NUM_THREADS=4\n",
      "  \"MiniBatchKMeans is known to have a memory leak on \"\n"
     ]
    },
    {
     "name": "stdout",
     "output_type": "stream",
     "text": [
      "torch.Size([2531, 12]) torch.Size([2531, 4]) torch.Size([517, 12]) torch.Size([517, 4])\n",
      "Epoch 0.loss:1.3107424974441528\n",
      "Epoch 100.loss:1.0444741249084473\n",
      "Epoch 200.loss:1.0274966955184937\n",
      "Epoch 300.loss:1.0145353078842163\n",
      "Epoch 400.loss:1.0046144723892212\n",
      "Accuracy: 0.5802707930367504\n",
      "Precision: 0.5305610571919915\n",
      "Recall: 0.5233544743152846\n",
      "f1_score: 0.5191324870891629\n",
      "FFF_2014J-18\n"
     ]
    },
    {
     "name": "stderr",
     "output_type": "stream",
     "text": [
      "C:\\Users\\Xiaoven\\Anaconda3\\lib\\site-packages\\sklearn\\cluster\\_kmeans.py:1044: UserWarning: MiniBatchKMeans is known to have a memory leak on Windows with MKL, when there are less chunks than available threads. You can prevent it by setting batch_size >= 2048 or by setting the environment variable OMP_NUM_THREADS=4\n",
      "  \"MiniBatchKMeans is known to have a memory leak on \"\n",
      "C:\\Users\\Xiaoven\\Anaconda3\\lib\\site-packages\\sklearn\\cluster\\_kmeans.py:1044: UserWarning: MiniBatchKMeans is known to have a memory leak on Windows with MKL, when there are less chunks than available threads. You can prevent it by setting batch_size >= 2048 or by setting the environment variable OMP_NUM_THREADS=4\n",
      "  \"MiniBatchKMeans is known to have a memory leak on \"\n",
      "C:\\Users\\Xiaoven\\Anaconda3\\lib\\site-packages\\sklearn\\cluster\\_kmeans.py:1044: UserWarning: MiniBatchKMeans is known to have a memory leak on Windows with MKL, when there are less chunks than available threads. You can prevent it by setting batch_size >= 2048 or by setting the environment variable OMP_NUM_THREADS=4\n",
      "  \"MiniBatchKMeans is known to have a memory leak on \"\n"
     ]
    },
    {
     "name": "stdout",
     "output_type": "stream",
     "text": [
      "torch.Size([2613, 18]) torch.Size([2613, 4]) torch.Size([517, 18]) torch.Size([517, 4])\n",
      "Epoch 0.loss:1.333786964416504\n",
      "Epoch 100.loss:1.0116420984268188\n",
      "Epoch 200.loss:0.995441734790802\n",
      "Epoch 300.loss:0.9922377467155457\n",
      "Epoch 400.loss:1.024232029914856\n",
      "Accuracy: 0.6131528046421664\n",
      "Precision: 0.5511264839991843\n",
      "Recall: 0.5177372173610487\n",
      "f1_score: 0.5232798419759384\n",
      "FFF_2014J-24\n"
     ]
    },
    {
     "name": "stderr",
     "output_type": "stream",
     "text": [
      "C:\\Users\\Xiaoven\\Anaconda3\\lib\\site-packages\\sklearn\\cluster\\_kmeans.py:1044: UserWarning: MiniBatchKMeans is known to have a memory leak on Windows with MKL, when there are less chunks than available threads. You can prevent it by setting batch_size >= 2048 or by setting the environment variable OMP_NUM_THREADS=4\n",
      "  \"MiniBatchKMeans is known to have a memory leak on \"\n",
      "C:\\Users\\Xiaoven\\Anaconda3\\lib\\site-packages\\sklearn\\cluster\\_kmeans.py:1044: UserWarning: MiniBatchKMeans is known to have a memory leak on Windows with MKL, when there are less chunks than available threads. You can prevent it by setting batch_size >= 2048 or by setting the environment variable OMP_NUM_THREADS=4\n",
      "  \"MiniBatchKMeans is known to have a memory leak on \"\n",
      "C:\\Users\\Xiaoven\\Anaconda3\\lib\\site-packages\\sklearn\\cluster\\_kmeans.py:1044: UserWarning: MiniBatchKMeans is known to have a memory leak on Windows with MKL, when there are less chunks than available threads. You can prevent it by setting batch_size >= 2048 or by setting the environment variable OMP_NUM_THREADS=4\n",
      "  \"MiniBatchKMeans is known to have a memory leak on \"\n"
     ]
    },
    {
     "name": "stdout",
     "output_type": "stream",
     "text": [
      "torch.Size([2607, 24]) torch.Size([2607, 4]) torch.Size([517, 24]) torch.Size([517, 4])\n",
      "Epoch 0.loss:1.3463895320892334\n",
      "Epoch 100.loss:0.9660636186599731\n",
      "Epoch 200.loss:0.9655320644378662\n",
      "Epoch 300.loss:1.1374660730361938\n",
      "Epoch 400.loss:1.1778709888458252\n"
     ]
    },
    {
     "name": "stderr",
     "output_type": "stream",
     "text": [
      "C:\\Users\\Xiaoven\\Anaconda3\\lib\\site-packages\\sklearn\\metrics\\_classification.py:1318: UndefinedMetricWarning: Precision is ill-defined and being set to 0.0 in labels with no predicted samples. Use `zero_division` parameter to control this behavior.\n",
      "  _warn_prf(average, modifier, msg_start, len(result))\n"
     ]
    },
    {
     "name": "stdout",
     "output_type": "stream",
     "text": [
      "Accuracy: 0.6382978723404256\n"
     ]
    },
    {
     "name": "stderr",
     "output_type": "stream",
     "text": [
      "C:\\Users\\Xiaoven\\Anaconda3\\lib\\site-packages\\sklearn\\metrics\\_classification.py:1318: UndefinedMetricWarning: Precision is ill-defined and being set to 0.0 in labels with no predicted samples. Use `zero_division` parameter to control this behavior.\n",
      "  _warn_prf(average, modifier, msg_start, len(result))\n"
     ]
    },
    {
     "name": "stdout",
     "output_type": "stream",
     "text": [
      "Precision: 0.4373629694703488\n",
      "Recall: 0.48504222728878327\n",
      "f1_score: 0.4540205870565033\n",
      "FFF_2014J-32\n"
     ]
    },
    {
     "name": "stderr",
     "output_type": "stream",
     "text": [
      "C:\\Users\\Xiaoven\\Anaconda3\\lib\\site-packages\\sklearn\\cluster\\_kmeans.py:1044: UserWarning: MiniBatchKMeans is known to have a memory leak on Windows with MKL, when there are less chunks than available threads. You can prevent it by setting batch_size >= 2048 or by setting the environment variable OMP_NUM_THREADS=4\n",
      "  \"MiniBatchKMeans is known to have a memory leak on \"\n",
      "C:\\Users\\Xiaoven\\Anaconda3\\lib\\site-packages\\sklearn\\cluster\\_kmeans.py:1044: UserWarning: MiniBatchKMeans is known to have a memory leak on Windows with MKL, when there are less chunks than available threads. You can prevent it by setting batch_size >= 2048 or by setting the environment variable OMP_NUM_THREADS=4\n",
      "  \"MiniBatchKMeans is known to have a memory leak on \"\n",
      "C:\\Users\\Xiaoven\\Anaconda3\\lib\\site-packages\\sklearn\\cluster\\_kmeans.py:1044: UserWarning: MiniBatchKMeans is known to have a memory leak on Windows with MKL, when there are less chunks than available threads. You can prevent it by setting batch_size >= 2048 or by setting the environment variable OMP_NUM_THREADS=4\n",
      "  \"MiniBatchKMeans is known to have a memory leak on \"\n"
     ]
    },
    {
     "name": "stdout",
     "output_type": "stream",
     "text": [
      "torch.Size([2622, 32]) torch.Size([2622, 4]) torch.Size([517, 32]) torch.Size([517, 4])\n",
      "Epoch 0.loss:1.2940490245819092\n",
      "Epoch 100.loss:0.9846462607383728\n",
      "Epoch 200.loss:0.9745538830757141\n",
      "Epoch 300.loss:0.9934086203575134\n",
      "Epoch 400.loss:1.0377277135849\n",
      "Accuracy: 0.5918762088974855\n",
      "Precision: 0.539419224964778\n",
      "Recall: 0.5096732798698056\n",
      "f1_score: 0.5140733484514636\n",
      "FFF_2014J-48\n"
     ]
    },
    {
     "name": "stderr",
     "output_type": "stream",
     "text": [
      "C:\\Users\\Xiaoven\\Anaconda3\\lib\\site-packages\\sklearn\\cluster\\_kmeans.py:1044: UserWarning: MiniBatchKMeans is known to have a memory leak on Windows with MKL, when there are less chunks than available threads. You can prevent it by setting batch_size >= 2048 or by setting the environment variable OMP_NUM_THREADS=4\n",
      "  \"MiniBatchKMeans is known to have a memory leak on \"\n",
      "C:\\Users\\Xiaoven\\Anaconda3\\lib\\site-packages\\sklearn\\cluster\\_kmeans.py:1044: UserWarning: MiniBatchKMeans is known to have a memory leak on Windows with MKL, when there are less chunks than available threads. You can prevent it by setting batch_size >= 2048 or by setting the environment variable OMP_NUM_THREADS=4\n",
      "  \"MiniBatchKMeans is known to have a memory leak on \"\n",
      "C:\\Users\\Xiaoven\\Anaconda3\\lib\\site-packages\\sklearn\\cluster\\_kmeans.py:1044: UserWarning: MiniBatchKMeans is known to have a memory leak on Windows with MKL, when there are less chunks than available threads. You can prevent it by setting batch_size >= 2048 or by setting the environment variable OMP_NUM_THREADS=4\n",
      "  \"MiniBatchKMeans is known to have a memory leak on \"\n"
     ]
    },
    {
     "name": "stdout",
     "output_type": "stream",
     "text": [
      "torch.Size([2577, 48]) torch.Size([2577, 4]) torch.Size([517, 48]) torch.Size([517, 4])\n",
      "Epoch 0.loss:1.3166483640670776\n",
      "Epoch 100.loss:1.0232388973236084\n",
      "Epoch 200.loss:1.011107087135315\n",
      "Epoch 300.loss:0.9820801019668579\n",
      "Epoch 400.loss:1.1821143627166748\n"
     ]
    },
    {
     "name": "stderr",
     "output_type": "stream",
     "text": [
      "C:\\Users\\Xiaoven\\Anaconda3\\lib\\site-packages\\sklearn\\metrics\\_classification.py:1318: UndefinedMetricWarning: Precision is ill-defined and being set to 0.0 in labels with no predicted samples. Use `zero_division` parameter to control this behavior.\n",
      "  _warn_prf(average, modifier, msg_start, len(result))\n"
     ]
    },
    {
     "name": "stdout",
     "output_type": "stream",
     "text": [
      "Accuracy: 0.6363636363636364\n"
     ]
    },
    {
     "name": "stderr",
     "output_type": "stream",
     "text": [
      "C:\\Users\\Xiaoven\\Anaconda3\\lib\\site-packages\\sklearn\\metrics\\_classification.py:1318: UndefinedMetricWarning: Precision is ill-defined and being set to 0.0 in labels with no predicted samples. Use `zero_division` parameter to control this behavior.\n",
      "  _warn_prf(average, modifier, msg_start, len(result))\n"
     ]
    },
    {
     "name": "stdout",
     "output_type": "stream",
     "text": [
      "Precision: 0.4492214095478393\n",
      "Recall: 0.4709994306768501\n",
      "f1_score: 0.4455079458223058\n",
      "FFF_2014J-6.\n"
     ]
    },
    {
     "name": "stderr",
     "output_type": "stream",
     "text": [
      "C:\\Users\\Xiaoven\\Anaconda3\\lib\\site-packages\\sklearn\\cluster\\_kmeans.py:1044: UserWarning: MiniBatchKMeans is known to have a memory leak on Windows with MKL, when there are less chunks than available threads. You can prevent it by setting batch_size >= 2048 or by setting the environment variable OMP_NUM_THREADS=4\n",
      "  \"MiniBatchKMeans is known to have a memory leak on \"\n",
      "C:\\Users\\Xiaoven\\Anaconda3\\lib\\site-packages\\sklearn\\cluster\\_kmeans.py:1044: UserWarning: MiniBatchKMeans is known to have a memory leak on Windows with MKL, when there are less chunks than available threads. You can prevent it by setting batch_size >= 2048 or by setting the environment variable OMP_NUM_THREADS=4\n",
      "  \"MiniBatchKMeans is known to have a memory leak on \"\n",
      "C:\\Users\\Xiaoven\\Anaconda3\\lib\\site-packages\\sklearn\\cluster\\_kmeans.py:1044: UserWarning: MiniBatchKMeans is known to have a memory leak on Windows with MKL, when there are less chunks than available threads. You can prevent it by setting batch_size >= 2048 or by setting the environment variable OMP_NUM_THREADS=4\n",
      "  \"MiniBatchKMeans is known to have a memory leak on \"\n"
     ]
    },
    {
     "name": "stdout",
     "output_type": "stream",
     "text": [
      "torch.Size([2641, 6]) torch.Size([2641, 4]) torch.Size([517, 6]) torch.Size([517, 4])\n",
      "Epoch 0.loss:1.3658066987991333\n",
      "Epoch 100.loss:1.0364534854888916\n",
      "Epoch 200.loss:1.024767518043518\n",
      "Epoch 300.loss:1.0372458696365356\n",
      "Epoch 400.loss:1.0260404348373413\n",
      "Accuracy: 0.6073500967117988\n",
      "Precision: 0.5438243304083759\n",
      "Recall: 0.5121445839647831\n",
      "f1_score: 0.5082393405505694\n",
      "FFF_2014J-9.\n"
     ]
    },
    {
     "name": "stderr",
     "output_type": "stream",
     "text": [
      "C:\\Users\\Xiaoven\\Anaconda3\\lib\\site-packages\\sklearn\\cluster\\_kmeans.py:1044: UserWarning: MiniBatchKMeans is known to have a memory leak on Windows with MKL, when there are less chunks than available threads. You can prevent it by setting batch_size >= 2048 or by setting the environment variable OMP_NUM_THREADS=4\n",
      "  \"MiniBatchKMeans is known to have a memory leak on \"\n",
      "C:\\Users\\Xiaoven\\Anaconda3\\lib\\site-packages\\sklearn\\cluster\\_kmeans.py:1044: UserWarning: MiniBatchKMeans is known to have a memory leak on Windows with MKL, when there are less chunks than available threads. You can prevent it by setting batch_size >= 2048 or by setting the environment variable OMP_NUM_THREADS=4\n",
      "  \"MiniBatchKMeans is known to have a memory leak on \"\n",
      "C:\\Users\\Xiaoven\\Anaconda3\\lib\\site-packages\\sklearn\\cluster\\_kmeans.py:1044: UserWarning: MiniBatchKMeans is known to have a memory leak on Windows with MKL, when there are less chunks than available threads. You can prevent it by setting batch_size >= 2048 or by setting the environment variable OMP_NUM_THREADS=4\n",
      "  \"MiniBatchKMeans is known to have a memory leak on \"\n"
     ]
    },
    {
     "name": "stdout",
     "output_type": "stream",
     "text": [
      "torch.Size([2602, 9]) torch.Size([2602, 4]) torch.Size([517, 9]) torch.Size([517, 4])\n",
      "Epoch 0.loss:1.3116915225982666\n",
      "Epoch 100.loss:1.0855251550674438\n",
      "Epoch 200.loss:1.04827880859375\n",
      "Epoch 300.loss:1.0593734979629517\n",
      "Epoch 400.loss:1.0425046682357788\n",
      "Accuracy: 0.5764023210831721\n",
      "Precision: 0.5265674090402351\n",
      "Recall: 0.5528617780742985\n",
      "f1_score: 0.5253409885765309\n",
      "GGG_2013J-12\n"
     ]
    },
    {
     "name": "stderr",
     "output_type": "stream",
     "text": [
      "C:\\Users\\Xiaoven\\Anaconda3\\lib\\site-packages\\sklearn\\cluster\\_kmeans.py:1044: UserWarning: MiniBatchKMeans is known to have a memory leak on Windows with MKL, when there are less chunks than available threads. You can prevent it by setting batch_size >= 2048 or by setting the environment variable OMP_NUM_THREADS=3\n",
      "  \"MiniBatchKMeans is known to have a memory leak on \"\n",
      "C:\\Users\\Xiaoven\\Anaconda3\\lib\\site-packages\\sklearn\\cluster\\_kmeans.py:1044: UserWarning: MiniBatchKMeans is known to have a memory leak on Windows with MKL, when there are less chunks than available threads. You can prevent it by setting batch_size >= 2048 or by setting the environment variable OMP_NUM_THREADS=3\n",
      "  \"MiniBatchKMeans is known to have a memory leak on \"\n",
      "C:\\Users\\Xiaoven\\Anaconda3\\lib\\site-packages\\sklearn\\cluster\\_kmeans.py:1044: UserWarning: MiniBatchKMeans is known to have a memory leak on Windows with MKL, when there are less chunks than available threads. You can prevent it by setting batch_size >= 2048 or by setting the environment variable OMP_NUM_THREADS=3\n",
      "  \"MiniBatchKMeans is known to have a memory leak on \"\n"
     ]
    },
    {
     "name": "stdout",
     "output_type": "stream",
     "text": [
      "GGG_2013J-18\n"
     ]
    },
    {
     "name": "stderr",
     "output_type": "stream",
     "text": [
      "C:\\Users\\Xiaoven\\Anaconda3\\lib\\site-packages\\sklearn\\cluster\\_kmeans.py:1044: UserWarning: MiniBatchKMeans is known to have a memory leak on Windows with MKL, when there are less chunks than available threads. You can prevent it by setting batch_size >= 2048 or by setting the environment variable OMP_NUM_THREADS=3\n",
      "  \"MiniBatchKMeans is known to have a memory leak on \"\n",
      "C:\\Users\\Xiaoven\\Anaconda3\\lib\\site-packages\\sklearn\\cluster\\_kmeans.py:1044: UserWarning: MiniBatchKMeans is known to have a memory leak on Windows with MKL, when there are less chunks than available threads. You can prevent it by setting batch_size >= 2048 or by setting the environment variable OMP_NUM_THREADS=3\n",
      "  \"MiniBatchKMeans is known to have a memory leak on \"\n",
      "C:\\Users\\Xiaoven\\Anaconda3\\lib\\site-packages\\sklearn\\cluster\\_kmeans.py:1044: UserWarning: MiniBatchKMeans is known to have a memory leak on Windows with MKL, when there are less chunks than available threads. You can prevent it by setting batch_size >= 2048 or by setting the environment variable OMP_NUM_THREADS=3\n",
      "  \"MiniBatchKMeans is known to have a memory leak on \"\n"
     ]
    },
    {
     "name": "stdout",
     "output_type": "stream",
     "text": [
      "GGG_2013J-24\n"
     ]
    },
    {
     "name": "stderr",
     "output_type": "stream",
     "text": [
      "C:\\Users\\Xiaoven\\Anaconda3\\lib\\site-packages\\sklearn\\cluster\\_kmeans.py:1044: UserWarning: MiniBatchKMeans is known to have a memory leak on Windows with MKL, when there are less chunks than available threads. You can prevent it by setting batch_size >= 2048 or by setting the environment variable OMP_NUM_THREADS=3\n",
      "  \"MiniBatchKMeans is known to have a memory leak on \"\n",
      "C:\\Users\\Xiaoven\\Anaconda3\\lib\\site-packages\\sklearn\\cluster\\_kmeans.py:1044: UserWarning: MiniBatchKMeans is known to have a memory leak on Windows with MKL, when there are less chunks than available threads. You can prevent it by setting batch_size >= 2048 or by setting the environment variable OMP_NUM_THREADS=3\n",
      "  \"MiniBatchKMeans is known to have a memory leak on \"\n",
      "C:\\Users\\Xiaoven\\Anaconda3\\lib\\site-packages\\sklearn\\cluster\\_kmeans.py:1044: UserWarning: MiniBatchKMeans is known to have a memory leak on Windows with MKL, when there are less chunks than available threads. You can prevent it by setting batch_size >= 2048 or by setting the environment variable OMP_NUM_THREADS=3\n",
      "  \"MiniBatchKMeans is known to have a memory leak on \"\n"
     ]
    },
    {
     "name": "stdout",
     "output_type": "stream",
     "text": [
      "GGG_2013J-32\n"
     ]
    },
    {
     "name": "stderr",
     "output_type": "stream",
     "text": [
      "C:\\Users\\Xiaoven\\Anaconda3\\lib\\site-packages\\sklearn\\cluster\\_kmeans.py:1044: UserWarning: MiniBatchKMeans is known to have a memory leak on Windows with MKL, when there are less chunks than available threads. You can prevent it by setting batch_size >= 2048 or by setting the environment variable OMP_NUM_THREADS=3\n",
      "  \"MiniBatchKMeans is known to have a memory leak on \"\n",
      "C:\\Users\\Xiaoven\\Anaconda3\\lib\\site-packages\\sklearn\\cluster\\_kmeans.py:1044: UserWarning: MiniBatchKMeans is known to have a memory leak on Windows with MKL, when there are less chunks than available threads. You can prevent it by setting batch_size >= 2048 or by setting the environment variable OMP_NUM_THREADS=3\n",
      "  \"MiniBatchKMeans is known to have a memory leak on \"\n",
      "C:\\Users\\Xiaoven\\Anaconda3\\lib\\site-packages\\sklearn\\cluster\\_kmeans.py:1044: UserWarning: MiniBatchKMeans is known to have a memory leak on Windows with MKL, when there are less chunks than available threads. You can prevent it by setting batch_size >= 2048 or by setting the environment variable OMP_NUM_THREADS=3\n",
      "  \"MiniBatchKMeans is known to have a memory leak on \"\n"
     ]
    },
    {
     "name": "stdout",
     "output_type": "stream",
     "text": [
      "GGG_2013J-48\n"
     ]
    },
    {
     "name": "stderr",
     "output_type": "stream",
     "text": [
      "C:\\Users\\Xiaoven\\Anaconda3\\lib\\site-packages\\sklearn\\cluster\\_kmeans.py:1044: UserWarning: MiniBatchKMeans is known to have a memory leak on Windows with MKL, when there are less chunks than available threads. You can prevent it by setting batch_size >= 2048 or by setting the environment variable OMP_NUM_THREADS=3\n",
      "  \"MiniBatchKMeans is known to have a memory leak on \"\n",
      "C:\\Users\\Xiaoven\\Anaconda3\\lib\\site-packages\\sklearn\\cluster\\_kmeans.py:1044: UserWarning: MiniBatchKMeans is known to have a memory leak on Windows with MKL, when there are less chunks than available threads. You can prevent it by setting batch_size >= 2048 or by setting the environment variable OMP_NUM_THREADS=3\n",
      "  \"MiniBatchKMeans is known to have a memory leak on \"\n",
      "C:\\Users\\Xiaoven\\Anaconda3\\lib\\site-packages\\sklearn\\cluster\\_kmeans.py:1044: UserWarning: MiniBatchKMeans is known to have a memory leak on Windows with MKL, when there are less chunks than available threads. You can prevent it by setting batch_size >= 2048 or by setting the environment variable OMP_NUM_THREADS=3\n",
      "  \"MiniBatchKMeans is known to have a memory leak on \"\n"
     ]
    },
    {
     "name": "stdout",
     "output_type": "stream",
     "text": [
      "GGG_2013J-6.\n"
     ]
    },
    {
     "name": "stderr",
     "output_type": "stream",
     "text": [
      "C:\\Users\\Xiaoven\\Anaconda3\\lib\\site-packages\\sklearn\\cluster\\_kmeans.py:1044: UserWarning: MiniBatchKMeans is known to have a memory leak on Windows with MKL, when there are less chunks than available threads. You can prevent it by setting batch_size >= 2048 or by setting the environment variable OMP_NUM_THREADS=3\n",
      "  \"MiniBatchKMeans is known to have a memory leak on \"\n",
      "C:\\Users\\Xiaoven\\Anaconda3\\lib\\site-packages\\sklearn\\cluster\\_kmeans.py:1044: UserWarning: MiniBatchKMeans is known to have a memory leak on Windows with MKL, when there are less chunks than available threads. You can prevent it by setting batch_size >= 2048 or by setting the environment variable OMP_NUM_THREADS=3\n",
      "  \"MiniBatchKMeans is known to have a memory leak on \"\n",
      "C:\\Users\\Xiaoven\\Anaconda3\\lib\\site-packages\\sklearn\\cluster\\_kmeans.py:1044: UserWarning: MiniBatchKMeans is known to have a memory leak on Windows with MKL, when there are less chunks than available threads. You can prevent it by setting batch_size >= 2048 or by setting the environment variable OMP_NUM_THREADS=3\n",
      "  \"MiniBatchKMeans is known to have a memory leak on \"\n"
     ]
    },
    {
     "name": "stdout",
     "output_type": "stream",
     "text": [
      "GGG_2013J-9.\n"
     ]
    },
    {
     "name": "stderr",
     "output_type": "stream",
     "text": [
      "C:\\Users\\Xiaoven\\Anaconda3\\lib\\site-packages\\sklearn\\cluster\\_kmeans.py:1044: UserWarning: MiniBatchKMeans is known to have a memory leak on Windows with MKL, when there are less chunks than available threads. You can prevent it by setting batch_size >= 2048 or by setting the environment variable OMP_NUM_THREADS=3\n",
      "  \"MiniBatchKMeans is known to have a memory leak on \"\n",
      "C:\\Users\\Xiaoven\\Anaconda3\\lib\\site-packages\\sklearn\\cluster\\_kmeans.py:1044: UserWarning: MiniBatchKMeans is known to have a memory leak on Windows with MKL, when there are less chunks than available threads. You can prevent it by setting batch_size >= 2048 or by setting the environment variable OMP_NUM_THREADS=3\n",
      "  \"MiniBatchKMeans is known to have a memory leak on \"\n",
      "C:\\Users\\Xiaoven\\Anaconda3\\lib\\site-packages\\sklearn\\cluster\\_kmeans.py:1044: UserWarning: MiniBatchKMeans is known to have a memory leak on Windows with MKL, when there are less chunks than available threads. You can prevent it by setting batch_size >= 2048 or by setting the environment variable OMP_NUM_THREADS=3\n",
      "  \"MiniBatchKMeans is known to have a memory leak on \"\n"
     ]
    },
    {
     "name": "stdout",
     "output_type": "stream",
     "text": [
      "torch.Size([1329, 9]) torch.Size([1329, 4]) torch.Size([223, 9]) torch.Size([223, 4])\n",
      "Epoch 0.loss:1.3844729661941528\n",
      "Epoch 100.loss:1.009028434753418\n",
      "Epoch 200.loss:1.0356258153915405\n",
      "Epoch 300.loss:0.9875108003616333\n",
      "Epoch 400.loss:0.9828516840934753\n",
      "Accuracy: 0.6367713004484304\n",
      "Precision: 0.40853853971232024\n",
      "Recall: 0.421741452991453\n",
      "f1_score: 0.4147442604128103\n",
      "GGG_2014B-12\n"
     ]
    },
    {
     "name": "stderr",
     "output_type": "stream",
     "text": [
      "C:\\Users\\Xiaoven\\Anaconda3\\lib\\site-packages\\sklearn\\cluster\\_kmeans.py:1044: UserWarning: MiniBatchKMeans is known to have a memory leak on Windows with MKL, when there are less chunks than available threads. You can prevent it by setting batch_size >= 2048 or by setting the environment variable OMP_NUM_THREADS=3\n",
      "  \"MiniBatchKMeans is known to have a memory leak on \"\n",
      "C:\\Users\\Xiaoven\\Anaconda3\\lib\\site-packages\\sklearn\\cluster\\_kmeans.py:1044: UserWarning: MiniBatchKMeans is known to have a memory leak on Windows with MKL, when there are less chunks than available threads. You can prevent it by setting batch_size >= 2048 or by setting the environment variable OMP_NUM_THREADS=3\n",
      "  \"MiniBatchKMeans is known to have a memory leak on \"\n",
      "C:\\Users\\Xiaoven\\Anaconda3\\lib\\site-packages\\sklearn\\cluster\\_kmeans.py:1044: UserWarning: MiniBatchKMeans is known to have a memory leak on Windows with MKL, when there are less chunks than available threads. You can prevent it by setting batch_size >= 2048 or by setting the environment variable OMP_NUM_THREADS=3\n",
      "  \"MiniBatchKMeans is known to have a memory leak on \"\n"
     ]
    },
    {
     "name": "stdout",
     "output_type": "stream",
     "text": [
      "GGG_2014B-18\n"
     ]
    },
    {
     "name": "stderr",
     "output_type": "stream",
     "text": [
      "C:\\Users\\Xiaoven\\Anaconda3\\lib\\site-packages\\sklearn\\cluster\\_kmeans.py:1044: UserWarning: MiniBatchKMeans is known to have a memory leak on Windows with MKL, when there are less chunks than available threads. You can prevent it by setting batch_size >= 2048 or by setting the environment variable OMP_NUM_THREADS=3\n",
      "  \"MiniBatchKMeans is known to have a memory leak on \"\n",
      "C:\\Users\\Xiaoven\\Anaconda3\\lib\\site-packages\\sklearn\\cluster\\_kmeans.py:1044: UserWarning: MiniBatchKMeans is known to have a memory leak on Windows with MKL, when there are less chunks than available threads. You can prevent it by setting batch_size >= 2048 or by setting the environment variable OMP_NUM_THREADS=3\n",
      "  \"MiniBatchKMeans is known to have a memory leak on \"\n",
      "C:\\Users\\Xiaoven\\Anaconda3\\lib\\site-packages\\sklearn\\cluster\\_kmeans.py:1044: UserWarning: MiniBatchKMeans is known to have a memory leak on Windows with MKL, when there are less chunks than available threads. You can prevent it by setting batch_size >= 2048 or by setting the environment variable OMP_NUM_THREADS=3\n",
      "  \"MiniBatchKMeans is known to have a memory leak on \"\n"
     ]
    },
    {
     "name": "stdout",
     "output_type": "stream",
     "text": [
      "GGG_2014B-24\n"
     ]
    },
    {
     "name": "stderr",
     "output_type": "stream",
     "text": [
      "C:\\Users\\Xiaoven\\Anaconda3\\lib\\site-packages\\sklearn\\cluster\\_kmeans.py:1044: UserWarning: MiniBatchKMeans is known to have a memory leak on Windows with MKL, when there are less chunks than available threads. You can prevent it by setting batch_size >= 2048 or by setting the environment variable OMP_NUM_THREADS=3\n",
      "  \"MiniBatchKMeans is known to have a memory leak on \"\n",
      "C:\\Users\\Xiaoven\\Anaconda3\\lib\\site-packages\\sklearn\\cluster\\_kmeans.py:1044: UserWarning: MiniBatchKMeans is known to have a memory leak on Windows with MKL, when there are less chunks than available threads. You can prevent it by setting batch_size >= 2048 or by setting the environment variable OMP_NUM_THREADS=3\n",
      "  \"MiniBatchKMeans is known to have a memory leak on \"\n",
      "C:\\Users\\Xiaoven\\Anaconda3\\lib\\site-packages\\sklearn\\cluster\\_kmeans.py:1044: UserWarning: MiniBatchKMeans is known to have a memory leak on Windows with MKL, when there are less chunks than available threads. You can prevent it by setting batch_size >= 2048 or by setting the environment variable OMP_NUM_THREADS=3\n",
      "  \"MiniBatchKMeans is known to have a memory leak on \"\n"
     ]
    },
    {
     "name": "stdout",
     "output_type": "stream",
     "text": [
      "GGG_2014B-32\n"
     ]
    },
    {
     "name": "stderr",
     "output_type": "stream",
     "text": [
      "C:\\Users\\Xiaoven\\Anaconda3\\lib\\site-packages\\sklearn\\cluster\\_kmeans.py:1044: UserWarning: MiniBatchKMeans is known to have a memory leak on Windows with MKL, when there are less chunks than available threads. You can prevent it by setting batch_size >= 2048 or by setting the environment variable OMP_NUM_THREADS=3\n",
      "  \"MiniBatchKMeans is known to have a memory leak on \"\n",
      "C:\\Users\\Xiaoven\\Anaconda3\\lib\\site-packages\\sklearn\\cluster\\_kmeans.py:1044: UserWarning: MiniBatchKMeans is known to have a memory leak on Windows with MKL, when there are less chunks than available threads. You can prevent it by setting batch_size >= 2048 or by setting the environment variable OMP_NUM_THREADS=3\n",
      "  \"MiniBatchKMeans is known to have a memory leak on \"\n",
      "C:\\Users\\Xiaoven\\Anaconda3\\lib\\site-packages\\sklearn\\cluster\\_kmeans.py:1044: UserWarning: MiniBatchKMeans is known to have a memory leak on Windows with MKL, when there are less chunks than available threads. You can prevent it by setting batch_size >= 2048 or by setting the environment variable OMP_NUM_THREADS=3\n",
      "  \"MiniBatchKMeans is known to have a memory leak on \"\n"
     ]
    },
    {
     "name": "stdout",
     "output_type": "stream",
     "text": [
      "GGG_2014B-48\n"
     ]
    },
    {
     "name": "stderr",
     "output_type": "stream",
     "text": [
      "C:\\Users\\Xiaoven\\Anaconda3\\lib\\site-packages\\sklearn\\cluster\\_kmeans.py:1044: UserWarning: MiniBatchKMeans is known to have a memory leak on Windows with MKL, when there are less chunks than available threads. You can prevent it by setting batch_size >= 2048 or by setting the environment variable OMP_NUM_THREADS=3\n",
      "  \"MiniBatchKMeans is known to have a memory leak on \"\n",
      "C:\\Users\\Xiaoven\\Anaconda3\\lib\\site-packages\\sklearn\\cluster\\_kmeans.py:1044: UserWarning: MiniBatchKMeans is known to have a memory leak on Windows with MKL, when there are less chunks than available threads. You can prevent it by setting batch_size >= 2048 or by setting the environment variable OMP_NUM_THREADS=3\n",
      "  \"MiniBatchKMeans is known to have a memory leak on \"\n",
      "C:\\Users\\Xiaoven\\Anaconda3\\lib\\site-packages\\sklearn\\cluster\\_kmeans.py:1044: UserWarning: MiniBatchKMeans is known to have a memory leak on Windows with MKL, when there are less chunks than available threads. You can prevent it by setting batch_size >= 2048 or by setting the environment variable OMP_NUM_THREADS=3\n",
      "  \"MiniBatchKMeans is known to have a memory leak on \"\n"
     ]
    },
    {
     "name": "stdout",
     "output_type": "stream",
     "text": [
      "GGG_2014B-6.\n"
     ]
    },
    {
     "name": "stderr",
     "output_type": "stream",
     "text": [
      "C:\\Users\\Xiaoven\\Anaconda3\\lib\\site-packages\\sklearn\\cluster\\_kmeans.py:1044: UserWarning: MiniBatchKMeans is known to have a memory leak on Windows with MKL, when there are less chunks than available threads. You can prevent it by setting batch_size >= 2048 or by setting the environment variable OMP_NUM_THREADS=3\n",
      "  \"MiniBatchKMeans is known to have a memory leak on \"\n",
      "C:\\Users\\Xiaoven\\Anaconda3\\lib\\site-packages\\sklearn\\cluster\\_kmeans.py:1044: UserWarning: MiniBatchKMeans is known to have a memory leak on Windows with MKL, when there are less chunks than available threads. You can prevent it by setting batch_size >= 2048 or by setting the environment variable OMP_NUM_THREADS=3\n",
      "  \"MiniBatchKMeans is known to have a memory leak on \"\n",
      "C:\\Users\\Xiaoven\\Anaconda3\\lib\\site-packages\\sklearn\\cluster\\_kmeans.py:1044: UserWarning: MiniBatchKMeans is known to have a memory leak on Windows with MKL, when there are less chunks than available threads. You can prevent it by setting batch_size >= 2048 or by setting the environment variable OMP_NUM_THREADS=3\n",
      "  \"MiniBatchKMeans is known to have a memory leak on \"\n"
     ]
    },
    {
     "name": "stdout",
     "output_type": "stream",
     "text": [
      "GGG_2014B-9.\n"
     ]
    },
    {
     "name": "stderr",
     "output_type": "stream",
     "text": [
      "C:\\Users\\Xiaoven\\Anaconda3\\lib\\site-packages\\sklearn\\cluster\\_kmeans.py:1044: UserWarning: MiniBatchKMeans is known to have a memory leak on Windows with MKL, when there are less chunks than available threads. You can prevent it by setting batch_size >= 2048 or by setting the environment variable OMP_NUM_THREADS=3\n",
      "  \"MiniBatchKMeans is known to have a memory leak on \"\n",
      "C:\\Users\\Xiaoven\\Anaconda3\\lib\\site-packages\\sklearn\\cluster\\_kmeans.py:1044: UserWarning: MiniBatchKMeans is known to have a memory leak on Windows with MKL, when there are less chunks than available threads. You can prevent it by setting batch_size >= 2048 or by setting the environment variable OMP_NUM_THREADS=3\n",
      "  \"MiniBatchKMeans is known to have a memory leak on \"\n",
      "C:\\Users\\Xiaoven\\Anaconda3\\lib\\site-packages\\sklearn\\cluster\\_kmeans.py:1044: UserWarning: MiniBatchKMeans is known to have a memory leak on Windows with MKL, when there are less chunks than available threads. You can prevent it by setting batch_size >= 2048 or by setting the environment variable OMP_NUM_THREADS=3\n",
      "  \"MiniBatchKMeans is known to have a memory leak on \"\n"
     ]
    },
    {
     "name": "stdout",
     "output_type": "stream",
     "text": [
      "GGG_2014J-12\n"
     ]
    },
    {
     "name": "stderr",
     "output_type": "stream",
     "text": [
      "C:\\Users\\Xiaoven\\Anaconda3\\lib\\site-packages\\sklearn\\cluster\\_kmeans.py:1044: UserWarning: MiniBatchKMeans is known to have a memory leak on Windows with MKL, when there are less chunks than available threads. You can prevent it by setting batch_size >= 2048 or by setting the environment variable OMP_NUM_THREADS=3\n",
      "  \"MiniBatchKMeans is known to have a memory leak on \"\n",
      "C:\\Users\\Xiaoven\\Anaconda3\\lib\\site-packages\\sklearn\\cluster\\_kmeans.py:1044: UserWarning: MiniBatchKMeans is known to have a memory leak on Windows with MKL, when there are less chunks than available threads. You can prevent it by setting batch_size >= 2048 or by setting the environment variable OMP_NUM_THREADS=3\n",
      "  \"MiniBatchKMeans is known to have a memory leak on \"\n",
      "C:\\Users\\Xiaoven\\Anaconda3\\lib\\site-packages\\sklearn\\cluster\\_kmeans.py:1044: UserWarning: MiniBatchKMeans is known to have a memory leak on Windows with MKL, when there are less chunks than available threads. You can prevent it by setting batch_size >= 2048 or by setting the environment variable OMP_NUM_THREADS=3\n",
      "  \"MiniBatchKMeans is known to have a memory leak on \"\n"
     ]
    },
    {
     "name": "stdout",
     "output_type": "stream",
     "text": [
      "torch.Size([961, 12]) torch.Size([961, 4]) torch.Size([174, 12]) torch.Size([174, 4])\n",
      "Epoch 0.loss:1.385149359703064\n",
      "Epoch 100.loss:1.0570635795593262\n",
      "Epoch 200.loss:1.0469123125076294\n",
      "Epoch 300.loss:1.0214964151382446\n",
      "Epoch 400.loss:1.0050575733184814\n",
      "Accuracy: 0.45977011494252873\n",
      "Precision: 0.4201331889344885\n",
      "Recall: 0.4228288184683534\n",
      "f1_score: 0.42056514128532135\n",
      "GGG_2014J-18\n"
     ]
    },
    {
     "name": "stderr",
     "output_type": "stream",
     "text": [
      "C:\\Users\\Xiaoven\\Anaconda3\\lib\\site-packages\\sklearn\\cluster\\_kmeans.py:1044: UserWarning: MiniBatchKMeans is known to have a memory leak on Windows with MKL, when there are less chunks than available threads. You can prevent it by setting batch_size >= 2048 or by setting the environment variable OMP_NUM_THREADS=3\n",
      "  \"MiniBatchKMeans is known to have a memory leak on \"\n",
      "C:\\Users\\Xiaoven\\Anaconda3\\lib\\site-packages\\sklearn\\cluster\\_kmeans.py:1044: UserWarning: MiniBatchKMeans is known to have a memory leak on Windows with MKL, when there are less chunks than available threads. You can prevent it by setting batch_size >= 2048 or by setting the environment variable OMP_NUM_THREADS=3\n",
      "  \"MiniBatchKMeans is known to have a memory leak on \"\n",
      "C:\\Users\\Xiaoven\\Anaconda3\\lib\\site-packages\\sklearn\\cluster\\_kmeans.py:1044: UserWarning: MiniBatchKMeans is known to have a memory leak on Windows with MKL, when there are less chunks than available threads. You can prevent it by setting batch_size >= 2048 or by setting the environment variable OMP_NUM_THREADS=3\n",
      "  \"MiniBatchKMeans is known to have a memory leak on \"\n"
     ]
    },
    {
     "name": "stdout",
     "output_type": "stream",
     "text": [
      "torch.Size([904, 18]) torch.Size([904, 4]) torch.Size([174, 18]) torch.Size([174, 4])\n",
      "Epoch 0.loss:1.377354621887207\n",
      "Epoch 100.loss:1.042845606803894\n",
      "Epoch 200.loss:1.039207100868225\n",
      "Epoch 300.loss:1.0554566383361816\n",
      "Epoch 400.loss:1.0658074617385864\n",
      "Accuracy: 0.27586206896551724\n",
      "Precision: 0.39567751351933067\n",
      "Recall: 0.3868190711145975\n",
      "f1_score: 0.28570200125078177\n",
      "GGG_2014J-24\n"
     ]
    },
    {
     "name": "stderr",
     "output_type": "stream",
     "text": [
      "C:\\Users\\Xiaoven\\Anaconda3\\lib\\site-packages\\sklearn\\cluster\\_kmeans.py:1044: UserWarning: MiniBatchKMeans is known to have a memory leak on Windows with MKL, when there are less chunks than available threads. You can prevent it by setting batch_size >= 2048 or by setting the environment variable OMP_NUM_THREADS=3\n",
      "  \"MiniBatchKMeans is known to have a memory leak on \"\n",
      "C:\\Users\\Xiaoven\\Anaconda3\\lib\\site-packages\\sklearn\\cluster\\_kmeans.py:1044: UserWarning: MiniBatchKMeans is known to have a memory leak on Windows with MKL, when there are less chunks than available threads. You can prevent it by setting batch_size >= 2048 or by setting the environment variable OMP_NUM_THREADS=3\n",
      "  \"MiniBatchKMeans is known to have a memory leak on \"\n",
      "C:\\Users\\Xiaoven\\Anaconda3\\lib\\site-packages\\sklearn\\cluster\\_kmeans.py:1044: UserWarning: MiniBatchKMeans is known to have a memory leak on Windows with MKL, when there are less chunks than available threads. You can prevent it by setting batch_size >= 2048 or by setting the environment variable OMP_NUM_THREADS=3\n",
      "  \"MiniBatchKMeans is known to have a memory leak on \"\n"
     ]
    },
    {
     "name": "stdout",
     "output_type": "stream",
     "text": [
      "torch.Size([980, 24]) torch.Size([980, 4]) torch.Size([174, 24]) torch.Size([174, 4])\n",
      "Epoch 0.loss:1.380033016204834\n",
      "Epoch 100.loss:1.0197089910507202\n",
      "Epoch 200.loss:1.042614221572876\n",
      "Epoch 300.loss:1.0173366069793701\n",
      "Epoch 400.loss:0.9878305196762085\n",
      "Accuracy: 0.41954022988505746\n",
      "Precision: 0.4125874125874126\n",
      "Recall: 0.3825299733841233\n",
      "f1_score: 0.3920207887867575\n",
      "GGG_2014J-32\n"
     ]
    },
    {
     "name": "stderr",
     "output_type": "stream",
     "text": [
      "C:\\Users\\Xiaoven\\Anaconda3\\lib\\site-packages\\sklearn\\cluster\\_kmeans.py:1044: UserWarning: MiniBatchKMeans is known to have a memory leak on Windows with MKL, when there are less chunks than available threads. You can prevent it by setting batch_size >= 2048 or by setting the environment variable OMP_NUM_THREADS=3\n",
      "  \"MiniBatchKMeans is known to have a memory leak on \"\n",
      "C:\\Users\\Xiaoven\\Anaconda3\\lib\\site-packages\\sklearn\\cluster\\_kmeans.py:1044: UserWarning: MiniBatchKMeans is known to have a memory leak on Windows with MKL, when there are less chunks than available threads. You can prevent it by setting batch_size >= 2048 or by setting the environment variable OMP_NUM_THREADS=3\n",
      "  \"MiniBatchKMeans is known to have a memory leak on \"\n",
      "C:\\Users\\Xiaoven\\Anaconda3\\lib\\site-packages\\sklearn\\cluster\\_kmeans.py:1044: UserWarning: MiniBatchKMeans is known to have a memory leak on Windows with MKL, when there are less chunks than available threads. You can prevent it by setting batch_size >= 2048 or by setting the environment variable OMP_NUM_THREADS=3\n",
      "  \"MiniBatchKMeans is known to have a memory leak on \"\n"
     ]
    },
    {
     "name": "stdout",
     "output_type": "stream",
     "text": [
      "GGG_2014J-48\n"
     ]
    },
    {
     "name": "stderr",
     "output_type": "stream",
     "text": [
      "C:\\Users\\Xiaoven\\Anaconda3\\lib\\site-packages\\sklearn\\cluster\\_kmeans.py:1044: UserWarning: MiniBatchKMeans is known to have a memory leak on Windows with MKL, when there are less chunks than available threads. You can prevent it by setting batch_size >= 2048 or by setting the environment variable OMP_NUM_THREADS=3\n",
      "  \"MiniBatchKMeans is known to have a memory leak on \"\n",
      "C:\\Users\\Xiaoven\\Anaconda3\\lib\\site-packages\\sklearn\\cluster\\_kmeans.py:1044: UserWarning: MiniBatchKMeans is known to have a memory leak on Windows with MKL, when there are less chunks than available threads. You can prevent it by setting batch_size >= 2048 or by setting the environment variable OMP_NUM_THREADS=3\n",
      "  \"MiniBatchKMeans is known to have a memory leak on \"\n",
      "C:\\Users\\Xiaoven\\Anaconda3\\lib\\site-packages\\sklearn\\cluster\\_kmeans.py:1044: UserWarning: MiniBatchKMeans is known to have a memory leak on Windows with MKL, when there are less chunks than available threads. You can prevent it by setting batch_size >= 2048 or by setting the environment variable OMP_NUM_THREADS=3\n",
      "  \"MiniBatchKMeans is known to have a memory leak on \"\n"
     ]
    },
    {
     "name": "stdout",
     "output_type": "stream",
     "text": [
      "torch.Size([989, 48]) torch.Size([989, 4]) torch.Size([174, 48]) torch.Size([174, 4])\n",
      "Epoch 0.loss:1.3841650485992432\n",
      "Epoch 100.loss:1.0867383480072021\n",
      "Epoch 200.loss:1.1201434135437012\n",
      "Epoch 300.loss:1.0600167512893677\n",
      "Epoch 400.loss:1.0511969327926636\n"
     ]
    },
    {
     "name": "stderr",
     "output_type": "stream",
     "text": [
      "C:\\Users\\Xiaoven\\Anaconda3\\lib\\site-packages\\sklearn\\metrics\\_classification.py:1318: UndefinedMetricWarning: Precision is ill-defined and being set to 0.0 in labels with no predicted samples. Use `zero_division` parameter to control this behavior.\n",
      "  _warn_prf(average, modifier, msg_start, len(result))\n"
     ]
    },
    {
     "name": "stdout",
     "output_type": "stream",
     "text": [
      "Accuracy: 0.5172413793103449\n"
     ]
    },
    {
     "name": "stderr",
     "output_type": "stream",
     "text": [
      "C:\\Users\\Xiaoven\\Anaconda3\\lib\\site-packages\\sklearn\\metrics\\_classification.py:1318: UndefinedMetricWarning: Precision is ill-defined and being set to 0.0 in labels with no predicted samples. Use `zero_division` parameter to control this behavior.\n",
      "  _warn_prf(average, modifier, msg_start, len(result))\n"
     ]
    },
    {
     "name": "stdout",
     "output_type": "stream",
     "text": [
      "Precision: 0.316990451881263\n",
      "Recall: 0.39812335022446577\n",
      "f1_score: 0.3247357049661477\n",
      "GGG_2014J-6.\n"
     ]
    },
    {
     "name": "stderr",
     "output_type": "stream",
     "text": [
      "C:\\Users\\Xiaoven\\Anaconda3\\lib\\site-packages\\sklearn\\cluster\\_kmeans.py:1044: UserWarning: MiniBatchKMeans is known to have a memory leak on Windows with MKL, when there are less chunks than available threads. You can prevent it by setting batch_size >= 2048 or by setting the environment variable OMP_NUM_THREADS=3\n",
      "  \"MiniBatchKMeans is known to have a memory leak on \"\n",
      "C:\\Users\\Xiaoven\\Anaconda3\\lib\\site-packages\\sklearn\\cluster\\_kmeans.py:1044: UserWarning: MiniBatchKMeans is known to have a memory leak on Windows with MKL, when there are less chunks than available threads. You can prevent it by setting batch_size >= 2048 or by setting the environment variable OMP_NUM_THREADS=3\n",
      "  \"MiniBatchKMeans is known to have a memory leak on \"\n",
      "C:\\Users\\Xiaoven\\Anaconda3\\lib\\site-packages\\sklearn\\cluster\\_kmeans.py:1044: UserWarning: MiniBatchKMeans is known to have a memory leak on Windows with MKL, when there are less chunks than available threads. You can prevent it by setting batch_size >= 2048 or by setting the environment variable OMP_NUM_THREADS=3\n",
      "  \"MiniBatchKMeans is known to have a memory leak on \"\n"
     ]
    },
    {
     "name": "stdout",
     "output_type": "stream",
     "text": [
      "torch.Size([980, 6]) torch.Size([980, 4]) torch.Size([174, 6]) torch.Size([174, 4])\n",
      "Epoch 0.loss:1.3835749626159668\n",
      "Epoch 100.loss:1.0466786623001099\n",
      "Epoch 200.loss:1.1086313724517822\n",
      "Epoch 300.loss:1.0686639547348022\n",
      "Epoch 400.loss:1.0883923768997192\n",
      "Accuracy: 0.39080459770114945\n",
      "Precision: 0.34951037994516254\n",
      "Recall: 0.35695630473027734\n",
      "f1_score: 0.3523500309214595\n",
      "GGG_2014J-9.\n"
     ]
    },
    {
     "name": "stderr",
     "output_type": "stream",
     "text": [
      "C:\\Users\\Xiaoven\\Anaconda3\\lib\\site-packages\\sklearn\\cluster\\_kmeans.py:1044: UserWarning: MiniBatchKMeans is known to have a memory leak on Windows with MKL, when there are less chunks than available threads. You can prevent it by setting batch_size >= 2048 or by setting the environment variable OMP_NUM_THREADS=3\n",
      "  \"MiniBatchKMeans is known to have a memory leak on \"\n",
      "C:\\Users\\Xiaoven\\Anaconda3\\lib\\site-packages\\sklearn\\cluster\\_kmeans.py:1044: UserWarning: MiniBatchKMeans is known to have a memory leak on Windows with MKL, when there are less chunks than available threads. You can prevent it by setting batch_size >= 2048 or by setting the environment variable OMP_NUM_THREADS=3\n",
      "  \"MiniBatchKMeans is known to have a memory leak on \"\n",
      "C:\\Users\\Xiaoven\\Anaconda3\\lib\\site-packages\\sklearn\\cluster\\_kmeans.py:1044: UserWarning: MiniBatchKMeans is known to have a memory leak on Windows with MKL, when there are less chunks than available threads. You can prevent it by setting batch_size >= 2048 or by setting the environment variable OMP_NUM_THREADS=3\n",
      "  \"MiniBatchKMeans is known to have a memory leak on \"\n"
     ]
    },
    {
     "name": "stdout",
     "output_type": "stream",
     "text": [
      "torch.Size([980, 9]) torch.Size([980, 4]) torch.Size([174, 9]) torch.Size([174, 4])\n",
      "Epoch 0.loss:1.3830366134643555\n",
      "Epoch 100.loss:1.082930326461792\n",
      "Epoch 200.loss:1.0311261415481567\n",
      "Epoch 300.loss:1.0008294582366943\n",
      "Epoch 400.loss:0.9881218075752258\n",
      "Accuracy: 0.46551724137931033\n",
      "Precision: 0.432097966614748\n",
      "Recall: 0.42629326533436124\n",
      "f1_score: 0.4252263137706176\n",
      "ALL Completed!\n"
     ]
    }
   ],
   "source": [
    "test_percent=0.25\n",
    "batch_size=200\n",
    "learnrate=0.001\n",
    "countEpoch=500\n",
    "\n",
    "allfiles=readDir('Enc\\\\Enc.02')\n",
    "allfiles.sort()\n",
    "res_Prediction=[]\n",
    "for file in allfiles:\n",
    "    course_name=file[11:20]\n",
    "    code_size=file[21:23]\n",
    "#     percent=file[25:28]\n",
    "    res_thisCourse=[]\n",
    "    res_thisCourse.append(course_name)\n",
    "#     res_thisCourse.append(percent)\n",
    "    res_thisCourse.append(code_size)\n",
    "    print(course_name +'-'+code_size )\n",
    "    df=pd.read_csv(file)\n",
    "    x=df.iloc[:,0:-1]\n",
    "    x=x.values\n",
    "    \n",
    "    targets=df.iloc[:,-1]\n",
    "    ls_x,ls_test_x,ls_y,ls_testy = train_test_split(x,targets,test_size=test_percent)\n",
    "    \n",
    "    try:\n",
    "        ls_x,ls_y=KMeansSMOTE().fit_resample(ls_x,ls_y)\n",
    "    except BaseException:\n",
    "        continue\n",
    "    \n",
    "    train_input = torch.from_numpy(ls_x)\n",
    "    train_input = train_input.to(torch.float32).to(device)\n",
    "    train_target= torch.from_numpy(np.array(pd.get_dummies(pd.Series(ls_y))))\n",
    "    train_target = train_target.to(torch.float32).to(device)\n",
    "    \n",
    "    test_input = torch.from_numpy(ls_test_x)\n",
    "    test_target=torch.from_numpy(np.array(pd.get_dummies(pd.Series(ls_testy))))\n",
    "    test_input = test_input.to(torch.float32).to(device)\n",
    "    test_target = test_target.to(torch.float32).to(device)\n",
    "    \n",
    "    print(train_input.size(),train_target.size(),test_input.size(),test_target.size())\n",
    "    \n",
    "    countALLSamples = train_input.size()[0] \n",
    "    countFeatures = train_input.size()[1]\n",
    "    countTargets=test_target.size()[1]\n",
    "    \n",
    "    class MData(Dataset):\n",
    "        def __init__(self,x,y):\n",
    "            self.data=x\n",
    "            self._x=x\n",
    "            self._y=y\n",
    "        def __getitem__(self,index):\n",
    "            return self._x[index],self._y[index]\n",
    "        def __len__(self):\n",
    "            return len(self.data)\n",
    "    mydata=MData(train_input,train_target)\n",
    "    dataloader=DataLoader(mydata,batch_size=batch_size,shuffle=False,drop_last=False,num_workers=0)\n",
    "\n",
    "    class FNN(nn.Module):\n",
    "        def __init__(self, input_dim):\n",
    "            super(FNN, self).__init__()\n",
    "            self.net = nn.Sequential(\n",
    "                nn.Linear(input_dim, input_dim),\n",
    "                nn.ReLU(),\n",
    "                nn.Linear(input_dim, 512),\n",
    "                nn.ReLU(),\n",
    "                nn.Linear(512, 512),\n",
    "                nn.ReLU(),\n",
    "                nn.Linear(512, 256),\n",
    "                nn.ReLU(),\n",
    "                nn.Linear(256, 128),\n",
    "                nn.ReLU(),\n",
    "                nn.Linear(128, 64),\n",
    "                nn.ReLU(),\n",
    "                nn.Linear(64, countTargets),\n",
    "                nn.Softmax(dim=1)\n",
    "            )\n",
    "            self.criterion = nn.CrossEntropyLoss()\n",
    "        def forward(self, x):\n",
    "            return self.net(x)\n",
    "    \n",
    "    model=FNN(countFeatures)\n",
    "    model = model.to(device)\n",
    "    model.criterion = model.criterion.to(device)\n",
    "    \n",
    "    gc.collect()\n",
    "    torch.cuda.empty_cache()\n",
    "    optimizer = torch.optim.Adam(model.parameters(),lr=learnrate)\n",
    "    for epoch in range(countEpoch):\n",
    "        gc.collect()\n",
    "        torch.cuda.empty_cache()\n",
    "        for i,data in enumerate(dataloader):\n",
    "            x,y=data\n",
    "            yhat=model(x)\n",
    "            loss=model.criterion(yhat,y)\n",
    "            optimizer.zero_grad()\n",
    "            loss.backward()\n",
    "            optimizer.step()\n",
    "            gc.collect()\n",
    "            torch.cuda.empty_cache()\n",
    "        with torch.no_grad():\n",
    "            yhat=model(train_input)\n",
    "            allloss=model.criterion(yhat,train_target)\n",
    "            if(epoch%100==0):\n",
    "                print('Epoch '+str(epoch) + '.loss:'+ str(allloss.item()))\n",
    "    \n",
    "    test_y=model(test_input)\n",
    "    test_y=props_to_onehot(test_y)\n",
    "    test_target=test_target.cpu().numpy()\n",
    "   \n",
    "    res_thisCourse.append(sk.metrics.accuracy_score(test_target,test_y))\n",
    "    res_thisCourse.append(sk.metrics.precision_score(test_target,test_y,average='macro'))\n",
    "    res_thisCourse.append(sk.metrics.recall_score(test_target,test_y,average='macro'))\n",
    "    res_thisCourse.append(sk.metrics.f1_score(test_target,test_y,average='macro'))\n",
    "    print('Accuracy: ' + str(sk.metrics.accuracy_score(test_target,test_y)))\n",
    "    print('Precision: ' + str(sk.metrics.precision_score(test_target,test_y,average='macro')))\n",
    "    print('Recall: ' + str(sk.metrics.recall_score(test_target,test_y,average='macro')))\n",
    "    print('f1_score: ' + str(sk.metrics.f1_score(test_target,test_y,average='macro')))\n",
    "    res_Prediction.append(res_thisCourse)\n",
    "dfRes=pd.DataFrame(res_Prediction)\n",
    "dfRes.to_csv(\"OULA.Exp.Res\\\\Enc.KMeansSMOTE.Prediction.Res.csv\",index=False)\n",
    "print('ALL Completed!')"
   ]
  },
  {
   "cell_type": "code",
   "execution_count": null,
   "metadata": {},
   "outputs": [],
   "source": []
  },
  {
   "cell_type": "code",
   "execution_count": null,
   "metadata": {},
   "outputs": [],
   "source": []
  }
 ],
 "metadata": {
  "kernelspec": {
   "display_name": "Python 3",
   "language": "python",
   "name": "python3"
  },
  "language_info": {
   "codemirror_mode": {
    "name": "ipython",
    "version": 3
   },
   "file_extension": ".py",
   "mimetype": "text/x-python",
   "name": "python",
   "nbconvert_exporter": "python",
   "pygments_lexer": "ipython3",
   "version": "3.7.0"
  }
 },
 "nbformat": 4,
 "nbformat_minor": 2
}
